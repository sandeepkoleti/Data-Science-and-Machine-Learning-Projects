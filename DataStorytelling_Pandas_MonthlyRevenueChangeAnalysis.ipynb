{
 "cells": [
  {
   "cell_type": "code",
   "execution_count": null,
   "metadata": {
    "collapsed": true
   },
   "outputs": [],
   "source": [
    "# This python notebook compares revenue in two monthly reports and shows the plans that have a significant drop in revenue.\n",
    "\n",
    "import pandas as pd\n",
    "import numpy as np\n",
    "\n",
    "# Import two consecutive monthly reports to two dataframes\n",
    "df_old = pd.read_excel('Report1.xlsx', 'Detail')\n",
    "df_new = pd.read_excel('Report2.xlsx', 'Detail')\n",
    "\n",
    "# Create two new dataframes that contain active plans with atleast 1 participant\n",
    "df1 = df_old[(df_old['Plan Status']== 'Active')  & (df_old['Ppt Units'] > 0)]\n",
    "df2 = df_new[(df_new['Plan Status']== 'Active')  & (df_new['Ppt Units'] > 0)]\n",
    "\n",
    "# Convert datatype of Plan Num as int\n",
    "df1['Plan Num'] = df1['Plan Num'].astype(int)\n",
    "df2['Plan Num'] = df2['Plan Num'].astype(int)\n",
    "\n",
    "# Create new column 'PlanNumber' that is a copy of 'Plan Num'\n",
    "df1['PlanNumber'] = df1['Plan Num']\n",
    "df2['PlanNumber'] = df2['Plan Num']\n",
    "\n",
    "# Set the new 'PlanNumber' as index\n",
    "df1 = df1.set_index('PlanNumber')\n",
    "df2 = df2.set_index('PlanNumber')\n",
    "\n",
    "#Join two dataframes\n",
    "df_joined=df2.join(df1, how = 'outer', rsuffix='_').fillna(0)\n",
    "\n",
    "# Create a dataframe that shows the changes\n",
    "df2_changed = pd.DataFrame(df2['Plan Num'])\n",
    "df2_changed['Net_Revenue_change'] = (df_joined['Net_Revenue'] - df_joined['Net_Revenue_'])\n",
    "df2_changed['Net_Revenue_change%']= (df_joined['Net_Revenue'] - df_joined['Net_Revenue_'])/df_joined['Net_Revenue_']\n",
    "df2_changed['Gross_Revenue_change'] = (df_joined['Gross_Revenue'] - df_joined['Gross_Revenue_'])\n",
    "\n",
    "\n",
    "df2_significant_changed = df2_changed[(df2_changed['Net_Revenue_change%'] < -0.25)]\n",
    "\n",
    "\n",
    "## Export data to a new excel report!\n",
    "writer = pd.ExcelWriter('RevenueChangeReport.xlsx')\n",
    "df2.to_excel(writer, 'Report_New')\n",
    "df2_changed.to_excel(writer, 'Changed')\n",
    "df2_significant_changed.to_excel(writer, 'Changed Significantly')\n",
    "writer.save()\n"
   ]
  }
 ],
 "metadata": {
  "kernelspec": {
   "display_name": "Python 3",
   "language": "python",
   "name": "python3"
  },
  "language_info": {
   "codemirror_mode": {
    "name": "ipython",
    "version": 3
   },
   "file_extension": ".py",
   "mimetype": "text/x-python",
   "name": "python",
   "nbconvert_exporter": "python",
   "pygments_lexer": "ipython3",
   "version": "3.6.2"
  }
 },
 "nbformat": 4,
 "nbformat_minor": 2
}
