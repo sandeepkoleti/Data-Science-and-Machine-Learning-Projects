{
 "cells": [
  {
   "cell_type": "markdown",
   "metadata": {},
   "source": [
    "\n",
    "\n",
    "\n",
    "Objective: To develop a restaurant recommendation system that suggests top 5 restaurants based on user preferences and significant features\n",
    "\n",
    "Data Source: UCI Machine Learning Repository\n",
    "\n",
    "Data Description: There are 9 reports provided for this project. Of these 9 reports, 5 reports contain restaurant data, 4 reports contain user data and 1 report contains the rating data.\n",
    "\n",
    "Approach:\n",
    "\n",
    "**1) Exploratory data analysis: **\n",
    "Here I am computing descriptive statistics of each report and started identifying features are target variable\n",
    "\n",
    "**2) Data cleaning: **\n",
    "a) NaN Handling: The are many columns with missing values or '?'. I am replacing some of the missing features by average of the column or median. For categorical values, I am making few assumptions. For example, if parking column says '?' I am assuming it as 'No Parking' as more than 80% of all the parking column values are 'No Parking'.\n",
    "b) Univariate Analysis: Here I am plotting histograms to look for outliers and unusual spikes in the variance\n",
    "\n",
    "**3) Data Integration: **\n",
    "a) Here I am merging all 5 reports containing restaurant data into one dataframe, 4 reports containing customer data into one dataframe.\n",
    "b) Many features have values split into multiple rows. For example, the restaurant hours data has hours listed for each day into multiple rows. For these kind of scenarios, I am creating functions to collate all the related data for a given restaurant into 1 or 2 rows\n",
    " \n",
    "\n",
    "**4) Data reduction: **\n",
    "a) For this project, restaurant rating is most important variable. If the restaurants do not have rating data, I am not considering those restaurants. \n",
    "b) Some user features like height, weight, color are irrelevant to our analysis So I am performing data reduction to reduce these data points.\n",
    "\n",
    "**5) Data Transformation: **\n",
    "a) One-hot encoding: Restaurant cuisine values are categorical. So I am performing one-hot encoding to convert them to numbers\n",
    "b) Aggregation: I am performing row-wise summations for features that are more useful when they are aggregated.\n",
    "c) I am normailizing the data to address any issue of model being highly sensitive to scaling\n",
    "\n",
    "**5) Feature Engineering and Selection: **\n",
    "a) Coorelation Matrix: As there are high number of features(60+), we are plotting correlation matrix to identify features that correlate with the rating variable\n",
    "b) Scatter Matrix: I am plotting scatter matrix to find hidden patterns\n",
    "c) ANOVA: I would like to find the significant features based on the ANOVA generated\n",
    "\n",
    "**6) Model: **\n",
    "As the data is labeled data, we are using a supervised learning model. As the target variable is continous wer are using regressors\n",
    "\n",
    "Linear Regression: I would like to do Linear Regression as a benchmark and quickly calculate coefficients and understand significance.\n",
    "K-Nearest Neighbors: I would like to use kNN regressor as this is high dimensional data with many features\n",
    "\n",
    "**7) Model Evaluation: **\n",
    "I will evaluate the model by calculating accuracy scores of the predicted variable."
   ]
  },
  {
   "cell_type": "markdown",
   "metadata": {},
   "source": [
    "**Step 1: Exploratory data analysis Begins!**"
   ]
  },
  {
   "cell_type": "code",
   "execution_count": 1,
   "metadata": {
    "collapsed": true
   },
   "outputs": [
    {
     "ename": "UnicodeDecodeError",
     "evalue": "'utf-8' codec can't decode byte 0xf3 in position 7: invalid continuation byte",
     "output_type": "error",
     "traceback": [
      "\u001b[1;31m---------------------------------------------------------------------------\u001b[0m",
      "\u001b[1;31mUnicodeDecodeError\u001b[0m                        Traceback (most recent call last)",
      "\u001b[1;32mpandas/_libs/parsers.pyx\u001b[0m in \u001b[0;36mpandas._libs.parsers.TextReader._convert_tokens (pandas\\_libs\\parsers.c:14858)\u001b[1;34m()\u001b[0m\n",
      "\u001b[1;32mpandas/_libs/parsers.pyx\u001b[0m in \u001b[0;36mpandas._libs.parsers.TextReader._convert_with_dtype (pandas\\_libs\\parsers.c:17119)\u001b[1;34m()\u001b[0m\n",
      "\u001b[1;32mpandas/_libs/parsers.pyx\u001b[0m in \u001b[0;36mpandas._libs.parsers.TextReader._string_convert (pandas\\_libs\\parsers.c:17347)\u001b[1;34m()\u001b[0m\n",
      "\u001b[1;32mpandas/_libs/parsers.pyx\u001b[0m in \u001b[0;36mpandas._libs.parsers._string_box_utf8 (pandas\\_libs\\parsers.c:23041)\u001b[1;34m()\u001b[0m\n",
      "\u001b[1;31mUnicodeDecodeError\u001b[0m: 'utf-8' codec can't decode byte 0xf3 in position 7: invalid continuation byte",
      "\nDuring handling of the above exception, another exception occurred:\n",
      "\u001b[1;31mUnicodeDecodeError\u001b[0m                        Traceback (most recent call last)",
      "\u001b[1;32m<ipython-input-1-070f49daff66>\u001b[0m in \u001b[0;36m<module>\u001b[1;34m()\u001b[0m\n\u001b[0;32m      6\u001b[0m \u001b[0mres_hours\u001b[0m \u001b[1;33m=\u001b[0m \u001b[0mpd\u001b[0m\u001b[1;33m.\u001b[0m\u001b[0mread_csv\u001b[0m\u001b[1;33m(\u001b[0m\u001b[1;34m'chefmozhours4.csv'\u001b[0m\u001b[1;33m)\u001b[0m\u001b[1;33m\u001b[0m\u001b[0m\n\u001b[0;32m      7\u001b[0m \u001b[0mres_parking\u001b[0m \u001b[1;33m=\u001b[0m \u001b[0mpd\u001b[0m\u001b[1;33m.\u001b[0m\u001b[0mread_csv\u001b[0m\u001b[1;33m(\u001b[0m\u001b[1;34m'chefmozparking.csv'\u001b[0m\u001b[1;33m)\u001b[0m\u001b[1;33m\u001b[0m\u001b[0m\n\u001b[1;32m----> 8\u001b[1;33m \u001b[0mres_geo\u001b[0m \u001b[1;33m=\u001b[0m \u001b[0mpd\u001b[0m\u001b[1;33m.\u001b[0m\u001b[0mread_csv\u001b[0m\u001b[1;33m(\u001b[0m\u001b[1;34m'geoplaces2.csv'\u001b[0m\u001b[1;33m)\u001b[0m\u001b[1;33m\u001b[0m\u001b[0m\n\u001b[0m\u001b[0;32m      9\u001b[0m \u001b[0muser_cuisine\u001b[0m \u001b[1;33m=\u001b[0m \u001b[0mpd\u001b[0m\u001b[1;33m.\u001b[0m\u001b[0mread_csv\u001b[0m\u001b[1;33m(\u001b[0m\u001b[1;34m'usercuisine.csv'\u001b[0m\u001b[1;33m)\u001b[0m\u001b[1;33m\u001b[0m\u001b[0m\n\u001b[0;32m     10\u001b[0m \u001b[0muser_payment\u001b[0m \u001b[1;33m=\u001b[0m \u001b[0mpd\u001b[0m\u001b[1;33m.\u001b[0m\u001b[0mread_csv\u001b[0m\u001b[1;33m(\u001b[0m\u001b[1;34m'userpayment.csv'\u001b[0m\u001b[1;33m)\u001b[0m\u001b[1;33m\u001b[0m\u001b[0m\n",
      "\u001b[1;32mC:\\Program Files (x86)\\Microsoft Visual Studio\\Shared\\Anaconda3_64\\lib\\site-packages\\pandas\\io\\parsers.py\u001b[0m in \u001b[0;36mparser_f\u001b[1;34m(filepath_or_buffer, sep, delimiter, header, names, index_col, usecols, squeeze, prefix, mangle_dupe_cols, dtype, engine, converters, true_values, false_values, skipinitialspace, skiprows, nrows, na_values, keep_default_na, na_filter, verbose, skip_blank_lines, parse_dates, infer_datetime_format, keep_date_col, date_parser, dayfirst, iterator, chunksize, compression, thousands, decimal, lineterminator, quotechar, quoting, escapechar, comment, encoding, dialect, tupleize_cols, error_bad_lines, warn_bad_lines, skipfooter, skip_footer, doublequote, delim_whitespace, as_recarray, compact_ints, use_unsigned, low_memory, buffer_lines, memory_map, float_precision)\u001b[0m\n\u001b[0;32m    653\u001b[0m                     skip_blank_lines=skip_blank_lines)\n\u001b[0;32m    654\u001b[0m \u001b[1;33m\u001b[0m\u001b[0m\n\u001b[1;32m--> 655\u001b[1;33m         \u001b[1;32mreturn\u001b[0m \u001b[0m_read\u001b[0m\u001b[1;33m(\u001b[0m\u001b[0mfilepath_or_buffer\u001b[0m\u001b[1;33m,\u001b[0m \u001b[0mkwds\u001b[0m\u001b[1;33m)\u001b[0m\u001b[1;33m\u001b[0m\u001b[0m\n\u001b[0m\u001b[0;32m    656\u001b[0m \u001b[1;33m\u001b[0m\u001b[0m\n\u001b[0;32m    657\u001b[0m     \u001b[0mparser_f\u001b[0m\u001b[1;33m.\u001b[0m\u001b[0m__name__\u001b[0m \u001b[1;33m=\u001b[0m \u001b[0mname\u001b[0m\u001b[1;33m\u001b[0m\u001b[0m\n",
      "\u001b[1;32mC:\\Program Files (x86)\\Microsoft Visual Studio\\Shared\\Anaconda3_64\\lib\\site-packages\\pandas\\io\\parsers.py\u001b[0m in \u001b[0;36m_read\u001b[1;34m(filepath_or_buffer, kwds)\u001b[0m\n\u001b[0;32m    409\u001b[0m \u001b[1;33m\u001b[0m\u001b[0m\n\u001b[0;32m    410\u001b[0m     \u001b[1;32mtry\u001b[0m\u001b[1;33m:\u001b[0m\u001b[1;33m\u001b[0m\u001b[0m\n\u001b[1;32m--> 411\u001b[1;33m         \u001b[0mdata\u001b[0m \u001b[1;33m=\u001b[0m \u001b[0mparser\u001b[0m\u001b[1;33m.\u001b[0m\u001b[0mread\u001b[0m\u001b[1;33m(\u001b[0m\u001b[0mnrows\u001b[0m\u001b[1;33m)\u001b[0m\u001b[1;33m\u001b[0m\u001b[0m\n\u001b[0m\u001b[0;32m    412\u001b[0m     \u001b[1;32mfinally\u001b[0m\u001b[1;33m:\u001b[0m\u001b[1;33m\u001b[0m\u001b[0m\n\u001b[0;32m    413\u001b[0m         \u001b[0mparser\u001b[0m\u001b[1;33m.\u001b[0m\u001b[0mclose\u001b[0m\u001b[1;33m(\u001b[0m\u001b[1;33m)\u001b[0m\u001b[1;33m\u001b[0m\u001b[0m\n",
      "\u001b[1;32mC:\\Program Files (x86)\\Microsoft Visual Studio\\Shared\\Anaconda3_64\\lib\\site-packages\\pandas\\io\\parsers.py\u001b[0m in \u001b[0;36mread\u001b[1;34m(self, nrows)\u001b[0m\n\u001b[0;32m   1003\u001b[0m                 \u001b[1;32mraise\u001b[0m \u001b[0mValueError\u001b[0m\u001b[1;33m(\u001b[0m\u001b[1;34m'skipfooter not supported for iteration'\u001b[0m\u001b[1;33m)\u001b[0m\u001b[1;33m\u001b[0m\u001b[0m\n\u001b[0;32m   1004\u001b[0m \u001b[1;33m\u001b[0m\u001b[0m\n\u001b[1;32m-> 1005\u001b[1;33m         \u001b[0mret\u001b[0m \u001b[1;33m=\u001b[0m \u001b[0mself\u001b[0m\u001b[1;33m.\u001b[0m\u001b[0m_engine\u001b[0m\u001b[1;33m.\u001b[0m\u001b[0mread\u001b[0m\u001b[1;33m(\u001b[0m\u001b[0mnrows\u001b[0m\u001b[1;33m)\u001b[0m\u001b[1;33m\u001b[0m\u001b[0m\n\u001b[0m\u001b[0;32m   1006\u001b[0m \u001b[1;33m\u001b[0m\u001b[0m\n\u001b[0;32m   1007\u001b[0m         \u001b[1;32mif\u001b[0m \u001b[0mself\u001b[0m\u001b[1;33m.\u001b[0m\u001b[0moptions\u001b[0m\u001b[1;33m.\u001b[0m\u001b[0mget\u001b[0m\u001b[1;33m(\u001b[0m\u001b[1;34m'as_recarray'\u001b[0m\u001b[1;33m)\u001b[0m\u001b[1;33m:\u001b[0m\u001b[1;33m\u001b[0m\u001b[0m\n",
      "\u001b[1;32mC:\\Program Files (x86)\\Microsoft Visual Studio\\Shared\\Anaconda3_64\\lib\\site-packages\\pandas\\io\\parsers.py\u001b[0m in \u001b[0;36mread\u001b[1;34m(self, nrows)\u001b[0m\n\u001b[0;32m   1746\u001b[0m     \u001b[1;32mdef\u001b[0m \u001b[0mread\u001b[0m\u001b[1;33m(\u001b[0m\u001b[0mself\u001b[0m\u001b[1;33m,\u001b[0m \u001b[0mnrows\u001b[0m\u001b[1;33m=\u001b[0m\u001b[1;32mNone\u001b[0m\u001b[1;33m)\u001b[0m\u001b[1;33m:\u001b[0m\u001b[1;33m\u001b[0m\u001b[0m\n\u001b[0;32m   1747\u001b[0m         \u001b[1;32mtry\u001b[0m\u001b[1;33m:\u001b[0m\u001b[1;33m\u001b[0m\u001b[0m\n\u001b[1;32m-> 1748\u001b[1;33m             \u001b[0mdata\u001b[0m \u001b[1;33m=\u001b[0m \u001b[0mself\u001b[0m\u001b[1;33m.\u001b[0m\u001b[0m_reader\u001b[0m\u001b[1;33m.\u001b[0m\u001b[0mread\u001b[0m\u001b[1;33m(\u001b[0m\u001b[0mnrows\u001b[0m\u001b[1;33m)\u001b[0m\u001b[1;33m\u001b[0m\u001b[0m\n\u001b[0m\u001b[0;32m   1749\u001b[0m         \u001b[1;32mexcept\u001b[0m \u001b[0mStopIteration\u001b[0m\u001b[1;33m:\u001b[0m\u001b[1;33m\u001b[0m\u001b[0m\n\u001b[0;32m   1750\u001b[0m             \u001b[1;32mif\u001b[0m \u001b[0mself\u001b[0m\u001b[1;33m.\u001b[0m\u001b[0m_first_chunk\u001b[0m\u001b[1;33m:\u001b[0m\u001b[1;33m\u001b[0m\u001b[0m\n",
      "\u001b[1;32mpandas/_libs/parsers.pyx\u001b[0m in \u001b[0;36mpandas._libs.parsers.TextReader.read (pandas\\_libs\\parsers.c:10862)\u001b[1;34m()\u001b[0m\n",
      "\u001b[1;32mpandas/_libs/parsers.pyx\u001b[0m in \u001b[0;36mpandas._libs.parsers.TextReader._read_low_memory (pandas\\_libs\\parsers.c:11138)\u001b[1;34m()\u001b[0m\n",
      "\u001b[1;32mpandas/_libs/parsers.pyx\u001b[0m in \u001b[0;36mpandas._libs.parsers.TextReader._read_rows (pandas\\_libs\\parsers.c:12175)\u001b[1;34m()\u001b[0m\n",
      "\u001b[1;32mpandas/_libs/parsers.pyx\u001b[0m in \u001b[0;36mpandas._libs.parsers.TextReader._convert_column_data (pandas\\_libs\\parsers.c:14136)\u001b[1;34m()\u001b[0m\n",
      "\u001b[1;32mpandas/_libs/parsers.pyx\u001b[0m in \u001b[0;36mpandas._libs.parsers.TextReader._convert_tokens (pandas\\_libs\\parsers.c:14972)\u001b[1;34m()\u001b[0m\n",
      "\u001b[1;32mpandas/_libs/parsers.pyx\u001b[0m in \u001b[0;36mpandas._libs.parsers.TextReader._convert_with_dtype (pandas\\_libs\\parsers.c:17119)\u001b[1;34m()\u001b[0m\n",
      "\u001b[1;32mpandas/_libs/parsers.pyx\u001b[0m in \u001b[0;36mpandas._libs.parsers.TextReader._string_convert (pandas\\_libs\\parsers.c:17347)\u001b[1;34m()\u001b[0m\n",
      "\u001b[1;32mpandas/_libs/parsers.pyx\u001b[0m in \u001b[0;36mpandas._libs.parsers._string_box_utf8 (pandas\\_libs\\parsers.c:23041)\u001b[1;34m()\u001b[0m\n",
      "\u001b[1;31mUnicodeDecodeError\u001b[0m: 'utf-8' codec can't decode byte 0xf3 in position 7: invalid continuation byte"
     ]
    }
   ],
   "source": [
    "import pandas as pd\n",
    "import numpy as np\n",
    "\n",
    "res_payment = pd.read_csv('chefmozaccepts.csv')\n",
    "res_cuisine = pd.read_csv('chefmozcuisine.csv')\n",
    "res_hours = pd.read_csv('chefmozhours4.csv')\n",
    "res_parking = pd.read_csv('chefmozparking.csv')\n",
    "res_geo = pd.read_csv('geoplaces2.csv')\n",
    "user_cuisine = pd.read_csv('usercuisine.csv')\n",
    "user_payment = pd.read_csv('userpayment.csv')\n",
    "user_profile = pd.read_csv('userprofile.csv')\n",
    "final_rating = pd.read_csv('rating_final.csv')"
   ]
  },
  {
   "cell_type": "code",
   "execution_count": 2,
   "metadata": {},
   "outputs": [
    {
     "name": "stdout",
     "output_type": "stream",
     "text": [
      "   placeID             Rpayment\n",
      "0   135110                 cash\n",
      "1   135110                 VISA\n",
      "2   135110  MasterCard-Eurocard\n",
      "Total number of rows in res_payment: 1314.\n",
      "Number of unique restaurants in res_payment: 615.\n",
      "\n",
      "\n",
      "   placeID        Rcuisine\n",
      "0   135110         Spanish\n",
      "1   135109         Italian\n",
      "2   135107  Latin_American\n",
      "Total number of rows in res_payment: 916.\n",
      "Number of unique restaurants in res_payment: 769.\n",
      "\n",
      "\n",
      "   placeID         hours                  days\n",
      "0   135111  00:00-23:30;  Mon;Tue;Wed;Thu;Fri;\n",
      "1   135111  00:00-23:30;                  Sat;\n",
      "2   135111  00:00-23:30;                  Sun;\n",
      "Total number of rows in res_payment: 2339.\n",
      "Number of unique restaurants in res_payment: 694.\n",
      "\n",
      "\n",
      "   placeID parking_lot\n",
      "0   135111      public\n",
      "1   135110        none\n",
      "2   135109        none\n",
      "Total number of rows in res_payment: 702.\n",
      "Number of unique restaurants in res_payment: 675.\n",
      "\n",
      "\n",
      "   placeID   latitude   longitude  \\\n",
      "0   134999  18.915421  -99.184871   \n",
      "1   132825  22.147392 -100.983092   \n",
      "2   135106  22.149709 -100.976093   \n",
      "\n",
      "                                      the_geom_meter  \\\n",
      "0  0101000020957F000088568DE356715AC138C0A525FC46...   \n",
      "1  0101000020957F00001AD016568C4858C1243261274BA5...   \n",
      "2  0101000020957F0000649D6F21634858C119AE9BF528A3...   \n",
      "\n",
      "                         name                                 address  \\\n",
      "0             Kiku Cuernavaca                              Revolucion   \n",
      "1             puesto de tacos  esquina santos degollado y leon guzman   \n",
      "2  El Rinc�n de San Francisco                         Universidad 169   \n",
      "\n",
      "              city            state country fax      ...        \\\n",
      "0       Cuernavaca          Morelos  Mexico   ?      ...         \n",
      "1           s.l.p.           s.l.p.  mexico   ?      ...         \n",
      "2  San Luis Potosi  San Luis Potosi  Mexico   ?      ...         \n",
      "\n",
      "             alcohol smoking_area dress_code     accessibility   price  \\\n",
      "0  No_Alcohol_Served         none   informal  no_accessibility  medium   \n",
      "1  No_Alcohol_Served         none   informal        completely     low   \n",
      "2          Wine-Beer  only at bar   informal         partially  medium   \n",
      "\n",
      "                     url Rambience franchise    area other_services  \n",
      "0  kikucuernavaca.com.mx  familiar         f  closed           none  \n",
      "1                      ?  familiar         f    open           none  \n",
      "2                      ?  familiar         f    open           none  \n",
      "\n",
      "[3 rows x 21 columns]\n",
      "Total number of rows in res_payment: 130.\n",
      "Number of unique restaurants in res_payment: 130.\n"
     ]
    }
   ],
   "source": [
    "print(res_payment.head(3))\n",
    "print(\"Total number of rows in res_payment: {}.\".format(res_payment.shape[0]))\n",
    "print(\"Number of unique restaurants in res_payment: {}.\".format(res_payment['placeID'].nunique()))\n",
    "print('\\n')\n",
    "print(res_cuisine.head(3))\n",
    "print(\"Total number of rows in res_payment: {}.\".format(res_cuisine.shape[0]))\n",
    "print(\"Number of unique restaurants in res_payment: {}.\".format(res_cuisine['placeID'].nunique()))\n",
    "print('\\n')\n",
    "print(res_hours.head(3))\n",
    "print(\"Total number of rows in res_payment: {}.\".format(res_hours.shape[0]))\n",
    "print(\"Number of unique restaurants in res_payment: {}.\".format(res_hours['placeID'].nunique()))\n",
    "print('\\n')\n",
    "print(res_parking.head(3))\n",
    "print(\"Total number of rows in res_payment: {}.\".format(res_parking.shape[0]))\n",
    "print(\"Number of unique restaurants in res_payment: {}.\".format(res_parking['placeID'].nunique()))\n",
    "print('\\n')\n",
    "print(res_geo.head(3))\n",
    "print(\"Total number of rows in res_payment: {}.\".format(res_geo.shape[0]))\n",
    "print(\"Number of unique restaurants in res_payment: {}.\".format(res_geo['placeID'].nunique()))"
   ]
  },
  {
   "cell_type": "markdown",
   "metadata": {},
   "source": [
    "We can see from the above data that each of the dataframe contains multiple rows for a given place id. So we are creating a function that merges multiple row values into single value for a given place id."
   ]
  },
  {
   "cell_type": "code",
   "execution_count": 3,
   "metadata": {
    "collapsed": true
   },
   "outputs": [],
   "source": [
    "def create_resdictdf(res_df):\n",
    "    merge_column = res_df.columns[1]\n",
    "    placeID_list = res_df['placeID'].unique()\n",
    "    res_col_dict = {}\n",
    "    for placeID in placeID_list:\n",
    "        res_col_list = res_df[merge_column][res_df['placeID']==placeID].tolist()\n",
    "        res_col_dict[placeID] = res_col_list\n",
    "\n",
    "    res_dictdf = pd.DataFrame(columns= res_df.columns)\n",
    "    for key in res_col_dict:\n",
    "        res_dictdf = res_dictdf.append({'placeID':key, merge_column: res_col_dict[key]}, ignore_index = True)\n",
    "    \n",
    "    res_dictdf['placeID'] = res_dictdf['placeID'].astype('int64')\n",
    "    return ''"
   ]
  },
  {
   "cell_type": "code",
   "execution_count": 4,
   "metadata": {},
   "outputs": [
    {
     "name": "stdout",
     "output_type": "stream",
     "text": [
      "   placeID                                           Rpayment\n",
      "0   135110  [cash, VISA, MasterCard-Eurocard, American_Exp...\n",
      "1   135109                                             [cash]\n",
      "2   135107  [cash, VISA, MasterCard-Eurocard, American_Exp...\n",
      "   placeID parking_lot\n",
      "0   135111    [public]\n",
      "1   135110      [none]\n",
      "2   135109      [none]\n"
     ]
    }
   ],
   "source": [
    "res_payment1 = create_resdictdf(res_payment)\n",
    "print(res_payment1.head(3))\n",
    "res_parking1 = create_resdictdf(res_parking)\n",
    "print(res_parking1.head(3))"
   ]
  },
  {
   "cell_type": "code",
   "execution_count": 5,
   "metadata": {},
   "outputs": [
    {
     "name": "stdout",
     "output_type": "stream",
     "text": [
      "   placeID                                         days_hours\n",
      "0   135111  [[Mon;Tue;Wed;Thu;Fri;]:[00:00-23:30;], [Sat;]...\n",
      "1   135110  [[Mon;Tue;Wed;Thu;Fri;]:[08:00-19:00;], [Sat;]...\n",
      "2   135109  [[Mon;Tue;Wed;Thu;Fri;]:[08:00-21:00;], [Sat;]...\n"
     ]
    }
   ],
   "source": [
    "# Doing it similarly for hours data. The hours data differs to that of parking or cuisine or payment.\n",
    "# So we are writing a new function here.\n",
    "res_hours['days_hours'] = '[' + res_hours['days'] + ']:[' + res_hours['hours'] + ']'\n",
    "placeID_list = res_hours['placeID'].unique()\n",
    "res_hours_dict = {}\n",
    "for placeID in placeID_list:\n",
    "    res_hours_list = res_hours['days_hours'][res_hours['placeID']==placeID].tolist()\n",
    "    res_hours_dict[placeID] = res_hours_list\n",
    "    \n",
    "res_hours1 = pd.DataFrame(columns= ['placeID', 'days_hours'])\n",
    "for key in res_hours_dict:\n",
    "    res_hours1 = res_hours1.append({'placeID':key, 'days_hours': res_hours_dict[key]}, ignore_index = True)\n",
    "\n",
    "res_hours1['placeID'] = res_hours1['placeID'].astype('int64') \n",
    "print(res_hours1.head(3))"
   ]
  },
  {
   "cell_type": "markdown",
   "metadata": {},
   "source": [
    "Now we have merged all the rows for each restaurant data file for a given placeID.\n",
    "\n",
    "When we combine all the 5 data files we can calculate the total number of restuarants.\n"
   ]
  },
  {
   "cell_type": "code",
   "execution_count": 6,
   "metadata": {},
   "outputs": [
    {
     "name": "stdout",
     "output_type": "stream",
     "text": [
      "Total number of restaurants 938.\n"
     ]
    }
   ],
   "source": [
    "total_no_restuarants = res_payment['placeID']\n",
    "total_no_restuarants = total_no_restuarants.append([res_cuisine['placeID'],\n",
    "                                                    res_hours['placeID'],\n",
    "                                                    res_parking['placeID'], \n",
    "                                                    res_geo['placeID']])\n",
    "total_no_restuarants = total_no_restuarants.drop_duplicates()\n",
    "print(\"Total number of restaurants {}.\".format(len(total_no_restuarants)))"
   ]
  },
  {
   "cell_type": "markdown",
   "metadata": {},
   "source": [
    "Merging all restaurant data into one dataframe"
   ]
  },
  {
   "cell_type": "code",
   "execution_count": 7,
   "metadata": {},
   "outputs": [
    {
     "name": "stdout",
     "output_type": "stream",
     "text": [
      "    placeID\n",
      "0    135110\n",
      "5    135109\n",
      "6    135107\n",
      "11   135106\n",
      "14   135105\n"
     ]
    }
   ],
   "source": [
    "res_total = pd.DataFrame(total_no_restuarants)\n",
    "print(res_total.head())"
   ]
  },
  {
   "cell_type": "code",
   "execution_count": 8,
   "metadata": {},
   "outputs": [
    {
     "data": {
      "text/html": [
       "<div>\n",
       "<style scoped>\n",
       "    .dataframe tbody tr th:only-of-type {\n",
       "        vertical-align: middle;\n",
       "    }\n",
       "\n",
       "    .dataframe tbody tr th {\n",
       "        vertical-align: top;\n",
       "    }\n",
       "\n",
       "    .dataframe thead th {\n",
       "        text-align: right;\n",
       "    }\n",
       "</style>\n",
       "<table border=\"1\" class=\"dataframe\">\n",
       "  <thead>\n",
       "    <tr style=\"text-align: right;\">\n",
       "      <th></th>\n",
       "      <th>placeID</th>\n",
       "    </tr>\n",
       "  </thead>\n",
       "  <tbody>\n",
       "    <tr>\n",
       "      <th>0</th>\n",
       "      <td>135110</td>\n",
       "    </tr>\n",
       "    <tr>\n",
       "      <th>1</th>\n",
       "      <td>135109</td>\n",
       "    </tr>\n",
       "    <tr>\n",
       "      <th>2</th>\n",
       "      <td>135107</td>\n",
       "    </tr>\n",
       "    <tr>\n",
       "      <th>3</th>\n",
       "      <td>135106</td>\n",
       "    </tr>\n",
       "    <tr>\n",
       "      <th>4</th>\n",
       "      <td>135105</td>\n",
       "    </tr>\n",
       "  </tbody>\n",
       "</table>\n",
       "</div>"
      ],
      "text/plain": [
       "   placeID\n",
       "0   135110\n",
       "1   135109\n",
       "2   135107\n",
       "3   135106\n",
       "4   135105"
      ]
     },
     "execution_count": 8,
     "metadata": {},
     "output_type": "execute_result"
    }
   ],
   "source": [
    "res_total = res_total.reset_index(drop=True)\n",
    "res_total.head()"
   ]
  },
  {
   "cell_type": "code",
   "execution_count": 9,
   "metadata": {},
   "outputs": [
    {
     "data": {
      "text/html": [
       "<div>\n",
       "<style scoped>\n",
       "    .dataframe tbody tr th:only-of-type {\n",
       "        vertical-align: middle;\n",
       "    }\n",
       "\n",
       "    .dataframe tbody tr th {\n",
       "        vertical-align: top;\n",
       "    }\n",
       "\n",
       "    .dataframe thead th {\n",
       "        text-align: right;\n",
       "    }\n",
       "</style>\n",
       "<table border=\"1\" class=\"dataframe\">\n",
       "  <thead>\n",
       "    <tr style=\"text-align: right;\">\n",
       "      <th></th>\n",
       "      <th>placeID</th>\n",
       "      <th>Rcuisine_Afghan</th>\n",
       "      <th>Rcuisine_African</th>\n",
       "      <th>Rcuisine_American</th>\n",
       "      <th>Rcuisine_Armenian</th>\n",
       "      <th>Rcuisine_Asian</th>\n",
       "      <th>Rcuisine_Bagels</th>\n",
       "      <th>Rcuisine_Bakery</th>\n",
       "      <th>Rcuisine_Bar</th>\n",
       "      <th>Rcuisine_Bar_Pub_Brewery</th>\n",
       "      <th>...</th>\n",
       "      <th>Rcuisine_Soup</th>\n",
       "      <th>Rcuisine_Southern</th>\n",
       "      <th>Rcuisine_Southwestern</th>\n",
       "      <th>Rcuisine_Spanish</th>\n",
       "      <th>Rcuisine_Steaks</th>\n",
       "      <th>Rcuisine_Sushi</th>\n",
       "      <th>Rcuisine_Thai</th>\n",
       "      <th>Rcuisine_Turkish</th>\n",
       "      <th>Rcuisine_Vegetarian</th>\n",
       "      <th>Rcuisine_Vietnamese</th>\n",
       "    </tr>\n",
       "  </thead>\n",
       "  <tbody>\n",
       "    <tr>\n",
       "      <th>0</th>\n",
       "      <td>132001</td>\n",
       "      <td>0</td>\n",
       "      <td>0</td>\n",
       "      <td>0</td>\n",
       "      <td>0</td>\n",
       "      <td>0</td>\n",
       "      <td>0</td>\n",
       "      <td>0</td>\n",
       "      <td>0</td>\n",
       "      <td>0</td>\n",
       "      <td>...</td>\n",
       "      <td>0</td>\n",
       "      <td>0</td>\n",
       "      <td>0</td>\n",
       "      <td>0</td>\n",
       "      <td>0</td>\n",
       "      <td>0</td>\n",
       "      <td>0</td>\n",
       "      <td>0</td>\n",
       "      <td>0</td>\n",
       "      <td>0</td>\n",
       "    </tr>\n",
       "    <tr>\n",
       "      <th>1</th>\n",
       "      <td>132002</td>\n",
       "      <td>0</td>\n",
       "      <td>0</td>\n",
       "      <td>0</td>\n",
       "      <td>0</td>\n",
       "      <td>0</td>\n",
       "      <td>0</td>\n",
       "      <td>0</td>\n",
       "      <td>0</td>\n",
       "      <td>0</td>\n",
       "      <td>...</td>\n",
       "      <td>0</td>\n",
       "      <td>0</td>\n",
       "      <td>0</td>\n",
       "      <td>0</td>\n",
       "      <td>0</td>\n",
       "      <td>0</td>\n",
       "      <td>0</td>\n",
       "      <td>0</td>\n",
       "      <td>0</td>\n",
       "      <td>0</td>\n",
       "    </tr>\n",
       "    <tr>\n",
       "      <th>2</th>\n",
       "      <td>132003</td>\n",
       "      <td>0</td>\n",
       "      <td>0</td>\n",
       "      <td>0</td>\n",
       "      <td>0</td>\n",
       "      <td>0</td>\n",
       "      <td>0</td>\n",
       "      <td>0</td>\n",
       "      <td>0</td>\n",
       "      <td>0</td>\n",
       "      <td>...</td>\n",
       "      <td>0</td>\n",
       "      <td>0</td>\n",
       "      <td>0</td>\n",
       "      <td>0</td>\n",
       "      <td>0</td>\n",
       "      <td>0</td>\n",
       "      <td>0</td>\n",
       "      <td>0</td>\n",
       "      <td>0</td>\n",
       "      <td>0</td>\n",
       "    </tr>\n",
       "    <tr>\n",
       "      <th>3</th>\n",
       "      <td>132004</td>\n",
       "      <td>0</td>\n",
       "      <td>0</td>\n",
       "      <td>0</td>\n",
       "      <td>0</td>\n",
       "      <td>0</td>\n",
       "      <td>0</td>\n",
       "      <td>0</td>\n",
       "      <td>0</td>\n",
       "      <td>0</td>\n",
       "      <td>...</td>\n",
       "      <td>0</td>\n",
       "      <td>0</td>\n",
       "      <td>0</td>\n",
       "      <td>0</td>\n",
       "      <td>0</td>\n",
       "      <td>0</td>\n",
       "      <td>0</td>\n",
       "      <td>0</td>\n",
       "      <td>0</td>\n",
       "      <td>0</td>\n",
       "    </tr>\n",
       "    <tr>\n",
       "      <th>4</th>\n",
       "      <td>132005</td>\n",
       "      <td>0</td>\n",
       "      <td>0</td>\n",
       "      <td>0</td>\n",
       "      <td>0</td>\n",
       "      <td>0</td>\n",
       "      <td>0</td>\n",
       "      <td>0</td>\n",
       "      <td>0</td>\n",
       "      <td>0</td>\n",
       "      <td>...</td>\n",
       "      <td>0</td>\n",
       "      <td>0</td>\n",
       "      <td>0</td>\n",
       "      <td>0</td>\n",
       "      <td>0</td>\n",
       "      <td>0</td>\n",
       "      <td>0</td>\n",
       "      <td>0</td>\n",
       "      <td>0</td>\n",
       "      <td>0</td>\n",
       "    </tr>\n",
       "  </tbody>\n",
       "</table>\n",
       "<p>5 rows × 60 columns</p>\n",
       "</div>"
      ],
      "text/plain": [
       "   placeID  Rcuisine_Afghan  Rcuisine_African  Rcuisine_American  \\\n",
       "0   132001                0                 0                  0   \n",
       "1   132002                0                 0                  0   \n",
       "2   132003                0                 0                  0   \n",
       "3   132004                0                 0                  0   \n",
       "4   132005                0                 0                  0   \n",
       "\n",
       "   Rcuisine_Armenian  Rcuisine_Asian  Rcuisine_Bagels  Rcuisine_Bakery  \\\n",
       "0                  0               0                0                0   \n",
       "1                  0               0                0                0   \n",
       "2                  0               0                0                0   \n",
       "3                  0               0                0                0   \n",
       "4                  0               0                0                0   \n",
       "\n",
       "   Rcuisine_Bar  Rcuisine_Bar_Pub_Brewery         ...           Rcuisine_Soup  \\\n",
       "0             0                         0         ...                       0   \n",
       "1             0                         0         ...                       0   \n",
       "2             0                         0         ...                       0   \n",
       "3             0                         0         ...                       0   \n",
       "4             0                         0         ...                       0   \n",
       "\n",
       "   Rcuisine_Southern  Rcuisine_Southwestern  Rcuisine_Spanish  \\\n",
       "0                  0                      0                 0   \n",
       "1                  0                      0                 0   \n",
       "2                  0                      0                 0   \n",
       "3                  0                      0                 0   \n",
       "4                  0                      0                 0   \n",
       "\n",
       "   Rcuisine_Steaks  Rcuisine_Sushi  Rcuisine_Thai  Rcuisine_Turkish  \\\n",
       "0                0               0              0                 0   \n",
       "1                0               0              0                 0   \n",
       "2                0               0              0                 0   \n",
       "3                0               0              0                 0   \n",
       "4                0               0              0                 0   \n",
       "\n",
       "   Rcuisine_Vegetarian  Rcuisine_Vietnamese  \n",
       "0                    0                    0  \n",
       "1                    0                    0  \n",
       "2                    0                    0  \n",
       "3                    0                    0  \n",
       "4                    0                    0  \n",
       "\n",
       "[5 rows x 60 columns]"
      ]
     },
     "execution_count": 9,
     "metadata": {},
     "output_type": "execute_result"
    }
   ],
   "source": [
    "res_cuisine_dummy = pd.get_dummies(res_cuisine,columns=['Rcuisine'])\n",
    "res_cuisine_dummy = res_cuisine_dummy.groupby('placeID',as_index=False).sum()\n",
    "res_cuisine_dummy.head()"
   ]
  },
  {
   "cell_type": "code",
   "execution_count": 10,
   "metadata": {
    "scrolled": true
   },
   "outputs": [
    {
     "data": {
      "text/html": [
       "<div>\n",
       "<style scoped>\n",
       "    .dataframe tbody tr th:only-of-type {\n",
       "        vertical-align: middle;\n",
       "    }\n",
       "\n",
       "    .dataframe tbody tr th {\n",
       "        vertical-align: top;\n",
       "    }\n",
       "\n",
       "    .dataframe thead th {\n",
       "        text-align: right;\n",
       "    }\n",
       "</style>\n",
       "<table border=\"1\" class=\"dataframe\">\n",
       "  <thead>\n",
       "    <tr style=\"text-align: right;\">\n",
       "      <th></th>\n",
       "      <th>placeID</th>\n",
       "      <th>Rpayment</th>\n",
       "      <th>Rcuisine_Afghan</th>\n",
       "      <th>Rcuisine_African</th>\n",
       "      <th>Rcuisine_American</th>\n",
       "      <th>Rcuisine_Armenian</th>\n",
       "      <th>Rcuisine_Asian</th>\n",
       "      <th>Rcuisine_Bagels</th>\n",
       "      <th>Rcuisine_Bakery</th>\n",
       "      <th>Rcuisine_Bar</th>\n",
       "      <th>...</th>\n",
       "      <th>alcohol</th>\n",
       "      <th>smoking_area</th>\n",
       "      <th>dress_code</th>\n",
       "      <th>accessibility</th>\n",
       "      <th>price</th>\n",
       "      <th>url</th>\n",
       "      <th>Rambience</th>\n",
       "      <th>franchise</th>\n",
       "      <th>area</th>\n",
       "      <th>other_services</th>\n",
       "    </tr>\n",
       "  </thead>\n",
       "  <tbody>\n",
       "    <tr>\n",
       "      <th>0</th>\n",
       "      <td>135110</td>\n",
       "      <td>[cash, VISA, MasterCard-Eurocard, American_Exp...</td>\n",
       "      <td>0.0</td>\n",
       "      <td>0.0</td>\n",
       "      <td>0.0</td>\n",
       "      <td>0.0</td>\n",
       "      <td>0.0</td>\n",
       "      <td>0.0</td>\n",
       "      <td>0.0</td>\n",
       "      <td>0.0</td>\n",
       "      <td>...</td>\n",
       "      <td>NaN</td>\n",
       "      <td>NaN</td>\n",
       "      <td>NaN</td>\n",
       "      <td>NaN</td>\n",
       "      <td>NaN</td>\n",
       "      <td>NaN</td>\n",
       "      <td>NaN</td>\n",
       "      <td>NaN</td>\n",
       "      <td>NaN</td>\n",
       "      <td>NaN</td>\n",
       "    </tr>\n",
       "    <tr>\n",
       "      <th>1</th>\n",
       "      <td>135109</td>\n",
       "      <td>[cash]</td>\n",
       "      <td>0.0</td>\n",
       "      <td>0.0</td>\n",
       "      <td>0.0</td>\n",
       "      <td>0.0</td>\n",
       "      <td>0.0</td>\n",
       "      <td>0.0</td>\n",
       "      <td>0.0</td>\n",
       "      <td>0.0</td>\n",
       "      <td>...</td>\n",
       "      <td>Wine-Beer</td>\n",
       "      <td>not permitted</td>\n",
       "      <td>informal</td>\n",
       "      <td>no_accessibility</td>\n",
       "      <td>medium</td>\n",
       "      <td>?</td>\n",
       "      <td>quiet</td>\n",
       "      <td>f</td>\n",
       "      <td>closed</td>\n",
       "      <td>Internet</td>\n",
       "    </tr>\n",
       "    <tr>\n",
       "      <th>2</th>\n",
       "      <td>135107</td>\n",
       "      <td>[cash, VISA, MasterCard-Eurocard, American_Exp...</td>\n",
       "      <td>0.0</td>\n",
       "      <td>0.0</td>\n",
       "      <td>0.0</td>\n",
       "      <td>0.0</td>\n",
       "      <td>0.0</td>\n",
       "      <td>0.0</td>\n",
       "      <td>0.0</td>\n",
       "      <td>0.0</td>\n",
       "      <td>...</td>\n",
       "      <td>NaN</td>\n",
       "      <td>NaN</td>\n",
       "      <td>NaN</td>\n",
       "      <td>NaN</td>\n",
       "      <td>NaN</td>\n",
       "      <td>NaN</td>\n",
       "      <td>NaN</td>\n",
       "      <td>NaN</td>\n",
       "      <td>NaN</td>\n",
       "      <td>NaN</td>\n",
       "    </tr>\n",
       "    <tr>\n",
       "      <th>3</th>\n",
       "      <td>135106</td>\n",
       "      <td>[cash, VISA, MasterCard-Eurocard]</td>\n",
       "      <td>0.0</td>\n",
       "      <td>0.0</td>\n",
       "      <td>0.0</td>\n",
       "      <td>0.0</td>\n",
       "      <td>0.0</td>\n",
       "      <td>0.0</td>\n",
       "      <td>0.0</td>\n",
       "      <td>0.0</td>\n",
       "      <td>...</td>\n",
       "      <td>Wine-Beer</td>\n",
       "      <td>only at bar</td>\n",
       "      <td>informal</td>\n",
       "      <td>partially</td>\n",
       "      <td>medium</td>\n",
       "      <td>?</td>\n",
       "      <td>familiar</td>\n",
       "      <td>f</td>\n",
       "      <td>open</td>\n",
       "      <td>none</td>\n",
       "    </tr>\n",
       "    <tr>\n",
       "      <th>4</th>\n",
       "      <td>135105</td>\n",
       "      <td>[cash]</td>\n",
       "      <td>0.0</td>\n",
       "      <td>0.0</td>\n",
       "      <td>0.0</td>\n",
       "      <td>0.0</td>\n",
       "      <td>0.0</td>\n",
       "      <td>0.0</td>\n",
       "      <td>0.0</td>\n",
       "      <td>0.0</td>\n",
       "      <td>...</td>\n",
       "      <td>NaN</td>\n",
       "      <td>NaN</td>\n",
       "      <td>NaN</td>\n",
       "      <td>NaN</td>\n",
       "      <td>NaN</td>\n",
       "      <td>NaN</td>\n",
       "      <td>NaN</td>\n",
       "      <td>NaN</td>\n",
       "      <td>NaN</td>\n",
       "      <td>NaN</td>\n",
       "    </tr>\n",
       "  </tbody>\n",
       "</table>\n",
       "<p>5 rows × 83 columns</p>\n",
       "</div>"
      ],
      "text/plain": [
       "   placeID                                           Rpayment  \\\n",
       "0   135110  [cash, VISA, MasterCard-Eurocard, American_Exp...   \n",
       "1   135109                                             [cash]   \n",
       "2   135107  [cash, VISA, MasterCard-Eurocard, American_Exp...   \n",
       "3   135106                  [cash, VISA, MasterCard-Eurocard]   \n",
       "4   135105                                             [cash]   \n",
       "\n",
       "   Rcuisine_Afghan  Rcuisine_African  Rcuisine_American  Rcuisine_Armenian  \\\n",
       "0              0.0               0.0                0.0                0.0   \n",
       "1              0.0               0.0                0.0                0.0   \n",
       "2              0.0               0.0                0.0                0.0   \n",
       "3              0.0               0.0                0.0                0.0   \n",
       "4              0.0               0.0                0.0                0.0   \n",
       "\n",
       "   Rcuisine_Asian  Rcuisine_Bagels  Rcuisine_Bakery  Rcuisine_Bar  \\\n",
       "0             0.0              0.0              0.0           0.0   \n",
       "1             0.0              0.0              0.0           0.0   \n",
       "2             0.0              0.0              0.0           0.0   \n",
       "3             0.0              0.0              0.0           0.0   \n",
       "4             0.0              0.0              0.0           0.0   \n",
       "\n",
       "        ...          alcohol   smoking_area  dress_code     accessibility  \\\n",
       "0       ...              NaN            NaN         NaN               NaN   \n",
       "1       ...        Wine-Beer  not permitted    informal  no_accessibility   \n",
       "2       ...              NaN            NaN         NaN               NaN   \n",
       "3       ...        Wine-Beer    only at bar    informal         partially   \n",
       "4       ...              NaN            NaN         NaN               NaN   \n",
       "\n",
       "    price  url  Rambience  franchise    area  other_services  \n",
       "0     NaN  NaN        NaN        NaN     NaN             NaN  \n",
       "1  medium    ?      quiet          f  closed        Internet  \n",
       "2     NaN  NaN        NaN        NaN     NaN             NaN  \n",
       "3  medium    ?   familiar          f    open            none  \n",
       "4     NaN  NaN        NaN        NaN     NaN             NaN  \n",
       "\n",
       "[5 rows x 83 columns]"
      ]
     },
     "execution_count": 10,
     "metadata": {},
     "output_type": "execute_result"
    }
   ],
   "source": [
    "res_total = pd.merge(left= res_total, right= res_payment1, how='left',  on='placeID')\n",
    "res_total = pd.merge(left= res_total, right= res_cuisine_dummy, how='left', on='placeID')\n",
    "res_total = pd.merge(left= res_total, right= res_hours1, how='left', on='placeID')\n",
    "res_total = pd.merge(left= res_total, right= res_parking1, how='left', on='placeID')\n",
    "res_total = pd.merge(left= res_total, right= res_geo, how='left', on='placeID')\n",
    "res_total.head()"
   ]
  },
  {
   "cell_type": "code",
   "execution_count": 11,
   "metadata": {},
   "outputs": [
    {
     "name": "stdout",
     "output_type": "stream",
     "text": [
      "(938, 83)\n"
     ]
    }
   ],
   "source": [
    "print(res_total.shape)"
   ]
  },
  {
   "cell_type": "markdown",
   "metadata": {},
   "source": [
    "So now, res_total is the final dataframe containing restaurant level data.\n",
    "\n",
    "On the other hand, we have users data in 3 reports"
   ]
  },
  {
   "cell_type": "code",
   "execution_count": 12,
   "metadata": {
    "collapsed": true
   },
   "outputs": [],
   "source": [
    "def create_userdictdf(user_df):\n",
    "    merge_column = user_df.columns[1]\n",
    "    userID_list = user_df['userID'].unique()\n",
    "    user_col_dict = {}\n",
    "    for userID in userID_list:\n",
    "        user_col_list = user_df[merge_column][user_df['userID']==userID].tolist()\n",
    "        user_col_dict[userID] = user_col_list\n",
    "\n",
    "    user_dictdf = pd.DataFrame(columns= user_df.columns)\n",
    "    for key in user_col_dict:\n",
    "        user_dictdf = user_dictdf.append({'userID':key, merge_column: user_col_dict[key]}, ignore_index = True)\n",
    "    \n",
    "    return user_dictdf"
   ]
  },
  {
   "cell_type": "code",
   "execution_count": 13,
   "metadata": {},
   "outputs": [
    {
     "data": {
      "text/html": [
       "<div>\n",
       "<style scoped>\n",
       "    .dataframe tbody tr th:only-of-type {\n",
       "        vertical-align: middle;\n",
       "    }\n",
       "\n",
       "    .dataframe tbody tr th {\n",
       "        vertical-align: top;\n",
       "    }\n",
       "\n",
       "    .dataframe thead th {\n",
       "        text-align: right;\n",
       "    }\n",
       "</style>\n",
       "<table border=\"1\" class=\"dataframe\">\n",
       "  <thead>\n",
       "    <tr style=\"text-align: right;\">\n",
       "      <th></th>\n",
       "      <th>userID</th>\n",
       "      <th>Rcuisine</th>\n",
       "    </tr>\n",
       "  </thead>\n",
       "  <tbody>\n",
       "    <tr>\n",
       "      <th>0</th>\n",
       "      <td>U1001</td>\n",
       "      <td>[American]</td>\n",
       "    </tr>\n",
       "    <tr>\n",
       "      <th>1</th>\n",
       "      <td>U1002</td>\n",
       "      <td>[Mexican]</td>\n",
       "    </tr>\n",
       "    <tr>\n",
       "      <th>2</th>\n",
       "      <td>U1003</td>\n",
       "      <td>[Mexican]</td>\n",
       "    </tr>\n",
       "    <tr>\n",
       "      <th>3</th>\n",
       "      <td>U1004</td>\n",
       "      <td>[Bakery, Breakfast-Brunch, Japanese, Contempor...</td>\n",
       "    </tr>\n",
       "    <tr>\n",
       "      <th>4</th>\n",
       "      <td>U1005</td>\n",
       "      <td>[American]</td>\n",
       "    </tr>\n",
       "  </tbody>\n",
       "</table>\n",
       "</div>"
      ],
      "text/plain": [
       "  userID                                           Rcuisine\n",
       "0  U1001                                         [American]\n",
       "1  U1002                                          [Mexican]\n",
       "2  U1003                                          [Mexican]\n",
       "3  U1004  [Bakery, Breakfast-Brunch, Japanese, Contempor...\n",
       "4  U1005                                         [American]"
      ]
     },
     "execution_count": 13,
     "metadata": {},
     "output_type": "execute_result"
    }
   ],
   "source": [
    "user_cuisine1 = create_userdictdf(user_cuisine)\n",
    "user_payment1 = create_userdictdf(user_payment)\n",
    "user_cuisine1.head()"
   ]
  },
  {
   "cell_type": "code",
   "execution_count": 14,
   "metadata": {},
   "outputs": [
    {
     "data": {
      "text/html": [
       "<div>\n",
       "<style scoped>\n",
       "    .dataframe tbody tr th:only-of-type {\n",
       "        vertical-align: middle;\n",
       "    }\n",
       "\n",
       "    .dataframe tbody tr th {\n",
       "        vertical-align: top;\n",
       "    }\n",
       "\n",
       "    .dataframe thead th {\n",
       "        text-align: right;\n",
       "    }\n",
       "</style>\n",
       "<table border=\"1\" class=\"dataframe\">\n",
       "  <thead>\n",
       "    <tr style=\"text-align: right;\">\n",
       "      <th></th>\n",
       "      <th>userID</th>\n",
       "      <th>Upayment</th>\n",
       "    </tr>\n",
       "  </thead>\n",
       "  <tbody>\n",
       "    <tr>\n",
       "      <th>0</th>\n",
       "      <td>U1001</td>\n",
       "      <td>[cash]</td>\n",
       "    </tr>\n",
       "    <tr>\n",
       "      <th>1</th>\n",
       "      <td>U1002</td>\n",
       "      <td>[cash]</td>\n",
       "    </tr>\n",
       "    <tr>\n",
       "      <th>2</th>\n",
       "      <td>U1003</td>\n",
       "      <td>[cash]</td>\n",
       "    </tr>\n",
       "    <tr>\n",
       "      <th>3</th>\n",
       "      <td>U1004</td>\n",
       "      <td>[cash, bank_debit_cards]</td>\n",
       "    </tr>\n",
       "    <tr>\n",
       "      <th>4</th>\n",
       "      <td>U1005</td>\n",
       "      <td>[cash]</td>\n",
       "    </tr>\n",
       "  </tbody>\n",
       "</table>\n",
       "</div>"
      ],
      "text/plain": [
       "  userID                  Upayment\n",
       "0  U1001                    [cash]\n",
       "1  U1002                    [cash]\n",
       "2  U1003                    [cash]\n",
       "3  U1004  [cash, bank_debit_cards]\n",
       "4  U1005                    [cash]"
      ]
     },
     "execution_count": 14,
     "metadata": {},
     "output_type": "execute_result"
    }
   ],
   "source": [
    "user_payment1.head()"
   ]
  },
  {
   "cell_type": "code",
   "execution_count": 15,
   "metadata": {},
   "outputs": [
    {
     "name": "stdout",
     "output_type": "stream",
     "text": [
      "Total number of users 138.\n"
     ]
    }
   ],
   "source": [
    "total_no_users = user_cuisine1['userID']\n",
    "total_no_users = total_no_users.append([user_payment1['userID'],\n",
    "                                                    user_profile['userID']])\n",
    "total_no_users = total_no_users.drop_duplicates()\n",
    "print(\"Total number of users {}.\".format(len(total_no_users)))"
   ]
  },
  {
   "cell_type": "code",
   "execution_count": 16,
   "metadata": {},
   "outputs": [
    {
     "name": "stdout",
     "output_type": "stream",
     "text": [
      "  userID\n",
      "0  U1001\n",
      "1  U1002\n",
      "2  U1003\n",
      "3  U1004\n",
      "4  U1005\n"
     ]
    }
   ],
   "source": [
    "user_total = pd.DataFrame(total_no_users)\n",
    "print(user_total.head())"
   ]
  },
  {
   "cell_type": "code",
   "execution_count": 17,
   "metadata": {},
   "outputs": [
    {
     "data": {
      "text/html": [
       "<div>\n",
       "<style scoped>\n",
       "    .dataframe tbody tr th:only-of-type {\n",
       "        vertical-align: middle;\n",
       "    }\n",
       "\n",
       "    .dataframe tbody tr th {\n",
       "        vertical-align: top;\n",
       "    }\n",
       "\n",
       "    .dataframe thead th {\n",
       "        text-align: right;\n",
       "    }\n",
       "</style>\n",
       "<table border=\"1\" class=\"dataframe\">\n",
       "  <thead>\n",
       "    <tr style=\"text-align: right;\">\n",
       "      <th></th>\n",
       "      <th>userID</th>\n",
       "    </tr>\n",
       "  </thead>\n",
       "  <tbody>\n",
       "    <tr>\n",
       "      <th>0</th>\n",
       "      <td>U1001</td>\n",
       "    </tr>\n",
       "    <tr>\n",
       "      <th>1</th>\n",
       "      <td>U1002</td>\n",
       "    </tr>\n",
       "    <tr>\n",
       "      <th>2</th>\n",
       "      <td>U1003</td>\n",
       "    </tr>\n",
       "    <tr>\n",
       "      <th>3</th>\n",
       "      <td>U1004</td>\n",
       "    </tr>\n",
       "    <tr>\n",
       "      <th>4</th>\n",
       "      <td>U1005</td>\n",
       "    </tr>\n",
       "  </tbody>\n",
       "</table>\n",
       "</div>"
      ],
      "text/plain": [
       "  userID\n",
       "0  U1001\n",
       "1  U1002\n",
       "2  U1003\n",
       "3  U1004\n",
       "4  U1005"
      ]
     },
     "execution_count": 17,
     "metadata": {},
     "output_type": "execute_result"
    }
   ],
   "source": [
    "user_total = user_total.reset_index(drop=True)\n",
    "user_total.head()"
   ]
  },
  {
   "cell_type": "code",
   "execution_count": 18,
   "metadata": {},
   "outputs": [
    {
     "data": {
      "text/html": [
       "<div>\n",
       "<style scoped>\n",
       "    .dataframe tbody tr th:only-of-type {\n",
       "        vertical-align: middle;\n",
       "    }\n",
       "\n",
       "    .dataframe tbody tr th {\n",
       "        vertical-align: top;\n",
       "    }\n",
       "\n",
       "    .dataframe thead th {\n",
       "        text-align: right;\n",
       "    }\n",
       "</style>\n",
       "<table border=\"1\" class=\"dataframe\">\n",
       "  <thead>\n",
       "    <tr style=\"text-align: right;\">\n",
       "      <th></th>\n",
       "      <th>userID</th>\n",
       "      <th>latitude</th>\n",
       "      <th>longitude</th>\n",
       "      <th>smoker</th>\n",
       "      <th>drink_level</th>\n",
       "      <th>dress_preference</th>\n",
       "      <th>ambience</th>\n",
       "      <th>transport</th>\n",
       "      <th>marital_status</th>\n",
       "      <th>hijos</th>\n",
       "      <th>...</th>\n",
       "      <th>interest</th>\n",
       "      <th>personality</th>\n",
       "      <th>religion</th>\n",
       "      <th>activity</th>\n",
       "      <th>color</th>\n",
       "      <th>weight</th>\n",
       "      <th>budget</th>\n",
       "      <th>height</th>\n",
       "      <th>Rcuisine</th>\n",
       "      <th>Upayment</th>\n",
       "    </tr>\n",
       "  </thead>\n",
       "  <tbody>\n",
       "    <tr>\n",
       "      <th>0</th>\n",
       "      <td>U1001</td>\n",
       "      <td>22.139997</td>\n",
       "      <td>-100.978803</td>\n",
       "      <td>false</td>\n",
       "      <td>abstemious</td>\n",
       "      <td>informal</td>\n",
       "      <td>family</td>\n",
       "      <td>on foot</td>\n",
       "      <td>single</td>\n",
       "      <td>independent</td>\n",
       "      <td>...</td>\n",
       "      <td>variety</td>\n",
       "      <td>thrifty-protector</td>\n",
       "      <td>none</td>\n",
       "      <td>student</td>\n",
       "      <td>black</td>\n",
       "      <td>69</td>\n",
       "      <td>medium</td>\n",
       "      <td>1.77</td>\n",
       "      <td>[American]</td>\n",
       "      <td>[cash]</td>\n",
       "    </tr>\n",
       "    <tr>\n",
       "      <th>1</th>\n",
       "      <td>U1002</td>\n",
       "      <td>22.150087</td>\n",
       "      <td>-100.983325</td>\n",
       "      <td>false</td>\n",
       "      <td>abstemious</td>\n",
       "      <td>informal</td>\n",
       "      <td>family</td>\n",
       "      <td>public</td>\n",
       "      <td>single</td>\n",
       "      <td>independent</td>\n",
       "      <td>...</td>\n",
       "      <td>technology</td>\n",
       "      <td>hunter-ostentatious</td>\n",
       "      <td>Catholic</td>\n",
       "      <td>student</td>\n",
       "      <td>red</td>\n",
       "      <td>40</td>\n",
       "      <td>low</td>\n",
       "      <td>1.87</td>\n",
       "      <td>[Mexican]</td>\n",
       "      <td>[cash]</td>\n",
       "    </tr>\n",
       "    <tr>\n",
       "      <th>2</th>\n",
       "      <td>U1003</td>\n",
       "      <td>22.119847</td>\n",
       "      <td>-100.946527</td>\n",
       "      <td>false</td>\n",
       "      <td>social drinker</td>\n",
       "      <td>formal</td>\n",
       "      <td>family</td>\n",
       "      <td>public</td>\n",
       "      <td>single</td>\n",
       "      <td>independent</td>\n",
       "      <td>...</td>\n",
       "      <td>none</td>\n",
       "      <td>hard-worker</td>\n",
       "      <td>Catholic</td>\n",
       "      <td>student</td>\n",
       "      <td>blue</td>\n",
       "      <td>60</td>\n",
       "      <td>low</td>\n",
       "      <td>1.69</td>\n",
       "      <td>[Mexican]</td>\n",
       "      <td>[cash]</td>\n",
       "    </tr>\n",
       "    <tr>\n",
       "      <th>3</th>\n",
       "      <td>U1004</td>\n",
       "      <td>18.867000</td>\n",
       "      <td>-99.183000</td>\n",
       "      <td>false</td>\n",
       "      <td>abstemious</td>\n",
       "      <td>informal</td>\n",
       "      <td>family</td>\n",
       "      <td>public</td>\n",
       "      <td>single</td>\n",
       "      <td>independent</td>\n",
       "      <td>...</td>\n",
       "      <td>variety</td>\n",
       "      <td>hard-worker</td>\n",
       "      <td>none</td>\n",
       "      <td>professional</td>\n",
       "      <td>green</td>\n",
       "      <td>44</td>\n",
       "      <td>medium</td>\n",
       "      <td>1.53</td>\n",
       "      <td>[Bakery, Breakfast-Brunch, Japanese, Contempor...</td>\n",
       "      <td>[cash, bank_debit_cards]</td>\n",
       "    </tr>\n",
       "    <tr>\n",
       "      <th>4</th>\n",
       "      <td>U1005</td>\n",
       "      <td>22.183477</td>\n",
       "      <td>-100.959891</td>\n",
       "      <td>false</td>\n",
       "      <td>abstemious</td>\n",
       "      <td>no preference</td>\n",
       "      <td>family</td>\n",
       "      <td>public</td>\n",
       "      <td>single</td>\n",
       "      <td>independent</td>\n",
       "      <td>...</td>\n",
       "      <td>none</td>\n",
       "      <td>thrifty-protector</td>\n",
       "      <td>Catholic</td>\n",
       "      <td>student</td>\n",
       "      <td>black</td>\n",
       "      <td>65</td>\n",
       "      <td>medium</td>\n",
       "      <td>1.69</td>\n",
       "      <td>[American]</td>\n",
       "      <td>[cash]</td>\n",
       "    </tr>\n",
       "  </tbody>\n",
       "</table>\n",
       "<p>5 rows × 21 columns</p>\n",
       "</div>"
      ],
      "text/plain": [
       "  userID   latitude   longitude smoker     drink_level dress_preference  \\\n",
       "0  U1001  22.139997 -100.978803  false      abstemious         informal   \n",
       "1  U1002  22.150087 -100.983325  false      abstemious         informal   \n",
       "2  U1003  22.119847 -100.946527  false  social drinker           formal   \n",
       "3  U1004  18.867000  -99.183000  false      abstemious         informal   \n",
       "4  U1005  22.183477 -100.959891  false      abstemious    no preference   \n",
       "\n",
       "  ambience transport marital_status        hijos            ...             \\\n",
       "0   family   on foot         single  independent            ...              \n",
       "1   family    public         single  independent            ...              \n",
       "2   family    public         single  independent            ...              \n",
       "3   family    public         single  independent            ...              \n",
       "4   family    public         single  independent            ...              \n",
       "\n",
       "     interest          personality  religion      activity  color weight  \\\n",
       "0     variety    thrifty-protector      none       student  black     69   \n",
       "1  technology  hunter-ostentatious  Catholic       student    red     40   \n",
       "2        none          hard-worker  Catholic       student   blue     60   \n",
       "3     variety          hard-worker      none  professional  green     44   \n",
       "4        none    thrifty-protector  Catholic       student  black     65   \n",
       "\n",
       "   budget height                                           Rcuisine  \\\n",
       "0  medium   1.77                                         [American]   \n",
       "1     low   1.87                                          [Mexican]   \n",
       "2     low   1.69                                          [Mexican]   \n",
       "3  medium   1.53  [Bakery, Breakfast-Brunch, Japanese, Contempor...   \n",
       "4  medium   1.69                                         [American]   \n",
       "\n",
       "                   Upayment  \n",
       "0                    [cash]  \n",
       "1                    [cash]  \n",
       "2                    [cash]  \n",
       "3  [cash, bank_debit_cards]  \n",
       "4                    [cash]  \n",
       "\n",
       "[5 rows x 21 columns]"
      ]
     },
     "execution_count": 18,
     "metadata": {},
     "output_type": "execute_result"
    }
   ],
   "source": [
    "user_total = pd.merge(left= user_total, right= user_profile, how='left', on='userID')\n",
    "user_total = pd.merge(left= user_total, right= user_cuisine1, how='left', on='userID')\n",
    "user_total = pd.merge(left= user_total, right= user_payment1, how='left', on='userID')\n",
    "\n",
    "user_total.head()"
   ]
  },
  {
   "cell_type": "code",
   "execution_count": 19,
   "metadata": {},
   "outputs": [
    {
     "data": {
      "text/plain": [
       "(138, 21)"
      ]
     },
     "execution_count": 19,
     "metadata": {},
     "output_type": "execute_result"
    }
   ],
   "source": [
    "user_total.shape"
   ]
  },
  {
   "cell_type": "code",
   "execution_count": 142,
   "metadata": {},
   "outputs": [
    {
     "data": {
      "text/plain": [
       "userID              0\n",
       "latitude            0\n",
       "longitude           0\n",
       "smoker              0\n",
       "drink_level         0\n",
       "dress_preference    0\n",
       "ambience            0\n",
       "transport           0\n",
       "marital_status      0\n",
       "hijos               0\n",
       "birth_year          0\n",
       "interest            0\n",
       "personality         0\n",
       "religion            0\n",
       "activity            0\n",
       "color               0\n",
       "weight              0\n",
       "budget              0\n",
       "height              0\n",
       "Rcuisine            0\n",
       "Upayment            5\n",
       "dtype: int64"
      ]
     },
     "execution_count": 142,
     "metadata": {},
     "output_type": "execute_result"
    }
   ],
   "source": [
    "user_total.isnull().sum()"
   ]
  },
  {
   "cell_type": "code",
   "execution_count": 143,
   "metadata": {},
   "outputs": [
    {
     "data": {
      "text/plain": [
       "userID              0\n",
       "latitude            0\n",
       "longitude           0\n",
       "smoker              0\n",
       "drink_level         0\n",
       "dress_preference    0\n",
       "ambience            0\n",
       "transport           0\n",
       "marital_status      0\n",
       "hijos               0\n",
       "birth_year          0\n",
       "interest            0\n",
       "personality         0\n",
       "religion            0\n",
       "activity            0\n",
       "color               0\n",
       "weight              0\n",
       "budget              0\n",
       "height              0\n",
       "Rcuisine            0\n",
       "Upayment            0\n",
       "dtype: int64"
      ]
     },
     "execution_count": 143,
     "metadata": {},
     "output_type": "execute_result"
    }
   ],
   "source": [
    "user_total = user_total.fillna(0)\n",
    "user_total.isnull().sum()"
   ]
  },
  {
   "cell_type": "markdown",
   "metadata": {},
   "source": [
    "So now, user_total is the final dataframe containing all user level data.\n",
    "\n",
    "Overall we have integrated data from 9 reports to 3 dataframes - res_total, user_total, final_rating\n",
    "\n",
    "**Data Integration** is completed"
   ]
  },
  {
   "cell_type": "markdown",
   "metadata": {},
   "source": [
    "Now we would like to perform **data reduction** by aiming to reduce the rows and features.\n",
    "\n",
    "The final rating data contains the actual restaurants containing ratings. So we would like to focus only on these restaurants.\n",
    "\n"
   ]
  },
  {
   "cell_type": "code",
   "execution_count": 20,
   "metadata": {},
   "outputs": [
    {
     "name": "stdout",
     "output_type": "stream",
     "text": [
      "(938, 83)\n",
      "(1161, 5)\n",
      "(130, 83)\n"
     ]
    }
   ],
   "source": [
    "print(res_total.shape)\n",
    "print(final_rating.shape)\n",
    "final_rating_placeID_list = final_rating['placeID'].unique()\n",
    "res_total = res_total[res_total['placeID'].isin(final_rating_placeID_list)]\n",
    "print(res_total.shape)"
   ]
  },
  {
   "cell_type": "code",
   "execution_count": 21,
   "metadata": {},
   "outputs": [
    {
     "data": {
      "text/html": [
       "<div>\n",
       "<style scoped>\n",
       "    .dataframe tbody tr th:only-of-type {\n",
       "        vertical-align: middle;\n",
       "    }\n",
       "\n",
       "    .dataframe tbody tr th {\n",
       "        vertical-align: top;\n",
       "    }\n",
       "\n",
       "    .dataframe thead th {\n",
       "        text-align: right;\n",
       "    }\n",
       "</style>\n",
       "<table border=\"1\" class=\"dataframe\">\n",
       "  <thead>\n",
       "    <tr style=\"text-align: right;\">\n",
       "      <th></th>\n",
       "      <th>placeID</th>\n",
       "      <th>Rpayment</th>\n",
       "      <th>Rcuisine_Afghan</th>\n",
       "      <th>Rcuisine_African</th>\n",
       "      <th>Rcuisine_American</th>\n",
       "      <th>Rcuisine_Armenian</th>\n",
       "      <th>Rcuisine_Asian</th>\n",
       "      <th>Rcuisine_Bagels</th>\n",
       "      <th>Rcuisine_Bakery</th>\n",
       "      <th>Rcuisine_Bar</th>\n",
       "      <th>...</th>\n",
       "      <th>alcohol</th>\n",
       "      <th>smoking_area</th>\n",
       "      <th>dress_code</th>\n",
       "      <th>accessibility</th>\n",
       "      <th>price</th>\n",
       "      <th>url</th>\n",
       "      <th>Rambience</th>\n",
       "      <th>franchise</th>\n",
       "      <th>area</th>\n",
       "      <th>other_services</th>\n",
       "    </tr>\n",
       "  </thead>\n",
       "  <tbody>\n",
       "    <tr>\n",
       "      <th>0</th>\n",
       "      <td>135109</td>\n",
       "      <td>[cash]</td>\n",
       "      <td>0.0</td>\n",
       "      <td>0.0</td>\n",
       "      <td>0.0</td>\n",
       "      <td>0.0</td>\n",
       "      <td>0.0</td>\n",
       "      <td>0.0</td>\n",
       "      <td>0.0</td>\n",
       "      <td>0.0</td>\n",
       "      <td>...</td>\n",
       "      <td>Wine-Beer</td>\n",
       "      <td>not permitted</td>\n",
       "      <td>informal</td>\n",
       "      <td>no_accessibility</td>\n",
       "      <td>medium</td>\n",
       "      <td>?</td>\n",
       "      <td>quiet</td>\n",
       "      <td>f</td>\n",
       "      <td>closed</td>\n",
       "      <td>Internet</td>\n",
       "    </tr>\n",
       "    <tr>\n",
       "      <th>1</th>\n",
       "      <td>135106</td>\n",
       "      <td>[cash, VISA, MasterCard-Eurocard]</td>\n",
       "      <td>0.0</td>\n",
       "      <td>0.0</td>\n",
       "      <td>0.0</td>\n",
       "      <td>0.0</td>\n",
       "      <td>0.0</td>\n",
       "      <td>0.0</td>\n",
       "      <td>0.0</td>\n",
       "      <td>0.0</td>\n",
       "      <td>...</td>\n",
       "      <td>Wine-Beer</td>\n",
       "      <td>only at bar</td>\n",
       "      <td>informal</td>\n",
       "      <td>partially</td>\n",
       "      <td>medium</td>\n",
       "      <td>?</td>\n",
       "      <td>familiar</td>\n",
       "      <td>f</td>\n",
       "      <td>open</td>\n",
       "      <td>none</td>\n",
       "    </tr>\n",
       "    <tr>\n",
       "      <th>2</th>\n",
       "      <td>135104</td>\n",
       "      <td>[cash, VISA, MasterCard-Eurocard]</td>\n",
       "      <td>0.0</td>\n",
       "      <td>0.0</td>\n",
       "      <td>0.0</td>\n",
       "      <td>0.0</td>\n",
       "      <td>0.0</td>\n",
       "      <td>0.0</td>\n",
       "      <td>0.0</td>\n",
       "      <td>0.0</td>\n",
       "      <td>...</td>\n",
       "      <td>Full_Bar</td>\n",
       "      <td>not permitted</td>\n",
       "      <td>informal</td>\n",
       "      <td>completely</td>\n",
       "      <td>medium</td>\n",
       "      <td>?</td>\n",
       "      <td>familiar</td>\n",
       "      <td>t</td>\n",
       "      <td>closed</td>\n",
       "      <td>variety</td>\n",
       "    </tr>\n",
       "    <tr>\n",
       "      <th>3</th>\n",
       "      <td>135088</td>\n",
       "      <td>[cash]</td>\n",
       "      <td>0.0</td>\n",
       "      <td>0.0</td>\n",
       "      <td>0.0</td>\n",
       "      <td>0.0</td>\n",
       "      <td>0.0</td>\n",
       "      <td>0.0</td>\n",
       "      <td>0.0</td>\n",
       "      <td>0.0</td>\n",
       "      <td>...</td>\n",
       "      <td>No_Alcohol_Served</td>\n",
       "      <td>not permitted</td>\n",
       "      <td>informal</td>\n",
       "      <td>no_accessibility</td>\n",
       "      <td>low</td>\n",
       "      <td>www.cenidet.edu.mx</td>\n",
       "      <td>quiet</td>\n",
       "      <td>f</td>\n",
       "      <td>closed</td>\n",
       "      <td>none</td>\n",
       "    </tr>\n",
       "    <tr>\n",
       "      <th>4</th>\n",
       "      <td>135086</td>\n",
       "      <td>[cash, VISA, MasterCard-Eurocard]</td>\n",
       "      <td>0.0</td>\n",
       "      <td>0.0</td>\n",
       "      <td>0.0</td>\n",
       "      <td>0.0</td>\n",
       "      <td>0.0</td>\n",
       "      <td>0.0</td>\n",
       "      <td>0.0</td>\n",
       "      <td>0.0</td>\n",
       "      <td>...</td>\n",
       "      <td>No_Alcohol_Served</td>\n",
       "      <td>not permitted</td>\n",
       "      <td>informal</td>\n",
       "      <td>no_accessibility</td>\n",
       "      <td>medium</td>\n",
       "      <td>?</td>\n",
       "      <td>familiar</td>\n",
       "      <td>t</td>\n",
       "      <td>closed</td>\n",
       "      <td>none</td>\n",
       "    </tr>\n",
       "  </tbody>\n",
       "</table>\n",
       "<p>5 rows × 83 columns</p>\n",
       "</div>"
      ],
      "text/plain": [
       "   placeID                           Rpayment  Rcuisine_Afghan  \\\n",
       "0   135109                             [cash]              0.0   \n",
       "1   135106  [cash, VISA, MasterCard-Eurocard]              0.0   \n",
       "2   135104  [cash, VISA, MasterCard-Eurocard]              0.0   \n",
       "3   135088                             [cash]              0.0   \n",
       "4   135086  [cash, VISA, MasterCard-Eurocard]              0.0   \n",
       "\n",
       "   Rcuisine_African  Rcuisine_American  Rcuisine_Armenian  Rcuisine_Asian  \\\n",
       "0               0.0                0.0                0.0             0.0   \n",
       "1               0.0                0.0                0.0             0.0   \n",
       "2               0.0                0.0                0.0             0.0   \n",
       "3               0.0                0.0                0.0             0.0   \n",
       "4               0.0                0.0                0.0             0.0   \n",
       "\n",
       "   Rcuisine_Bagels  Rcuisine_Bakery  Rcuisine_Bar       ...        \\\n",
       "0              0.0              0.0           0.0       ...         \n",
       "1              0.0              0.0           0.0       ...         \n",
       "2              0.0              0.0           0.0       ...         \n",
       "3              0.0              0.0           0.0       ...         \n",
       "4              0.0              0.0           0.0       ...         \n",
       "\n",
       "             alcohol   smoking_area  dress_code     accessibility   price  \\\n",
       "0          Wine-Beer  not permitted    informal  no_accessibility  medium   \n",
       "1          Wine-Beer    only at bar    informal         partially  medium   \n",
       "2           Full_Bar  not permitted    informal        completely  medium   \n",
       "3  No_Alcohol_Served  not permitted    informal  no_accessibility     low   \n",
       "4  No_Alcohol_Served  not permitted    informal  no_accessibility  medium   \n",
       "\n",
       "                  url  Rambience  franchise    area  other_services  \n",
       "0                   ?      quiet          f  closed        Internet  \n",
       "1                   ?   familiar          f    open            none  \n",
       "2                   ?   familiar          t  closed         variety  \n",
       "3  www.cenidet.edu.mx      quiet          f  closed            none  \n",
       "4                   ?   familiar          t  closed            none  \n",
       "\n",
       "[5 rows x 83 columns]"
      ]
     },
     "execution_count": 21,
     "metadata": {},
     "output_type": "execute_result"
    }
   ],
   "source": [
    "res_total = res_total.reset_index(drop=True)\n",
    "res_total.head()"
   ]
  },
  {
   "cell_type": "markdown",
   "metadata": {},
   "source": [
    "Given that user data does not contain any information regarding hours, the_geom_meter, we would like to drop these features from restaurant data. "
   ]
  },
  {
   "cell_type": "code",
   "execution_count": 22,
   "metadata": {},
   "outputs": [
    {
     "name": "stdout",
     "output_type": "stream",
     "text": [
      "(130, 83)\n",
      "(130, 74)\n"
     ]
    }
   ],
   "source": [
    "print(res_total.shape)\n",
    "res_total = res_total.drop(columns=['days_hours','the_geom_meter','country', 'name', 'address', 'city', 'state','zip', 'fax'])\n",
    "print(res_total.shape)"
   ]
  },
  {
   "cell_type": "code",
   "execution_count": 23,
   "metadata": {
    "collapsed": true
   },
   "outputs": [],
   "source": [
    "res_total.to_csv('res_total5.csv')"
   ]
  },
  {
   "cell_type": "code",
   "execution_count": 24,
   "metadata": {
    "collapsed": true
   },
   "outputs": [],
   "source": [
    "user_total.to_csv('user_total5.csv')"
   ]
  },
  {
   "cell_type": "markdown",
   "metadata": {},
   "source": [
    "**Data Transformation:**\n",
    "For our analysis, we would need the data to be numeric.\n",
    "So here we are exploring data and make assumptions to map the data to numerical values."
   ]
  },
  {
   "cell_type": "markdown",
   "metadata": {},
   "source": [
    "We will start with parking data by performing frequency distribution to explore the parking options"
   ]
  },
  {
   "cell_type": "code",
   "execution_count": 25,
   "metadata": {},
   "outputs": [
    {
     "data": {
      "text/plain": [
       "none                 348\n",
       "yes                  174\n",
       "public               102\n",
       "street                32\n",
       "fee                   22\n",
       "valet parking         21\n",
       "validated parking      3\n",
       "Name: parking_lot, dtype: int64"
      ]
     },
     "execution_count": 25,
     "metadata": {},
     "output_type": "execute_result"
    }
   ],
   "source": [
    "res_parking['parking_lot'].value_counts()"
   ]
  },
  {
   "cell_type": "markdown",
   "metadata": {},
   "source": [
    "The parking data is not explained in the dataset. It is self-explanatory to some level. But for many restaurants, there are more than one parking option available. So we would like to make some assumptions here. Parking is one of the important features for a given restaurant, so if the restaurant has no parking then we will give a value of 0. If there is a fee, we will give a value of 1 and if it is 'yes' or 'public' we will give a value 2."
   ]
  },
  {
   "cell_type": "code",
   "execution_count": 26,
   "metadata": {
    "collapsed": true
   },
   "outputs": [],
   "source": [
    "res_total['parking_lot'] = res_total['parking_lot'].apply(lambda x:x[0])"
   ]
  },
  {
   "cell_type": "code",
   "execution_count": 27,
   "metadata": {
    "collapsed": true
   },
   "outputs": [],
   "source": [
    "res_total['parking_lot'] = res_total.parking_lot.map({'fee':1, 'none':0, 'public':1, 'yes':2,\n",
    "                                        'street':1, 'valet parking':2, 'validated parking':1})"
   ]
  },
  {
   "cell_type": "code",
   "execution_count": 28,
   "metadata": {
    "collapsed": true
   },
   "outputs": [],
   "source": [
    "res_total['alcohol'] = res_total['alcohol'].map(lambda x: 0 if x == 'No_Alcohol_Served' else 1)\n",
    "res_total['smoking_area'] = res_total['smoking_area'].map(lambda x: 0 if (x == 'none') | (x == 'not permitted') else 1)\n",
    "res_total['other_services'] = res_total['other_services'].map(lambda x: 0 if x == 'none'  else 1)\n",
    "res_total['price'] = res_total['price'].map({'low': 1, 'medium': 2, 'high': 3})"
   ]
  },
  {
   "cell_type": "code",
   "execution_count": 29,
   "metadata": {
    "collapsed": true
   },
   "outputs": [],
   "source": [
    "res_total['dress_code'] = res_total['dress_code'].map({'informal':0, 'casual':0, 'formal': 1})\n",
    "res_total['accessibility'] = res_total['accessibility'].map({'no_accessibility':0, 'partially':1, 'completely': 2})\n",
    "res_total['Rambience'] = res_total['Rambience'].map({'familiar':0, 'quiet': 1})\n",
    "res_total['area'] = res_total['area'].map({'open':0, 'closed':1})"
   ]
  },
  {
   "cell_type": "code",
   "execution_count": 30,
   "metadata": {},
   "outputs": [
    {
     "data": {
      "text/html": [
       "<div>\n",
       "<style scoped>\n",
       "    .dataframe tbody tr th:only-of-type {\n",
       "        vertical-align: middle;\n",
       "    }\n",
       "\n",
       "    .dataframe tbody tr th {\n",
       "        vertical-align: top;\n",
       "    }\n",
       "\n",
       "    .dataframe thead th {\n",
       "        text-align: right;\n",
       "    }\n",
       "</style>\n",
       "<table border=\"1\" class=\"dataframe\">\n",
       "  <thead>\n",
       "    <tr style=\"text-align: right;\">\n",
       "      <th></th>\n",
       "      <th>placeID</th>\n",
       "      <th>Rpayment</th>\n",
       "      <th>Rcuisine_Afghan</th>\n",
       "      <th>Rcuisine_African</th>\n",
       "      <th>Rcuisine_American</th>\n",
       "      <th>Rcuisine_Armenian</th>\n",
       "      <th>Rcuisine_Asian</th>\n",
       "      <th>Rcuisine_Bagels</th>\n",
       "      <th>Rcuisine_Bakery</th>\n",
       "      <th>Rcuisine_Bar</th>\n",
       "      <th>...</th>\n",
       "      <th>alcohol</th>\n",
       "      <th>smoking_area</th>\n",
       "      <th>dress_code</th>\n",
       "      <th>accessibility</th>\n",
       "      <th>price</th>\n",
       "      <th>url</th>\n",
       "      <th>Rambience</th>\n",
       "      <th>franchise</th>\n",
       "      <th>area</th>\n",
       "      <th>other_services</th>\n",
       "    </tr>\n",
       "  </thead>\n",
       "  <tbody>\n",
       "    <tr>\n",
       "      <th>0</th>\n",
       "      <td>135109</td>\n",
       "      <td>[cash]</td>\n",
       "      <td>0.0</td>\n",
       "      <td>0.0</td>\n",
       "      <td>0.0</td>\n",
       "      <td>0.0</td>\n",
       "      <td>0.0</td>\n",
       "      <td>0.0</td>\n",
       "      <td>0.0</td>\n",
       "      <td>0.0</td>\n",
       "      <td>...</td>\n",
       "      <td>1</td>\n",
       "      <td>0</td>\n",
       "      <td>0</td>\n",
       "      <td>0</td>\n",
       "      <td>2</td>\n",
       "      <td>?</td>\n",
       "      <td>1</td>\n",
       "      <td>f</td>\n",
       "      <td>1</td>\n",
       "      <td>1</td>\n",
       "    </tr>\n",
       "    <tr>\n",
       "      <th>1</th>\n",
       "      <td>135106</td>\n",
       "      <td>[cash, VISA, MasterCard-Eurocard]</td>\n",
       "      <td>0.0</td>\n",
       "      <td>0.0</td>\n",
       "      <td>0.0</td>\n",
       "      <td>0.0</td>\n",
       "      <td>0.0</td>\n",
       "      <td>0.0</td>\n",
       "      <td>0.0</td>\n",
       "      <td>0.0</td>\n",
       "      <td>...</td>\n",
       "      <td>1</td>\n",
       "      <td>1</td>\n",
       "      <td>0</td>\n",
       "      <td>1</td>\n",
       "      <td>2</td>\n",
       "      <td>?</td>\n",
       "      <td>0</td>\n",
       "      <td>f</td>\n",
       "      <td>0</td>\n",
       "      <td>0</td>\n",
       "    </tr>\n",
       "    <tr>\n",
       "      <th>2</th>\n",
       "      <td>135104</td>\n",
       "      <td>[cash, VISA, MasterCard-Eurocard]</td>\n",
       "      <td>0.0</td>\n",
       "      <td>0.0</td>\n",
       "      <td>0.0</td>\n",
       "      <td>0.0</td>\n",
       "      <td>0.0</td>\n",
       "      <td>0.0</td>\n",
       "      <td>0.0</td>\n",
       "      <td>0.0</td>\n",
       "      <td>...</td>\n",
       "      <td>1</td>\n",
       "      <td>0</td>\n",
       "      <td>0</td>\n",
       "      <td>2</td>\n",
       "      <td>2</td>\n",
       "      <td>?</td>\n",
       "      <td>0</td>\n",
       "      <td>t</td>\n",
       "      <td>1</td>\n",
       "      <td>1</td>\n",
       "    </tr>\n",
       "    <tr>\n",
       "      <th>3</th>\n",
       "      <td>135088</td>\n",
       "      <td>[cash]</td>\n",
       "      <td>0.0</td>\n",
       "      <td>0.0</td>\n",
       "      <td>0.0</td>\n",
       "      <td>0.0</td>\n",
       "      <td>0.0</td>\n",
       "      <td>0.0</td>\n",
       "      <td>0.0</td>\n",
       "      <td>0.0</td>\n",
       "      <td>...</td>\n",
       "      <td>0</td>\n",
       "      <td>0</td>\n",
       "      <td>0</td>\n",
       "      <td>0</td>\n",
       "      <td>1</td>\n",
       "      <td>www.cenidet.edu.mx</td>\n",
       "      <td>1</td>\n",
       "      <td>f</td>\n",
       "      <td>1</td>\n",
       "      <td>0</td>\n",
       "    </tr>\n",
       "    <tr>\n",
       "      <th>4</th>\n",
       "      <td>135086</td>\n",
       "      <td>[cash, VISA, MasterCard-Eurocard]</td>\n",
       "      <td>0.0</td>\n",
       "      <td>0.0</td>\n",
       "      <td>0.0</td>\n",
       "      <td>0.0</td>\n",
       "      <td>0.0</td>\n",
       "      <td>0.0</td>\n",
       "      <td>0.0</td>\n",
       "      <td>0.0</td>\n",
       "      <td>...</td>\n",
       "      <td>0</td>\n",
       "      <td>0</td>\n",
       "      <td>0</td>\n",
       "      <td>0</td>\n",
       "      <td>2</td>\n",
       "      <td>?</td>\n",
       "      <td>0</td>\n",
       "      <td>t</td>\n",
       "      <td>1</td>\n",
       "      <td>0</td>\n",
       "    </tr>\n",
       "  </tbody>\n",
       "</table>\n",
       "<p>5 rows × 74 columns</p>\n",
       "</div>"
      ],
      "text/plain": [
       "   placeID                           Rpayment  Rcuisine_Afghan  \\\n",
       "0   135109                             [cash]              0.0   \n",
       "1   135106  [cash, VISA, MasterCard-Eurocard]              0.0   \n",
       "2   135104  [cash, VISA, MasterCard-Eurocard]              0.0   \n",
       "3   135088                             [cash]              0.0   \n",
       "4   135086  [cash, VISA, MasterCard-Eurocard]              0.0   \n",
       "\n",
       "   Rcuisine_African  Rcuisine_American  Rcuisine_Armenian  Rcuisine_Asian  \\\n",
       "0               0.0                0.0                0.0             0.0   \n",
       "1               0.0                0.0                0.0             0.0   \n",
       "2               0.0                0.0                0.0             0.0   \n",
       "3               0.0                0.0                0.0             0.0   \n",
       "4               0.0                0.0                0.0             0.0   \n",
       "\n",
       "   Rcuisine_Bagels  Rcuisine_Bakery  Rcuisine_Bar       ...        alcohol  \\\n",
       "0              0.0              0.0           0.0       ...              1   \n",
       "1              0.0              0.0           0.0       ...              1   \n",
       "2              0.0              0.0           0.0       ...              1   \n",
       "3              0.0              0.0           0.0       ...              0   \n",
       "4              0.0              0.0           0.0       ...              0   \n",
       "\n",
       "   smoking_area  dress_code  accessibility  price                 url  \\\n",
       "0             0           0              0      2                   ?   \n",
       "1             1           0              1      2                   ?   \n",
       "2             0           0              2      2                   ?   \n",
       "3             0           0              0      1  www.cenidet.edu.mx   \n",
       "4             0           0              0      2                   ?   \n",
       "\n",
       "   Rambience  franchise  area  other_services  \n",
       "0          1          f     1               1  \n",
       "1          0          f     0               0  \n",
       "2          0          t     1               1  \n",
       "3          1          f     1               0  \n",
       "4          0          t     1               0  \n",
       "\n",
       "[5 rows x 74 columns]"
      ]
     },
     "execution_count": 30,
     "metadata": {},
     "output_type": "execute_result"
    }
   ],
   "source": [
    "res_total.head()"
   ]
  },
  {
   "cell_type": "code",
   "execution_count": 33,
   "metadata": {},
   "outputs": [
    {
     "data": {
      "text/plain": [
       "cash                   500\n",
       "MasterCard-Eurocard    194\n",
       "VISA                   172\n",
       "American_Express       153\n",
       "bank_debit_cards       130\n",
       "Visa                    83\n",
       "Diners_Club             42\n",
       "Discover                11\n",
       "checks                  10\n",
       "Carte_Blanche            7\n",
       "gift_certificates        7\n",
       "Japan_Credit_Bureau      5\n",
       "Name: Rpayment, dtype: int64"
      ]
     },
     "execution_count": 33,
     "metadata": {},
     "output_type": "execute_result"
    }
   ],
   "source": [
    "res_payment['Rpayment'].value_counts()"
   ]
  },
  {
   "cell_type": "code",
   "execution_count": 34,
   "metadata": {},
   "outputs": [
    {
     "data": {
      "text/plain": [
       "cash                   131\n",
       "bank_debit_cards        22\n",
       "VISA                    17\n",
       "MasterCard-Eurocard      4\n",
       "American_Express         3\n",
       "Name: Upayment, dtype: int64"
      ]
     },
     "execution_count": 34,
     "metadata": {},
     "output_type": "execute_result"
    }
   ],
   "source": [
    "user_payment['Upayment'].value_counts()"
   ]
  },
  {
   "cell_type": "markdown",
   "metadata": {},
   "source": [
    "Given that the dataset origin is from Mexico, based on my general knowledge, I assume people in Mexico would like to perform transactions in cash. So if the restaurant accepts cash, we would like give it a higher value of 2. If it does not accept cash, we would like to give it a value of 1"
   ]
  },
  {
   "cell_type": "code",
   "execution_count": 35,
   "metadata": {
    "collapsed": true
   },
   "outputs": [],
   "source": [
    "res_total['Rpayment'] = res_total['Rpayment'].apply(lambda x:x[0] if type(x)==list else x)\n",
    "res_total['Rpayment'] = res_total['Rpayment'] .map({'cash':2, 'VISA':1})\n",
    "res_total['Rpayment'] = res_total['Rpayment'].fillna(0)\n",
    "res_total['Rpayment'] = res_total['Rpayment'].astype('int64')"
   ]
  },
  {
   "cell_type": "code",
   "execution_count": 36,
   "metadata": {
    "collapsed": true
   },
   "outputs": [],
   "source": [
    "res_total['franchise'] = res_total['franchise'].map({'f':1, 't':0})"
   ]
  },
  {
   "cell_type": "code",
   "execution_count": 37,
   "metadata": {
    "collapsed": true
   },
   "outputs": [],
   "source": [
    "res_total['url'] = res_total['url'].replace('?',0)\n",
    "res_total['url'] = res_total['url'].replace('no',0)\n",
    "res_total['url'] = res_total['url'].apply(lambda x:1 if x!=0 else x)"
   ]
  },
  {
   "cell_type": "code",
   "execution_count": 38,
   "metadata": {
    "collapsed": true
   },
   "outputs": [],
   "source": [
    "res_total_bkup = res_total.copy()"
   ]
  },
  {
   "cell_type": "code",
   "execution_count": 39,
   "metadata": {},
   "outputs": [
    {
     "data": {
      "text/html": [
       "<div>\n",
       "<style scoped>\n",
       "    .dataframe tbody tr th:only-of-type {\n",
       "        vertical-align: middle;\n",
       "    }\n",
       "\n",
       "    .dataframe tbody tr th {\n",
       "        vertical-align: top;\n",
       "    }\n",
       "\n",
       "    .dataframe thead th {\n",
       "        text-align: right;\n",
       "    }\n",
       "</style>\n",
       "<table border=\"1\" class=\"dataframe\">\n",
       "  <thead>\n",
       "    <tr style=\"text-align: right;\">\n",
       "      <th></th>\n",
       "      <th>placeID</th>\n",
       "      <th>Rpayment</th>\n",
       "      <th>Rcuisine_Afghan</th>\n",
       "      <th>Rcuisine_African</th>\n",
       "      <th>Rcuisine_American</th>\n",
       "      <th>Rcuisine_Armenian</th>\n",
       "      <th>Rcuisine_Asian</th>\n",
       "      <th>Rcuisine_Bagels</th>\n",
       "      <th>Rcuisine_Bakery</th>\n",
       "      <th>Rcuisine_Bar</th>\n",
       "      <th>...</th>\n",
       "      <th>alcohol</th>\n",
       "      <th>smoking_area</th>\n",
       "      <th>dress_code</th>\n",
       "      <th>accessibility</th>\n",
       "      <th>price</th>\n",
       "      <th>url</th>\n",
       "      <th>Rambience</th>\n",
       "      <th>franchise</th>\n",
       "      <th>area</th>\n",
       "      <th>other_services</th>\n",
       "    </tr>\n",
       "  </thead>\n",
       "  <tbody>\n",
       "    <tr>\n",
       "      <th>0</th>\n",
       "      <td>135109</td>\n",
       "      <td>2</td>\n",
       "      <td>0.0</td>\n",
       "      <td>0.0</td>\n",
       "      <td>0.0</td>\n",
       "      <td>0.0</td>\n",
       "      <td>0.0</td>\n",
       "      <td>0.0</td>\n",
       "      <td>0.0</td>\n",
       "      <td>0.0</td>\n",
       "      <td>...</td>\n",
       "      <td>1</td>\n",
       "      <td>0</td>\n",
       "      <td>0</td>\n",
       "      <td>0</td>\n",
       "      <td>2</td>\n",
       "      <td>0</td>\n",
       "      <td>1</td>\n",
       "      <td>1</td>\n",
       "      <td>1</td>\n",
       "      <td>1</td>\n",
       "    </tr>\n",
       "    <tr>\n",
       "      <th>1</th>\n",
       "      <td>135106</td>\n",
       "      <td>2</td>\n",
       "      <td>0.0</td>\n",
       "      <td>0.0</td>\n",
       "      <td>0.0</td>\n",
       "      <td>0.0</td>\n",
       "      <td>0.0</td>\n",
       "      <td>0.0</td>\n",
       "      <td>0.0</td>\n",
       "      <td>0.0</td>\n",
       "      <td>...</td>\n",
       "      <td>1</td>\n",
       "      <td>1</td>\n",
       "      <td>0</td>\n",
       "      <td>1</td>\n",
       "      <td>2</td>\n",
       "      <td>0</td>\n",
       "      <td>0</td>\n",
       "      <td>1</td>\n",
       "      <td>0</td>\n",
       "      <td>0</td>\n",
       "    </tr>\n",
       "    <tr>\n",
       "      <th>2</th>\n",
       "      <td>135104</td>\n",
       "      <td>2</td>\n",
       "      <td>0.0</td>\n",
       "      <td>0.0</td>\n",
       "      <td>0.0</td>\n",
       "      <td>0.0</td>\n",
       "      <td>0.0</td>\n",
       "      <td>0.0</td>\n",
       "      <td>0.0</td>\n",
       "      <td>0.0</td>\n",
       "      <td>...</td>\n",
       "      <td>1</td>\n",
       "      <td>0</td>\n",
       "      <td>0</td>\n",
       "      <td>2</td>\n",
       "      <td>2</td>\n",
       "      <td>0</td>\n",
       "      <td>0</td>\n",
       "      <td>0</td>\n",
       "      <td>1</td>\n",
       "      <td>1</td>\n",
       "    </tr>\n",
       "    <tr>\n",
       "      <th>3</th>\n",
       "      <td>135088</td>\n",
       "      <td>2</td>\n",
       "      <td>0.0</td>\n",
       "      <td>0.0</td>\n",
       "      <td>0.0</td>\n",
       "      <td>0.0</td>\n",
       "      <td>0.0</td>\n",
       "      <td>0.0</td>\n",
       "      <td>0.0</td>\n",
       "      <td>0.0</td>\n",
       "      <td>...</td>\n",
       "      <td>0</td>\n",
       "      <td>0</td>\n",
       "      <td>0</td>\n",
       "      <td>0</td>\n",
       "      <td>1</td>\n",
       "      <td>1</td>\n",
       "      <td>1</td>\n",
       "      <td>1</td>\n",
       "      <td>1</td>\n",
       "      <td>0</td>\n",
       "    </tr>\n",
       "    <tr>\n",
       "      <th>4</th>\n",
       "      <td>135086</td>\n",
       "      <td>2</td>\n",
       "      <td>0.0</td>\n",
       "      <td>0.0</td>\n",
       "      <td>0.0</td>\n",
       "      <td>0.0</td>\n",
       "      <td>0.0</td>\n",
       "      <td>0.0</td>\n",
       "      <td>0.0</td>\n",
       "      <td>0.0</td>\n",
       "      <td>...</td>\n",
       "      <td>0</td>\n",
       "      <td>0</td>\n",
       "      <td>0</td>\n",
       "      <td>0</td>\n",
       "      <td>2</td>\n",
       "      <td>0</td>\n",
       "      <td>0</td>\n",
       "      <td>0</td>\n",
       "      <td>1</td>\n",
       "      <td>0</td>\n",
       "    </tr>\n",
       "  </tbody>\n",
       "</table>\n",
       "<p>5 rows × 74 columns</p>\n",
       "</div>"
      ],
      "text/plain": [
       "   placeID  Rpayment  Rcuisine_Afghan  Rcuisine_African  Rcuisine_American  \\\n",
       "0   135109         2              0.0               0.0                0.0   \n",
       "1   135106         2              0.0               0.0                0.0   \n",
       "2   135104         2              0.0               0.0                0.0   \n",
       "3   135088         2              0.0               0.0                0.0   \n",
       "4   135086         2              0.0               0.0                0.0   \n",
       "\n",
       "   Rcuisine_Armenian  Rcuisine_Asian  Rcuisine_Bagels  Rcuisine_Bakery  \\\n",
       "0                0.0             0.0              0.0              0.0   \n",
       "1                0.0             0.0              0.0              0.0   \n",
       "2                0.0             0.0              0.0              0.0   \n",
       "3                0.0             0.0              0.0              0.0   \n",
       "4                0.0             0.0              0.0              0.0   \n",
       "\n",
       "   Rcuisine_Bar       ...        alcohol  smoking_area  dress_code  \\\n",
       "0           0.0       ...              1             0           0   \n",
       "1           0.0       ...              1             1           0   \n",
       "2           0.0       ...              1             0           0   \n",
       "3           0.0       ...              0             0           0   \n",
       "4           0.0       ...              0             0           0   \n",
       "\n",
       "   accessibility  price  url  Rambience  franchise  area  other_services  \n",
       "0              0      2    0          1          1     1               1  \n",
       "1              1      2    0          0          1     0               0  \n",
       "2              2      2    0          0          0     1               1  \n",
       "3              0      1    1          1          1     1               0  \n",
       "4              0      2    0          0          0     1               0  \n",
       "\n",
       "[5 rows x 74 columns]"
      ]
     },
     "execution_count": 39,
     "metadata": {},
     "output_type": "execute_result"
    }
   ],
   "source": [
    "res_total.head()"
   ]
  },
  {
   "cell_type": "code",
   "execution_count": 48,
   "metadata": {},
   "outputs": [
    {
     "name": "stdout",
     "output_type": "stream",
     "text": [
      "placeID                           0\n",
      "Rpayment                          0\n",
      "Rcuisine_Afghan                  35\n",
      "Rcuisine_African                 35\n",
      "Rcuisine_American                35\n",
      "Rcuisine_Armenian                35\n",
      "Rcuisine_Asian                   35\n",
      "Rcuisine_Bagels                  35\n",
      "Rcuisine_Bakery                  35\n",
      "Rcuisine_Bar                     35\n",
      "Rcuisine_Bar_Pub_Brewery         35\n",
      "Rcuisine_Barbecue                35\n",
      "Rcuisine_Brazilian               35\n",
      "Rcuisine_Breakfast-Brunch        35\n",
      "Rcuisine_Burgers                 35\n",
      "Rcuisine_Cafe-Coffee_Shop        35\n",
      "Rcuisine_Cafeteria               35\n",
      "Rcuisine_California              35\n",
      "Rcuisine_Caribbean               35\n",
      "Rcuisine_Chinese                 35\n",
      "Rcuisine_Contemporary            35\n",
      "Rcuisine_Continental-European    35\n",
      "Rcuisine_Deli-Sandwiches         35\n",
      "Rcuisine_Dessert-Ice_Cream       35\n",
      "Rcuisine_Diner                   35\n",
      "Rcuisine_Dutch-Belgian           35\n",
      "Rcuisine_Eastern_European        35\n",
      "Rcuisine_Ethiopian               35\n",
      "Rcuisine_Family                  35\n",
      "Rcuisine_Fast_Food               35\n",
      "                                 ..\n",
      "Rcuisine_Mongolian               35\n",
      "Rcuisine_Organic-Healthy         35\n",
      "Rcuisine_Persian                 35\n",
      "Rcuisine_Pizzeria                35\n",
      "Rcuisine_Polish                  35\n",
      "Rcuisine_Regional                35\n",
      "Rcuisine_Seafood                 35\n",
      "Rcuisine_Soup                    35\n",
      "Rcuisine_Southern                35\n",
      "Rcuisine_Southwestern            35\n",
      "Rcuisine_Spanish                 35\n",
      "Rcuisine_Steaks                  35\n",
      "Rcuisine_Sushi                   35\n",
      "Rcuisine_Thai                    35\n",
      "Rcuisine_Turkish                 35\n",
      "Rcuisine_Vegetarian              35\n",
      "Rcuisine_Vietnamese              35\n",
      "parking_lot                       0\n",
      "latitude                          0\n",
      "longitude                         0\n",
      "alcohol                           0\n",
      "smoking_area                      0\n",
      "dress_code                        0\n",
      "accessibility                     0\n",
      "price                             0\n",
      "url                               0\n",
      "Rambience                         0\n",
      "franchise                         0\n",
      "area                              0\n",
      "other_services                    0\n",
      "Length: 74, dtype: int64\n"
     ]
    }
   ],
   "source": [
    "print(res_total.isnull().sum())"
   ]
  },
  {
   "cell_type": "code",
   "execution_count": 49,
   "metadata": {
    "collapsed": true
   },
   "outputs": [],
   "source": [
    "res_total = res_total.fillna(0)"
   ]
  },
  {
   "cell_type": "code",
   "execution_count": 50,
   "metadata": {
    "collapsed": true
   },
   "outputs": [],
   "source": [
    "cuisines_to_drop = res_total.columns.values[np.sum(res_total,axis=0) == 0] \n",
    "res_total = res_total.drop(cuisines_to_drop, axis=1)"
   ]
  },
  {
   "cell_type": "code",
   "execution_count": 51,
   "metadata": {},
   "outputs": [
    {
     "data": {
      "text/html": [
       "<div>\n",
       "<style scoped>\n",
       "    .dataframe tbody tr th:only-of-type {\n",
       "        vertical-align: middle;\n",
       "    }\n",
       "\n",
       "    .dataframe tbody tr th {\n",
       "        vertical-align: top;\n",
       "    }\n",
       "\n",
       "    .dataframe thead th {\n",
       "        text-align: right;\n",
       "    }\n",
       "</style>\n",
       "<table border=\"1\" class=\"dataframe\">\n",
       "  <thead>\n",
       "    <tr style=\"text-align: right;\">\n",
       "      <th></th>\n",
       "      <th>placeID</th>\n",
       "      <th>Rpayment</th>\n",
       "      <th>Rcuisine_American</th>\n",
       "      <th>Rcuisine_Armenian</th>\n",
       "      <th>Rcuisine_Bakery</th>\n",
       "      <th>Rcuisine_Bar</th>\n",
       "      <th>Rcuisine_Bar_Pub_Brewery</th>\n",
       "      <th>Rcuisine_Breakfast-Brunch</th>\n",
       "      <th>Rcuisine_Burgers</th>\n",
       "      <th>Rcuisine_Cafe-Coffee_Shop</th>\n",
       "      <th>...</th>\n",
       "      <th>alcohol</th>\n",
       "      <th>smoking_area</th>\n",
       "      <th>dress_code</th>\n",
       "      <th>accessibility</th>\n",
       "      <th>price</th>\n",
       "      <th>url</th>\n",
       "      <th>Rambience</th>\n",
       "      <th>franchise</th>\n",
       "      <th>area</th>\n",
       "      <th>other_services</th>\n",
       "    </tr>\n",
       "  </thead>\n",
       "  <tbody>\n",
       "    <tr>\n",
       "      <th>0</th>\n",
       "      <td>135109</td>\n",
       "      <td>2</td>\n",
       "      <td>0.0</td>\n",
       "      <td>0.0</td>\n",
       "      <td>0.0</td>\n",
       "      <td>0.0</td>\n",
       "      <td>0.0</td>\n",
       "      <td>0.0</td>\n",
       "      <td>0.0</td>\n",
       "      <td>0.0</td>\n",
       "      <td>...</td>\n",
       "      <td>1</td>\n",
       "      <td>0</td>\n",
       "      <td>0</td>\n",
       "      <td>0</td>\n",
       "      <td>2</td>\n",
       "      <td>0</td>\n",
       "      <td>1</td>\n",
       "      <td>1</td>\n",
       "      <td>1</td>\n",
       "      <td>1</td>\n",
       "    </tr>\n",
       "    <tr>\n",
       "      <th>1</th>\n",
       "      <td>135106</td>\n",
       "      <td>2</td>\n",
       "      <td>0.0</td>\n",
       "      <td>0.0</td>\n",
       "      <td>0.0</td>\n",
       "      <td>0.0</td>\n",
       "      <td>0.0</td>\n",
       "      <td>0.0</td>\n",
       "      <td>0.0</td>\n",
       "      <td>0.0</td>\n",
       "      <td>...</td>\n",
       "      <td>1</td>\n",
       "      <td>1</td>\n",
       "      <td>0</td>\n",
       "      <td>1</td>\n",
       "      <td>2</td>\n",
       "      <td>0</td>\n",
       "      <td>0</td>\n",
       "      <td>1</td>\n",
       "      <td>0</td>\n",
       "      <td>0</td>\n",
       "    </tr>\n",
       "    <tr>\n",
       "      <th>2</th>\n",
       "      <td>135104</td>\n",
       "      <td>2</td>\n",
       "      <td>0.0</td>\n",
       "      <td>0.0</td>\n",
       "      <td>0.0</td>\n",
       "      <td>0.0</td>\n",
       "      <td>0.0</td>\n",
       "      <td>0.0</td>\n",
       "      <td>0.0</td>\n",
       "      <td>0.0</td>\n",
       "      <td>...</td>\n",
       "      <td>1</td>\n",
       "      <td>0</td>\n",
       "      <td>0</td>\n",
       "      <td>2</td>\n",
       "      <td>2</td>\n",
       "      <td>0</td>\n",
       "      <td>0</td>\n",
       "      <td>0</td>\n",
       "      <td>1</td>\n",
       "      <td>1</td>\n",
       "    </tr>\n",
       "    <tr>\n",
       "      <th>3</th>\n",
       "      <td>135088</td>\n",
       "      <td>2</td>\n",
       "      <td>0.0</td>\n",
       "      <td>0.0</td>\n",
       "      <td>0.0</td>\n",
       "      <td>0.0</td>\n",
       "      <td>0.0</td>\n",
       "      <td>0.0</td>\n",
       "      <td>0.0</td>\n",
       "      <td>0.0</td>\n",
       "      <td>...</td>\n",
       "      <td>0</td>\n",
       "      <td>0</td>\n",
       "      <td>0</td>\n",
       "      <td>0</td>\n",
       "      <td>1</td>\n",
       "      <td>1</td>\n",
       "      <td>1</td>\n",
       "      <td>1</td>\n",
       "      <td>1</td>\n",
       "      <td>0</td>\n",
       "    </tr>\n",
       "    <tr>\n",
       "      <th>4</th>\n",
       "      <td>135086</td>\n",
       "      <td>2</td>\n",
       "      <td>0.0</td>\n",
       "      <td>0.0</td>\n",
       "      <td>0.0</td>\n",
       "      <td>0.0</td>\n",
       "      <td>0.0</td>\n",
       "      <td>0.0</td>\n",
       "      <td>1.0</td>\n",
       "      <td>0.0</td>\n",
       "      <td>...</td>\n",
       "      <td>0</td>\n",
       "      <td>0</td>\n",
       "      <td>0</td>\n",
       "      <td>0</td>\n",
       "      <td>2</td>\n",
       "      <td>0</td>\n",
       "      <td>0</td>\n",
       "      <td>0</td>\n",
       "      <td>1</td>\n",
       "      <td>0</td>\n",
       "    </tr>\n",
       "  </tbody>\n",
       "</table>\n",
       "<p>5 rows × 38 columns</p>\n",
       "</div>"
      ],
      "text/plain": [
       "   placeID  Rpayment  Rcuisine_American  Rcuisine_Armenian  Rcuisine_Bakery  \\\n",
       "0   135109         2                0.0                0.0              0.0   \n",
       "1   135106         2                0.0                0.0              0.0   \n",
       "2   135104         2                0.0                0.0              0.0   \n",
       "3   135088         2                0.0                0.0              0.0   \n",
       "4   135086         2                0.0                0.0              0.0   \n",
       "\n",
       "   Rcuisine_Bar  Rcuisine_Bar_Pub_Brewery  Rcuisine_Breakfast-Brunch  \\\n",
       "0           0.0                       0.0                        0.0   \n",
       "1           0.0                       0.0                        0.0   \n",
       "2           0.0                       0.0                        0.0   \n",
       "3           0.0                       0.0                        0.0   \n",
       "4           0.0                       0.0                        0.0   \n",
       "\n",
       "   Rcuisine_Burgers  Rcuisine_Cafe-Coffee_Shop       ...        alcohol  \\\n",
       "0               0.0                        0.0       ...              1   \n",
       "1               0.0                        0.0       ...              1   \n",
       "2               0.0                        0.0       ...              1   \n",
       "3               0.0                        0.0       ...              0   \n",
       "4               1.0                        0.0       ...              0   \n",
       "\n",
       "   smoking_area  dress_code  accessibility  price  url  Rambience  franchise  \\\n",
       "0             0           0              0      2    0          1          1   \n",
       "1             1           0              1      2    0          0          1   \n",
       "2             0           0              2      2    0          0          0   \n",
       "3             0           0              0      1    1          1          1   \n",
       "4             0           0              0      2    0          0          0   \n",
       "\n",
       "   area  other_services  \n",
       "0     1               1  \n",
       "1     0               0  \n",
       "2     1               1  \n",
       "3     1               0  \n",
       "4     1               0  \n",
       "\n",
       "[5 rows x 38 columns]"
      ]
     },
     "execution_count": 51,
     "metadata": {},
     "output_type": "execute_result"
    }
   ],
   "source": [
    "res_total.head()"
   ]
  },
  {
   "cell_type": "code",
   "execution_count": null,
   "metadata": {
    "collapsed": true
   },
   "outputs": [],
   "source": [
    "res_total_bkup = pd.merge(left= res_total_bkup, right= final_rating, how='left', on='placeID')"
   ]
  },
  {
   "cell_type": "code",
   "execution_count": 58,
   "metadata": {
    "collapsed": true
   },
   "outputs": [],
   "source": [
    "overall_rating = pd.DataFrame( np.zeros((len(res_total),len(total_no_users)))-1.0, \n",
    "                              columns=total_no_users, index=res_total['placeID'] )\n",
    "food_rating = overall_rating.copy()\n",
    "service_rating = overall_rating.copy()"
   ]
  },
  {
   "cell_type": "code",
   "execution_count": 57,
   "metadata": {},
   "outputs": [
    {
     "data": {
      "text/plain": [
       "(130, 138)"
      ]
     },
     "execution_count": 57,
     "metadata": {},
     "output_type": "execute_result"
    }
   ],
   "source": [
    "overall_rating.shape"
   ]
  },
  {
   "cell_type": "code",
   "execution_count": 70,
   "metadata": {
    "collapsed": true
   },
   "outputs": [],
   "source": [
    "for r, u, o, f, s in zip(final_rating.placeID, final_rating.userID, final_rating.rating, final_rating.food_rating, \n",
    "                         final_rating.service_rating):\n",
    "    overall_rating.loc[r,u] = o\n",
    "    food_rating.loc[r,u] = f\n",
    "    service_rating.loc[r,u] = s"
   ]
  },
  {
   "cell_type": "code",
   "execution_count": 72,
   "metadata": {
    "collapsed": true
   },
   "outputs": [],
   "source": [
    "# This tells us whether a restaurant-user pair has a rating. 0 means No and 1 means Yes.\n",
    "review = pd.DataFrame( np.zeros(overall_rating.shape), columns=total_no_users, index=res_total['placeID'])\n",
    "review[overall_rating >= 0] = 1"
   ]
  },
  {
   "cell_type": "code",
   "execution_count": 73,
   "metadata": {},
   "outputs": [
    {
     "data": {
      "text/html": [
       "<div>\n",
       "<style scoped>\n",
       "    .dataframe tbody tr th:only-of-type {\n",
       "        vertical-align: middle;\n",
       "    }\n",
       "\n",
       "    .dataframe tbody tr th {\n",
       "        vertical-align: top;\n",
       "    }\n",
       "\n",
       "    .dataframe thead th {\n",
       "        text-align: right;\n",
       "    }\n",
       "</style>\n",
       "<table border=\"1\" class=\"dataframe\">\n",
       "  <thead>\n",
       "    <tr style=\"text-align: right;\">\n",
       "      <th>userID</th>\n",
       "      <th>U1001</th>\n",
       "      <th>U1002</th>\n",
       "      <th>U1003</th>\n",
       "      <th>U1004</th>\n",
       "      <th>U1005</th>\n",
       "      <th>U1006</th>\n",
       "      <th>U1007</th>\n",
       "      <th>U1008</th>\n",
       "      <th>U1009</th>\n",
       "      <th>U1010</th>\n",
       "      <th>...</th>\n",
       "      <th>U1129</th>\n",
       "      <th>U1130</th>\n",
       "      <th>U1131</th>\n",
       "      <th>U1132</th>\n",
       "      <th>U1133</th>\n",
       "      <th>U1134</th>\n",
       "      <th>U1135</th>\n",
       "      <th>U1136</th>\n",
       "      <th>U1137</th>\n",
       "      <th>U1138</th>\n",
       "    </tr>\n",
       "    <tr>\n",
       "      <th>placeID</th>\n",
       "      <th></th>\n",
       "      <th></th>\n",
       "      <th></th>\n",
       "      <th></th>\n",
       "      <th></th>\n",
       "      <th></th>\n",
       "      <th></th>\n",
       "      <th></th>\n",
       "      <th></th>\n",
       "      <th></th>\n",
       "      <th></th>\n",
       "      <th></th>\n",
       "      <th></th>\n",
       "      <th></th>\n",
       "      <th></th>\n",
       "      <th></th>\n",
       "      <th></th>\n",
       "      <th></th>\n",
       "      <th></th>\n",
       "      <th></th>\n",
       "      <th></th>\n",
       "    </tr>\n",
       "  </thead>\n",
       "  <tbody>\n",
       "    <tr>\n",
       "      <th>135109</th>\n",
       "      <td>0.0</td>\n",
       "      <td>0.0</td>\n",
       "      <td>0.0</td>\n",
       "      <td>0.0</td>\n",
       "      <td>0.0</td>\n",
       "      <td>0.0</td>\n",
       "      <td>0.0</td>\n",
       "      <td>0.0</td>\n",
       "      <td>0.0</td>\n",
       "      <td>0.0</td>\n",
       "      <td>...</td>\n",
       "      <td>0.0</td>\n",
       "      <td>0.0</td>\n",
       "      <td>0.0</td>\n",
       "      <td>0.0</td>\n",
       "      <td>0.0</td>\n",
       "      <td>0.0</td>\n",
       "      <td>0.0</td>\n",
       "      <td>0.0</td>\n",
       "      <td>0.0</td>\n",
       "      <td>0.0</td>\n",
       "    </tr>\n",
       "    <tr>\n",
       "      <th>135106</th>\n",
       "      <td>0.0</td>\n",
       "      <td>1.0</td>\n",
       "      <td>0.0</td>\n",
       "      <td>1.0</td>\n",
       "      <td>0.0</td>\n",
       "      <td>0.0</td>\n",
       "      <td>0.0</td>\n",
       "      <td>0.0</td>\n",
       "      <td>0.0</td>\n",
       "      <td>0.0</td>\n",
       "      <td>...</td>\n",
       "      <td>0.0</td>\n",
       "      <td>0.0</td>\n",
       "      <td>0.0</td>\n",
       "      <td>0.0</td>\n",
       "      <td>0.0</td>\n",
       "      <td>0.0</td>\n",
       "      <td>1.0</td>\n",
       "      <td>0.0</td>\n",
       "      <td>0.0</td>\n",
       "      <td>0.0</td>\n",
       "    </tr>\n",
       "    <tr>\n",
       "      <th>135104</th>\n",
       "      <td>0.0</td>\n",
       "      <td>0.0</td>\n",
       "      <td>0.0</td>\n",
       "      <td>0.0</td>\n",
       "      <td>0.0</td>\n",
       "      <td>0.0</td>\n",
       "      <td>0.0</td>\n",
       "      <td>0.0</td>\n",
       "      <td>0.0</td>\n",
       "      <td>0.0</td>\n",
       "      <td>...</td>\n",
       "      <td>0.0</td>\n",
       "      <td>0.0</td>\n",
       "      <td>0.0</td>\n",
       "      <td>0.0</td>\n",
       "      <td>0.0</td>\n",
       "      <td>0.0</td>\n",
       "      <td>0.0</td>\n",
       "      <td>0.0</td>\n",
       "      <td>0.0</td>\n",
       "      <td>0.0</td>\n",
       "    </tr>\n",
       "    <tr>\n",
       "      <th>135088</th>\n",
       "      <td>0.0</td>\n",
       "      <td>0.0</td>\n",
       "      <td>0.0</td>\n",
       "      <td>0.0</td>\n",
       "      <td>0.0</td>\n",
       "      <td>0.0</td>\n",
       "      <td>0.0</td>\n",
       "      <td>0.0</td>\n",
       "      <td>0.0</td>\n",
       "      <td>0.0</td>\n",
       "      <td>...</td>\n",
       "      <td>0.0</td>\n",
       "      <td>0.0</td>\n",
       "      <td>0.0</td>\n",
       "      <td>0.0</td>\n",
       "      <td>0.0</td>\n",
       "      <td>0.0</td>\n",
       "      <td>0.0</td>\n",
       "      <td>0.0</td>\n",
       "      <td>0.0</td>\n",
       "      <td>0.0</td>\n",
       "    </tr>\n",
       "    <tr>\n",
       "      <th>135086</th>\n",
       "      <td>0.0</td>\n",
       "      <td>0.0</td>\n",
       "      <td>0.0</td>\n",
       "      <td>0.0</td>\n",
       "      <td>0.0</td>\n",
       "      <td>0.0</td>\n",
       "      <td>1.0</td>\n",
       "      <td>0.0</td>\n",
       "      <td>0.0</td>\n",
       "      <td>0.0</td>\n",
       "      <td>...</td>\n",
       "      <td>0.0</td>\n",
       "      <td>0.0</td>\n",
       "      <td>0.0</td>\n",
       "      <td>0.0</td>\n",
       "      <td>0.0</td>\n",
       "      <td>0.0</td>\n",
       "      <td>0.0</td>\n",
       "      <td>0.0</td>\n",
       "      <td>0.0</td>\n",
       "      <td>0.0</td>\n",
       "    </tr>\n",
       "  </tbody>\n",
       "</table>\n",
       "<p>5 rows × 138 columns</p>\n",
       "</div>"
      ],
      "text/plain": [
       "userID   U1001  U1002  U1003  U1004  U1005  U1006  U1007  U1008  U1009  U1010  \\\n",
       "placeID                                                                         \n",
       "135109     0.0    0.0    0.0    0.0    0.0    0.0    0.0    0.0    0.0    0.0   \n",
       "135106     0.0    1.0    0.0    1.0    0.0    0.0    0.0    0.0    0.0    0.0   \n",
       "135104     0.0    0.0    0.0    0.0    0.0    0.0    0.0    0.0    0.0    0.0   \n",
       "135088     0.0    0.0    0.0    0.0    0.0    0.0    0.0    0.0    0.0    0.0   \n",
       "135086     0.0    0.0    0.0    0.0    0.0    0.0    1.0    0.0    0.0    0.0   \n",
       "\n",
       "userID   ...    U1129  U1130  U1131  U1132  U1133  U1134  U1135  U1136  U1137  \\\n",
       "placeID  ...                                                                    \n",
       "135109   ...      0.0    0.0    0.0    0.0    0.0    0.0    0.0    0.0    0.0   \n",
       "135106   ...      0.0    0.0    0.0    0.0    0.0    0.0    1.0    0.0    0.0   \n",
       "135104   ...      0.0    0.0    0.0    0.0    0.0    0.0    0.0    0.0    0.0   \n",
       "135088   ...      0.0    0.0    0.0    0.0    0.0    0.0    0.0    0.0    0.0   \n",
       "135086   ...      0.0    0.0    0.0    0.0    0.0    0.0    0.0    0.0    0.0   \n",
       "\n",
       "userID   U1138  \n",
       "placeID         \n",
       "135109     0.0  \n",
       "135106     0.0  \n",
       "135104     0.0  \n",
       "135088     0.0  \n",
       "135086     0.0  \n",
       "\n",
       "[5 rows x 138 columns]"
      ]
     },
     "execution_count": 73,
     "metadata": {},
     "output_type": "execute_result"
    }
   ],
   "source": [
    "review.head()"
   ]
  },
  {
   "cell_type": "code",
   "execution_count": 98,
   "metadata": {
    "collapsed": true
   },
   "outputs": [],
   "source": [
    "# Calculate the mean rating for each restaurant\n",
    "def GetMean(Y,R,column_name):\n",
    "\n",
    "    Y = Y*R    \n",
    "    Y[column_name] =  (np.sum(Y, axis=1)/np.sum((R == 1.0), axis=1))\n",
    "    mean_df = pd.DataFrame(Y[column_name])\n",
    "    return mean_df\n",
    "\n",
    "Y_overall_mean = GetMean(overall_rating,review, 'overall_rating')\n",
    "Y_food_mean = GetMean(food_rating,review, 'food_rating')\n",
    "Y_service_mean = GetMean(service_rating,review, 'service_rating')"
   ]
  },
  {
   "cell_type": "code",
   "execution_count": 159,
   "metadata": {},
   "outputs": [
    {
     "data": {
      "text/html": [
       "<div>\n",
       "<style scoped>\n",
       "    .dataframe tbody tr th:only-of-type {\n",
       "        vertical-align: middle;\n",
       "    }\n",
       "\n",
       "    .dataframe tbody tr th {\n",
       "        vertical-align: top;\n",
       "    }\n",
       "\n",
       "    .dataframe thead th {\n",
       "        text-align: right;\n",
       "    }\n",
       "</style>\n",
       "<table border=\"1\" class=\"dataframe\">\n",
       "  <thead>\n",
       "    <tr style=\"text-align: right;\">\n",
       "      <th></th>\n",
       "      <th>placeID</th>\n",
       "      <th>Rpayment</th>\n",
       "      <th>Rcuisine_American</th>\n",
       "      <th>Rcuisine_Armenian</th>\n",
       "      <th>Rcuisine_Bakery</th>\n",
       "      <th>Rcuisine_Bar</th>\n",
       "      <th>Rcuisine_Bar_Pub_Brewery</th>\n",
       "      <th>Rcuisine_Breakfast-Brunch</th>\n",
       "      <th>Rcuisine_Burgers</th>\n",
       "      <th>Rcuisine_Cafe-Coffee_Shop</th>\n",
       "      <th>...</th>\n",
       "      <th>accessibility</th>\n",
       "      <th>price</th>\n",
       "      <th>url</th>\n",
       "      <th>Rambience</th>\n",
       "      <th>franchise</th>\n",
       "      <th>area</th>\n",
       "      <th>other_services</th>\n",
       "      <th>overall_rating</th>\n",
       "      <th>food_rating</th>\n",
       "      <th>service_rating</th>\n",
       "    </tr>\n",
       "  </thead>\n",
       "  <tbody>\n",
       "    <tr>\n",
       "      <th>0</th>\n",
       "      <td>135109</td>\n",
       "      <td>2</td>\n",
       "      <td>0.0</td>\n",
       "      <td>0.0</td>\n",
       "      <td>0.0</td>\n",
       "      <td>0.0</td>\n",
       "      <td>0.0</td>\n",
       "      <td>0.0</td>\n",
       "      <td>0.0</td>\n",
       "      <td>0.0</td>\n",
       "      <td>...</td>\n",
       "      <td>0</td>\n",
       "      <td>2</td>\n",
       "      <td>0</td>\n",
       "      <td>1</td>\n",
       "      <td>1</td>\n",
       "      <td>1</td>\n",
       "      <td>1</td>\n",
       "      <td>1.000000</td>\n",
       "      <td>1.250000</td>\n",
       "      <td>0.750000</td>\n",
       "    </tr>\n",
       "    <tr>\n",
       "      <th>1</th>\n",
       "      <td>135106</td>\n",
       "      <td>2</td>\n",
       "      <td>0.0</td>\n",
       "      <td>0.0</td>\n",
       "      <td>0.0</td>\n",
       "      <td>0.0</td>\n",
       "      <td>0.0</td>\n",
       "      <td>0.0</td>\n",
       "      <td>0.0</td>\n",
       "      <td>0.0</td>\n",
       "      <td>...</td>\n",
       "      <td>1</td>\n",
       "      <td>2</td>\n",
       "      <td>0</td>\n",
       "      <td>0</td>\n",
       "      <td>1</td>\n",
       "      <td>0</td>\n",
       "      <td>0</td>\n",
       "      <td>1.200000</td>\n",
       "      <td>1.200000</td>\n",
       "      <td>1.200000</td>\n",
       "    </tr>\n",
       "    <tr>\n",
       "      <th>2</th>\n",
       "      <td>135104</td>\n",
       "      <td>2</td>\n",
       "      <td>0.0</td>\n",
       "      <td>0.0</td>\n",
       "      <td>0.0</td>\n",
       "      <td>0.0</td>\n",
       "      <td>0.0</td>\n",
       "      <td>0.0</td>\n",
       "      <td>0.0</td>\n",
       "      <td>0.0</td>\n",
       "      <td>...</td>\n",
       "      <td>2</td>\n",
       "      <td>2</td>\n",
       "      <td>0</td>\n",
       "      <td>0</td>\n",
       "      <td>0</td>\n",
       "      <td>1</td>\n",
       "      <td>1</td>\n",
       "      <td>0.857143</td>\n",
       "      <td>1.428571</td>\n",
       "      <td>0.857143</td>\n",
       "    </tr>\n",
       "    <tr>\n",
       "      <th>3</th>\n",
       "      <td>135088</td>\n",
       "      <td>2</td>\n",
       "      <td>0.0</td>\n",
       "      <td>0.0</td>\n",
       "      <td>0.0</td>\n",
       "      <td>0.0</td>\n",
       "      <td>0.0</td>\n",
       "      <td>0.0</td>\n",
       "      <td>0.0</td>\n",
       "      <td>0.0</td>\n",
       "      <td>...</td>\n",
       "      <td>0</td>\n",
       "      <td>1</td>\n",
       "      <td>1</td>\n",
       "      <td>1</td>\n",
       "      <td>1</td>\n",
       "      <td>1</td>\n",
       "      <td>0</td>\n",
       "      <td>1.000000</td>\n",
       "      <td>1.166667</td>\n",
       "      <td>1.000000</td>\n",
       "    </tr>\n",
       "    <tr>\n",
       "      <th>4</th>\n",
       "      <td>135086</td>\n",
       "      <td>2</td>\n",
       "      <td>0.0</td>\n",
       "      <td>0.0</td>\n",
       "      <td>0.0</td>\n",
       "      <td>0.0</td>\n",
       "      <td>0.0</td>\n",
       "      <td>0.0</td>\n",
       "      <td>1.0</td>\n",
       "      <td>0.0</td>\n",
       "      <td>...</td>\n",
       "      <td>0</td>\n",
       "      <td>2</td>\n",
       "      <td>0</td>\n",
       "      <td>0</td>\n",
       "      <td>0</td>\n",
       "      <td>1</td>\n",
       "      <td>0</td>\n",
       "      <td>0.800000</td>\n",
       "      <td>0.600000</td>\n",
       "      <td>0.800000</td>\n",
       "    </tr>\n",
       "  </tbody>\n",
       "</table>\n",
       "<p>5 rows × 41 columns</p>\n",
       "</div>"
      ],
      "text/plain": [
       "   placeID  Rpayment  Rcuisine_American  Rcuisine_Armenian  Rcuisine_Bakery  \\\n",
       "0   135109         2                0.0                0.0              0.0   \n",
       "1   135106         2                0.0                0.0              0.0   \n",
       "2   135104         2                0.0                0.0              0.0   \n",
       "3   135088         2                0.0                0.0              0.0   \n",
       "4   135086         2                0.0                0.0              0.0   \n",
       "\n",
       "   Rcuisine_Bar  Rcuisine_Bar_Pub_Brewery  Rcuisine_Breakfast-Brunch  \\\n",
       "0           0.0                       0.0                        0.0   \n",
       "1           0.0                       0.0                        0.0   \n",
       "2           0.0                       0.0                        0.0   \n",
       "3           0.0                       0.0                        0.0   \n",
       "4           0.0                       0.0                        0.0   \n",
       "\n",
       "   Rcuisine_Burgers  Rcuisine_Cafe-Coffee_Shop       ...        accessibility  \\\n",
       "0               0.0                        0.0       ...                    0   \n",
       "1               0.0                        0.0       ...                    1   \n",
       "2               0.0                        0.0       ...                    2   \n",
       "3               0.0                        0.0       ...                    0   \n",
       "4               1.0                        0.0       ...                    0   \n",
       "\n",
       "   price  url  Rambience  franchise  area  other_services  overall_rating  \\\n",
       "0      2    0          1          1     1               1        1.000000   \n",
       "1      2    0          0          1     0               0        1.200000   \n",
       "2      2    0          0          0     1               1        0.857143   \n",
       "3      1    1          1          1     1               0        1.000000   \n",
       "4      2    0          0          0     1               0        0.800000   \n",
       "\n",
       "   food_rating  service_rating  \n",
       "0     1.250000        0.750000  \n",
       "1     1.200000        1.200000  \n",
       "2     1.428571        0.857143  \n",
       "3     1.166667        1.000000  \n",
       "4     0.600000        0.800000  \n",
       "\n",
       "[5 rows x 41 columns]"
      ]
     },
     "execution_count": 159,
     "metadata": {},
     "output_type": "execute_result"
    }
   ],
   "source": [
    "# For feature engineering, create a dataframe that analyse restaurant features with ratings\n",
    "res_total_feature_analyse = res_total.copy()\n",
    "res_total_feature_analyse = pd.merge(left=res_total_feature_analyse, right=Y_overall_mean, how='left', on='placeID')\n",
    "res_total_feature_analyse = pd.merge(left=res_total_feature_analyse, right=Y_food_mean, how='left', on='placeID')\n",
    "res_total_feature_analyse = pd.merge(left=res_total_feature_analyse, right=Y_service_mean, how='left', on='placeID')\n",
    "res_total_feature_analyse.head()"
   ]
  },
  {
   "cell_type": "code",
   "execution_count": 160,
   "metadata": {},
   "outputs": [
    {
     "data": {
      "text/html": [
       "<div>\n",
       "<style scoped>\n",
       "    .dataframe tbody tr th:only-of-type {\n",
       "        vertical-align: middle;\n",
       "    }\n",
       "\n",
       "    .dataframe tbody tr th {\n",
       "        vertical-align: top;\n",
       "    }\n",
       "\n",
       "    .dataframe thead th {\n",
       "        text-align: right;\n",
       "    }\n",
       "</style>\n",
       "<table border=\"1\" class=\"dataframe\">\n",
       "  <thead>\n",
       "    <tr style=\"text-align: right;\">\n",
       "      <th></th>\n",
       "      <th>placeID</th>\n",
       "      <th>Rpayment</th>\n",
       "      <th>Rcuisine_American</th>\n",
       "      <th>Rcuisine_Armenian</th>\n",
       "      <th>Rcuisine_Bakery</th>\n",
       "      <th>Rcuisine_Bar</th>\n",
       "      <th>Rcuisine_Bar_Pub_Brewery</th>\n",
       "      <th>Rcuisine_Breakfast-Brunch</th>\n",
       "      <th>Rcuisine_Burgers</th>\n",
       "      <th>Rcuisine_Cafe-Coffee_Shop</th>\n",
       "      <th>...</th>\n",
       "      <th>interest</th>\n",
       "      <th>personality</th>\n",
       "      <th>religion</th>\n",
       "      <th>activity</th>\n",
       "      <th>color</th>\n",
       "      <th>weight</th>\n",
       "      <th>budget</th>\n",
       "      <th>height</th>\n",
       "      <th>Rcuisine</th>\n",
       "      <th>Upayment</th>\n",
       "    </tr>\n",
       "  </thead>\n",
       "  <tbody>\n",
       "    <tr>\n",
       "      <th>0</th>\n",
       "      <td>135109</td>\n",
       "      <td>2</td>\n",
       "      <td>0.0</td>\n",
       "      <td>0.0</td>\n",
       "      <td>0.0</td>\n",
       "      <td>0.0</td>\n",
       "      <td>0.0</td>\n",
       "      <td>0.0</td>\n",
       "      <td>0.0</td>\n",
       "      <td>0.0</td>\n",
       "      <td>...</td>\n",
       "      <td>eco-friendly</td>\n",
       "      <td>hard-worker</td>\n",
       "      <td>Catholic</td>\n",
       "      <td>student</td>\n",
       "      <td>black</td>\n",
       "      <td>64</td>\n",
       "      <td>medium</td>\n",
       "      <td>1.75</td>\n",
       "      <td>[Mexican]</td>\n",
       "      <td>[cash]</td>\n",
       "    </tr>\n",
       "    <tr>\n",
       "      <th>1</th>\n",
       "      <td>135109</td>\n",
       "      <td>2</td>\n",
       "      <td>0.0</td>\n",
       "      <td>0.0</td>\n",
       "      <td>0.0</td>\n",
       "      <td>0.0</td>\n",
       "      <td>0.0</td>\n",
       "      <td>0.0</td>\n",
       "      <td>0.0</td>\n",
       "      <td>0.0</td>\n",
       "      <td>...</td>\n",
       "      <td>technology</td>\n",
       "      <td>hard-worker</td>\n",
       "      <td>Catholic</td>\n",
       "      <td>professional</td>\n",
       "      <td>blue</td>\n",
       "      <td>40</td>\n",
       "      <td>medium</td>\n",
       "      <td>1.68</td>\n",
       "      <td>[Mexican]</td>\n",
       "      <td>[cash, bank_debit_cards]</td>\n",
       "    </tr>\n",
       "    <tr>\n",
       "      <th>2</th>\n",
       "      <td>135109</td>\n",
       "      <td>2</td>\n",
       "      <td>0.0</td>\n",
       "      <td>0.0</td>\n",
       "      <td>0.0</td>\n",
       "      <td>0.0</td>\n",
       "      <td>0.0</td>\n",
       "      <td>0.0</td>\n",
       "      <td>0.0</td>\n",
       "      <td>0.0</td>\n",
       "      <td>...</td>\n",
       "      <td>variety</td>\n",
       "      <td>thrifty-protector</td>\n",
       "      <td>none</td>\n",
       "      <td>professional</td>\n",
       "      <td>blue</td>\n",
       "      <td>74</td>\n",
       "      <td>medium</td>\n",
       "      <td>1.76</td>\n",
       "      <td>[Mexican]</td>\n",
       "      <td>[VISA, cash]</td>\n",
       "    </tr>\n",
       "    <tr>\n",
       "      <th>3</th>\n",
       "      <td>135109</td>\n",
       "      <td>2</td>\n",
       "      <td>0.0</td>\n",
       "      <td>0.0</td>\n",
       "      <td>0.0</td>\n",
       "      <td>0.0</td>\n",
       "      <td>0.0</td>\n",
       "      <td>0.0</td>\n",
       "      <td>0.0</td>\n",
       "      <td>0.0</td>\n",
       "      <td>...</td>\n",
       "      <td>eco-friendly</td>\n",
       "      <td>hunter-ostentatious</td>\n",
       "      <td>Catholic</td>\n",
       "      <td>professional</td>\n",
       "      <td>white</td>\n",
       "      <td>40</td>\n",
       "      <td>medium</td>\n",
       "      <td>1.62</td>\n",
       "      <td>[Contemporary]</td>\n",
       "      <td>[bank_debit_cards, cash, American_Express, VISA]</td>\n",
       "    </tr>\n",
       "    <tr>\n",
       "      <th>4</th>\n",
       "      <td>135106</td>\n",
       "      <td>2</td>\n",
       "      <td>0.0</td>\n",
       "      <td>0.0</td>\n",
       "      <td>0.0</td>\n",
       "      <td>0.0</td>\n",
       "      <td>0.0</td>\n",
       "      <td>0.0</td>\n",
       "      <td>0.0</td>\n",
       "      <td>0.0</td>\n",
       "      <td>...</td>\n",
       "      <td>none</td>\n",
       "      <td>hard-worker</td>\n",
       "      <td>Catholic</td>\n",
       "      <td>professional</td>\n",
       "      <td>blue</td>\n",
       "      <td>70</td>\n",
       "      <td>medium</td>\n",
       "      <td>1.66</td>\n",
       "      <td>[Breakfast-Brunch]</td>\n",
       "      <td>[cash]</td>\n",
       "    </tr>\n",
       "  </tbody>\n",
       "</table>\n",
       "<p>5 rows × 62 columns</p>\n",
       "</div>"
      ],
      "text/plain": [
       "   placeID  Rpayment  Rcuisine_American  Rcuisine_Armenian  Rcuisine_Bakery  \\\n",
       "0   135109         2                0.0                0.0              0.0   \n",
       "1   135109         2                0.0                0.0              0.0   \n",
       "2   135109         2                0.0                0.0              0.0   \n",
       "3   135109         2                0.0                0.0              0.0   \n",
       "4   135106         2                0.0                0.0              0.0   \n",
       "\n",
       "   Rcuisine_Bar  Rcuisine_Bar_Pub_Brewery  Rcuisine_Breakfast-Brunch  \\\n",
       "0           0.0                       0.0                        0.0   \n",
       "1           0.0                       0.0                        0.0   \n",
       "2           0.0                       0.0                        0.0   \n",
       "3           0.0                       0.0                        0.0   \n",
       "4           0.0                       0.0                        0.0   \n",
       "\n",
       "   Rcuisine_Burgers  Rcuisine_Cafe-Coffee_Shop  \\\n",
       "0               0.0                        0.0   \n",
       "1               0.0                        0.0   \n",
       "2               0.0                        0.0   \n",
       "3               0.0                        0.0   \n",
       "4               0.0                        0.0   \n",
       "\n",
       "                         ...                             interest  \\\n",
       "0                        ...                         eco-friendly   \n",
       "1                        ...                           technology   \n",
       "2                        ...                              variety   \n",
       "3                        ...                         eco-friendly   \n",
       "4                        ...                                 none   \n",
       "\n",
       "           personality  religion      activity  color  weight  budget  height  \\\n",
       "0          hard-worker  Catholic       student  black      64  medium    1.75   \n",
       "1          hard-worker  Catholic  professional   blue      40  medium    1.68   \n",
       "2    thrifty-protector      none  professional   blue      74  medium    1.76   \n",
       "3  hunter-ostentatious  Catholic  professional  white      40  medium    1.62   \n",
       "4          hard-worker  Catholic  professional   blue      70  medium    1.66   \n",
       "\n",
       "             Rcuisine                                          Upayment  \n",
       "0           [Mexican]                                            [cash]  \n",
       "1           [Mexican]                          [cash, bank_debit_cards]  \n",
       "2           [Mexican]                                      [VISA, cash]  \n",
       "3      [Contemporary]  [bank_debit_cards, cash, American_Express, VISA]  \n",
       "4  [Breakfast-Brunch]                                            [cash]  \n",
       "\n",
       "[5 rows x 62 columns]"
      ]
     },
     "execution_count": 160,
     "metadata": {},
     "output_type": "execute_result"
    }
   ],
   "source": [
    "# create a dataframe that analyse user_info features along with restaurant features with ratings\n",
    "res_total_user_feature = res_total.copy()\n",
    "res_total_user_feature = pd.merge(left=res_total_user_feature, right = final_rating, how='left', on = 'placeID')\n",
    "res_total_user_feature = pd.merge(left=res_total_user_feature, right = user_total, how='left', on = 'userID')\n",
    "res_total_user_feature.head()"
   ]
  },
  {
   "cell_type": "code",
   "execution_count": 174,
   "metadata": {
    "collapsed": true
   },
   "outputs": [],
   "source": [
    "res_total_user_feature.transport = res_total_user_feature.transport.replace({'public':'no car', 'on foot':'no car'})\n",
    "res_total_user_feature.dress_preference = res_total_user_feature.dress_preference.replace({'elegant':'formal'})"
   ]
  },
  {
   "cell_type": "code",
   "execution_count": 136,
   "metadata": {
    "collapsed": true
   },
   "outputs": [],
   "source": [
    "import matplotlib.pyplot as plt\n",
    "\n",
    "# plots how different type of ratings vary with restaurant features\n",
    "def feature_groupby(df,group_by_column_name,Xlabel_names,Xlabel_range):\n",
    "    groupby_overall = df['overall_rating'].groupby(df[group_by_column_name])\n",
    "    groupby_food = df['food_rating'].groupby(df[group_by_column_name])\n",
    "    groupby_service = df['service_rating'].groupby(df[group_by_column_name])\n",
    "    plt.plot(groupby_overall.mean(), label='overall')\n",
    "    plt.plot(groupby_food.mean(), label='food')\n",
    "    plt.plot(groupby_service.mean(), label = 'service')\n",
    "    plt.xticks(Xlabel_range, Xlabel_names)\n",
    "    plt.legend()\n",
    "    plt.xlabel(group_by_column_name)\n",
    "    plt.ylabel('mean_rating')\n",
    "    plt.show()"
   ]
  },
  {
   "cell_type": "code",
   "execution_count": 169,
   "metadata": {
    "collapsed": true
   },
   "outputs": [],
   "source": [
    "import matplotlib.pyplot as plt\n",
    "\n",
    "# plots how different type of ratings vary with restaurant features for different group of users\n",
    "def feature_user_groupby(df,group_by_column_name,user_column_name,user_groups,Xlabel_names,Xlabel_range):\n",
    "    for group in user_groups:              \n",
    "        user_groupby_overall = df['rating'][df[user_column_name]== group].groupby(df[group_by_column_name])\n",
    "        user_groupby_food = df['food_rating'][df[user_column_name]== group].groupby(df[group_by_column_name])\n",
    "        user_groupby_service = df['service_rating'][df[user_column_name]== group].groupby(df[group_by_column_name])    \n",
    "        plt.plot(user_groupby_overall.mean(), label='overall')\n",
    "        plt.plot(user_groupby_food.mean(), label='food')\n",
    "        plt.plot(user_groupby_service.mean(), label = 'service')\n",
    "        plt.xticks(Xlabel_range, Xlabel_names)\n",
    "        plt.legend()\n",
    "        plt.xlabel(group_by_column_name)\n",
    "        plt.ylabel('mean_rating')\n",
    "        plt.title(group + ' ' + user_column_name)\n",
    "        plt.show()"
   ]
  },
  {
   "cell_type": "markdown",
   "metadata": {},
   "source": [
    "Price"
   ]
  },
  {
   "cell_type": "code",
   "execution_count": 172,
   "metadata": {},
   "outputs": [
    {
     "data": {
      "image/png": "[encoded data removed]",
      "text/plain": [
       "<Figure size 432x288 with 1 Axes>"
      ]
     },
     "metadata": {},
     "output_type": "display_data"
    }
   ],
   "source": [
    "feature_groupby(res_total_feature_analyse,'price',['low', 'medium', 'high'],np.arange(1,4))"
   ]
  },
  {
   "cell_type": "code",
   "execution_count": 170,
   "metadata": {},
   "outputs": [
    {
     "data": {
      "image/png": "[encoded data removed]",
      "text/plain": [
       "<Figure size 432x288 with 1 Axes>"
      ]
     },
     "metadata": {},
     "output_type": "display_data"
    },
    {
     "data": {
      "image/png": "[encoded data removed]",
      "text/plain": [
       "<Figure size 432x288 with 1 Axes>"
      ]
     },
     "metadata": {},
     "output_type": "display_data"
    },
    {
     "data": {
      "image/png": "[encoded data removed]",
      "text/plain": [
       "<Figure size 432x288 with 1 Axes>"
      ]
     },
     "metadata": {},
     "output_type": "display_data"
    }
   ],
   "source": [
    "feature_user_groupby(res_total_user_feature,'price','budget', ['low','medium','high'],['low', 'medium', 'high'],np.arange(1,4))"
   ]
  },
  {
   "cell_type": "markdown",
   "metadata": {},
   "source": [
    "Parking Lot"
   ]
  },
  {
   "cell_type": "code",
   "execution_count": 173,
   "metadata": {},
   "outputs": [
    {
     "data": {
      "image/png": "[encoded data removed]",
      "text/plain": [
       "<Figure size 432x288 with 1 Axes>"
      ]
     },
     "metadata": {},
     "output_type": "display_data"
    }
   ],
   "source": [
    "feature_groupby(res_total_feature_analyse,'parking_lot',['none', 'public/fee', 'yes/valet_parking'],np.arange(0,3))"
   ]
  },
  {
   "cell_type": "code",
   "execution_count": 175,
   "metadata": {},
   "outputs": [
    {
     "data": {
      "text/plain": [
       "no car       794\n",
       "car owner    313\n",
       "?             54\n",
       "Name: transport, dtype: int64"
      ]
     },
     "execution_count": 175,
     "metadata": {},
     "output_type": "execute_result"
    }
   ],
   "source": [
    "res_total_user_feature['transport'].value_counts()"
   ]
  },
  {
   "cell_type": "code",
   "execution_count": 176,
   "metadata": {},
   "outputs": [
    {
     "data": {
      "image/png": "[encoded data removed]",
      "text/plain": [
       "<Figure size 432x288 with 1 Axes>"
      ]
     },
     "metadata": {},
     "output_type": "display_data"
    },
    {
     "data": {
      "image/png": "[encoded data removed]",
      "text/plain": [
       "<Figure size 432x288 with 1 Axes>"
      ]
     },
     "metadata": {},
     "output_type": "display_data"
    }
   ],
   "source": [
    "feature_user_groupby(res_total_user_feature,'parking_lot','transport', ['no car','car owner'],['none', 'public/fee', 'yes/valet_parking'],np.arange(0,3))"
   ]
  },
  {
   "cell_type": "markdown",
   "metadata": {},
   "source": [
    "Smoking area"
   ]
  },
  {
   "cell_type": "code",
   "execution_count": 177,
   "metadata": {},
   "outputs": [
    {
     "data": {
      "text/plain": [
       "0    95\n",
       "1    35\n",
       "Name: smoking_area, dtype: int64"
      ]
     },
     "execution_count": 177,
     "metadata": {},
     "output_type": "execute_result"
    }
   ],
   "source": [
    "res_total_feature_analyse['smoking_area'].value_counts()"
   ]
  },
  {
   "cell_type": "code",
   "execution_count": 178,
   "metadata": {},
   "outputs": [
    {
     "data": {
      "image/png": "[encoded data removed]",
      "text/plain": [
       "<Figure size 432x288 with 1 Axes>"
      ]
     },
     "metadata": {},
     "output_type": "display_data"
    }
   ],
   "source": [
    "feature_groupby(res_total_feature_analyse,'smoking_area',['not permitted', 'permitted'],np.arange(0,2))"
   ]
  },
  {
   "cell_type": "code",
   "execution_count": 179,
   "metadata": {},
   "outputs": [
    {
     "data": {
      "image/png": "[encoded data removed]",
      "text/plain": [
       "<Figure size 432x288 with 1 Axes>"
      ]
     },
     "metadata": {},
     "output_type": "display_data"
    },
    {
     "data": {
      "image/png": "[encoded data removed]",
      "text/plain": [
       "<Figure size 432x288 with 1 Axes>"
      ]
     },
     "metadata": {},
     "output_type": "display_data"
    }
   ],
   "source": [
    "feature_user_groupby(res_total_user_feature,'smoking_area','smoker', ['false','true'],['not permitted', 'permitted'],np.arange(0,2))"
   ]
  },
  {
   "cell_type": "markdown",
   "metadata": {},
   "source": [
    "Alcohol"
   ]
  },
  {
   "cell_type": "code",
   "execution_count": 180,
   "metadata": {},
   "outputs": [
    {
     "data": {
      "image/png": "[encoded data removed]",
      "text/plain": [
       "<Figure size 432x288 with 1 Axes>"
      ]
     },
     "metadata": {},
     "output_type": "display_data"
    }
   ],
   "source": [
    "feature_groupby(res_total_feature_analyse,'alcohol',['No_Alcohol_Served', 'Alcohol_Served'],np.arange(0,2))"
   ]
  },
  {
   "cell_type": "code",
   "execution_count": 181,
   "metadata": {},
   "outputs": [
    {
     "data": {
      "image/png": "[encoded data removed]",
      "text/plain": [
       "<Figure size 432x288 with 1 Axes>"
      ]
     },
     "metadata": {},
     "output_type": "display_data"
    },
    {
     "data": {
      "image/png": "[encoded data removed]",
      "text/plain": [
       "<Figure size 432x288 with 1 Axes>"
      ]
     },
     "metadata": {},
     "output_type": "display_data"
    },
    {
     "data": {
      "image/png": "[encoded data removed]",
      "text/plain": [
       "<Figure size 432x288 with 1 Axes>"
      ]
     },
     "metadata": {},
     "output_type": "display_data"
    }
   ],
   "source": [
    "feature_user_groupby(res_total_user_feature,'alcohol','drink_level', ['abstemious','casual drinker','social drinker'],['No_Alcohol_Served', 'Alcohol_Served'],np.arange(0,2))"
   ]
  },
  {
   "cell_type": "markdown",
   "metadata": {},
   "source": [
    "Other Services"
   ]
  },
  {
   "cell_type": "code",
   "execution_count": 182,
   "metadata": {},
   "outputs": [
    {
     "data": {
      "image/png": "[encoded data removed]",
      "text/plain": [
       "<Figure size 432x288 with 1 Axes>"
      ]
     },
     "metadata": {},
     "output_type": "display_data"
    }
   ],
   "source": [
    "feature_groupby(res_total_feature_analyse,'other_services',['none', 'services provided'],np.arange(0,2))"
   ]
  },
  {
   "cell_type": "markdown",
   "metadata": {},
   "source": [
    "Dress Code"
   ]
  },
  {
   "cell_type": "code",
   "execution_count": 183,
   "metadata": {},
   "outputs": [
    {
     "data": {
      "image/png": "[encoded data removed]",
      "text/plain": [
       "<Figure size 432x288 with 1 Axes>"
      ]
     },
     "metadata": {},
     "output_type": "display_data"
    }
   ],
   "source": [
    "feature_groupby(res_total_feature_analyse,'dress_code',['informal/casual', 'formal'],np.arange(0,2))"
   ]
  },
  {
   "cell_type": "code",
   "execution_count": 184,
   "metadata": {},
   "outputs": [
    {
     "data": {
      "image/png": "[encoded data removed]",
      "text/plain": [
       "<Figure size 432x288 with 1 Axes>"
      ]
     },
     "metadata": {},
     "output_type": "display_data"
    },
    {
     "data": {
      "image/png": "[encoded data removed]",
      "text/plain": [
       "<Figure size 432x288 with 1 Axes>"
      ]
     },
     "metadata": {},
     "output_type": "display_data"
    },
    {
     "data": {
      "image/png": "[encoded data removed]",
      "text/plain": [
       "<Figure size 432x288 with 1 Axes>"
      ]
     },
     "metadata": {},
     "output_type": "display_data"
    }
   ],
   "source": [
    "feature_user_groupby(res_total_user_feature,'dress_code','dress_preference', ['informal','formal','no preference'],['informal/casual', 'formal'],np.arange(0,2))"
   ]
  },
  {
   "cell_type": "markdown",
   "metadata": {},
   "source": [
    "Accessibility"
   ]
  },
  {
   "cell_type": "code",
   "execution_count": 185,
   "metadata": {},
   "outputs": [
    {
     "data": {
      "image/png": "[encoded data removed]",
      "text/plain": [
       "<Figure size 432x288 with 1 Axes>"
      ]
     },
     "metadata": {},
     "output_type": "display_data"
    }
   ],
   "source": [
    "feature_groupby(res_total_feature_analyse,'accessibility',['no_accessibility', 'partially', 'completely'],np.arange(0,3))"
   ]
  },
  {
   "cell_type": "markdown",
   "metadata": {},
   "source": [
    "Area"
   ]
  },
  {
   "cell_type": "code",
   "execution_count": 186,
   "metadata": {},
   "outputs": [
    {
     "data": {
      "image/png": "[encoded data removed]",
      "text/plain": [
       "<Figure size 432x288 with 1 Axes>"
      ]
     },
     "metadata": {},
     "output_type": "display_data"
    }
   ],
   "source": [
    "feature_groupby(res_total_feature_analyse,'area',['open', 'closed'],np.arange(0,2))"
   ]
  },
  {
   "cell_type": "markdown",
   "metadata": {},
   "source": [
    "cuisine"
   ]
  },
  {
   "cell_type": "code",
   "execution_count": 187,
   "metadata": {},
   "outputs": [
    {
     "data": {
      "text/html": [
       "<div>\n",
       "<style scoped>\n",
       "    .dataframe tbody tr th:only-of-type {\n",
       "        vertical-align: middle;\n",
       "    }\n",
       "\n",
       "    .dataframe tbody tr th {\n",
       "        vertical-align: top;\n",
       "    }\n",
       "\n",
       "    .dataframe thead th {\n",
       "        text-align: right;\n",
       "    }\n",
       "</style>\n",
       "<table border=\"1\" class=\"dataframe\">\n",
       "  <thead>\n",
       "    <tr style=\"text-align: right;\">\n",
       "      <th></th>\n",
       "      <th>placeID</th>\n",
       "      <th>Rpayment</th>\n",
       "      <th>Rcuisine_American</th>\n",
       "      <th>Rcuisine_Armenian</th>\n",
       "      <th>Rcuisine_Bakery</th>\n",
       "      <th>Rcuisine_Bar</th>\n",
       "      <th>Rcuisine_Bar_Pub_Brewery</th>\n",
       "      <th>Rcuisine_Breakfast-Brunch</th>\n",
       "      <th>Rcuisine_Burgers</th>\n",
       "      <th>Rcuisine_Cafe-Coffee_Shop</th>\n",
       "      <th>...</th>\n",
       "      <th>accessibility</th>\n",
       "      <th>price</th>\n",
       "      <th>url</th>\n",
       "      <th>Rambience</th>\n",
       "      <th>franchise</th>\n",
       "      <th>area</th>\n",
       "      <th>other_services</th>\n",
       "      <th>overall_rating</th>\n",
       "      <th>food_rating</th>\n",
       "      <th>service_rating</th>\n",
       "    </tr>\n",
       "  </thead>\n",
       "  <tbody>\n",
       "    <tr>\n",
       "      <th>0</th>\n",
       "      <td>135109</td>\n",
       "      <td>2</td>\n",
       "      <td>0.0</td>\n",
       "      <td>0.0</td>\n",
       "      <td>0.0</td>\n",
       "      <td>0.0</td>\n",
       "      <td>0.0</td>\n",
       "      <td>0.0</td>\n",
       "      <td>0.0</td>\n",
       "      <td>0.0</td>\n",
       "      <td>...</td>\n",
       "      <td>0</td>\n",
       "      <td>2</td>\n",
       "      <td>0</td>\n",
       "      <td>1</td>\n",
       "      <td>1</td>\n",
       "      <td>1</td>\n",
       "      <td>1</td>\n",
       "      <td>1.000000</td>\n",
       "      <td>1.250000</td>\n",
       "      <td>0.750000</td>\n",
       "    </tr>\n",
       "    <tr>\n",
       "      <th>1</th>\n",
       "      <td>135106</td>\n",
       "      <td>2</td>\n",
       "      <td>0.0</td>\n",
       "      <td>0.0</td>\n",
       "      <td>0.0</td>\n",
       "      <td>0.0</td>\n",
       "      <td>0.0</td>\n",
       "      <td>0.0</td>\n",
       "      <td>0.0</td>\n",
       "      <td>0.0</td>\n",
       "      <td>...</td>\n",
       "      <td>1</td>\n",
       "      <td>2</td>\n",
       "      <td>0</td>\n",
       "      <td>0</td>\n",
       "      <td>1</td>\n",
       "      <td>0</td>\n",
       "      <td>0</td>\n",
       "      <td>1.200000</td>\n",
       "      <td>1.200000</td>\n",
       "      <td>1.200000</td>\n",
       "    </tr>\n",
       "    <tr>\n",
       "      <th>2</th>\n",
       "      <td>135104</td>\n",
       "      <td>2</td>\n",
       "      <td>0.0</td>\n",
       "      <td>0.0</td>\n",
       "      <td>0.0</td>\n",
       "      <td>0.0</td>\n",
       "      <td>0.0</td>\n",
       "      <td>0.0</td>\n",
       "      <td>0.0</td>\n",
       "      <td>0.0</td>\n",
       "      <td>...</td>\n",
       "      <td>2</td>\n",
       "      <td>2</td>\n",
       "      <td>0</td>\n",
       "      <td>0</td>\n",
       "      <td>0</td>\n",
       "      <td>1</td>\n",
       "      <td>1</td>\n",
       "      <td>0.857143</td>\n",
       "      <td>1.428571</td>\n",
       "      <td>0.857143</td>\n",
       "    </tr>\n",
       "    <tr>\n",
       "      <th>3</th>\n",
       "      <td>135088</td>\n",
       "      <td>2</td>\n",
       "      <td>0.0</td>\n",
       "      <td>0.0</td>\n",
       "      <td>0.0</td>\n",
       "      <td>0.0</td>\n",
       "      <td>0.0</td>\n",
       "      <td>0.0</td>\n",
       "      <td>0.0</td>\n",
       "      <td>0.0</td>\n",
       "      <td>...</td>\n",
       "      <td>0</td>\n",
       "      <td>1</td>\n",
       "      <td>1</td>\n",
       "      <td>1</td>\n",
       "      <td>1</td>\n",
       "      <td>1</td>\n",
       "      <td>0</td>\n",
       "      <td>1.000000</td>\n",
       "      <td>1.166667</td>\n",
       "      <td>1.000000</td>\n",
       "    </tr>\n",
       "    <tr>\n",
       "      <th>4</th>\n",
       "      <td>135086</td>\n",
       "      <td>2</td>\n",
       "      <td>0.0</td>\n",
       "      <td>0.0</td>\n",
       "      <td>0.0</td>\n",
       "      <td>0.0</td>\n",
       "      <td>0.0</td>\n",
       "      <td>0.0</td>\n",
       "      <td>1.0</td>\n",
       "      <td>0.0</td>\n",
       "      <td>...</td>\n",
       "      <td>0</td>\n",
       "      <td>2</td>\n",
       "      <td>0</td>\n",
       "      <td>0</td>\n",
       "      <td>0</td>\n",
       "      <td>1</td>\n",
       "      <td>0</td>\n",
       "      <td>0.800000</td>\n",
       "      <td>0.600000</td>\n",
       "      <td>0.800000</td>\n",
       "    </tr>\n",
       "  </tbody>\n",
       "</table>\n",
       "<p>5 rows × 41 columns</p>\n",
       "</div>"
      ],
      "text/plain": [
       "   placeID  Rpayment  Rcuisine_American  Rcuisine_Armenian  Rcuisine_Bakery  \\\n",
       "0   135109         2                0.0                0.0              0.0   \n",
       "1   135106         2                0.0                0.0              0.0   \n",
       "2   135104         2                0.0                0.0              0.0   \n",
       "3   135088         2                0.0                0.0              0.0   \n",
       "4   135086         2                0.0                0.0              0.0   \n",
       "\n",
       "   Rcuisine_Bar  Rcuisine_Bar_Pub_Brewery  Rcuisine_Breakfast-Brunch  \\\n",
       "0           0.0                       0.0                        0.0   \n",
       "1           0.0                       0.0                        0.0   \n",
       "2           0.0                       0.0                        0.0   \n",
       "3           0.0                       0.0                        0.0   \n",
       "4           0.0                       0.0                        0.0   \n",
       "\n",
       "   Rcuisine_Burgers  Rcuisine_Cafe-Coffee_Shop       ...        accessibility  \\\n",
       "0               0.0                        0.0       ...                    0   \n",
       "1               0.0                        0.0       ...                    1   \n",
       "2               0.0                        0.0       ...                    2   \n",
       "3               0.0                        0.0       ...                    0   \n",
       "4               1.0                        0.0       ...                    0   \n",
       "\n",
       "   price  url  Rambience  franchise  area  other_services  overall_rating  \\\n",
       "0      2    0          1          1     1               1        1.000000   \n",
       "1      2    0          0          1     0               0        1.200000   \n",
       "2      2    0          0          0     1               1        0.857143   \n",
       "3      1    1          1          1     1               0        1.000000   \n",
       "4      2    0          0          0     1               0        0.800000   \n",
       "\n",
       "   food_rating  service_rating  \n",
       "0     1.250000        0.750000  \n",
       "1     1.200000        1.200000  \n",
       "2     1.428571        0.857143  \n",
       "3     1.166667        1.000000  \n",
       "4     0.600000        0.800000  \n",
       "\n",
       "[5 rows x 41 columns]"
      ]
     },
     "execution_count": 187,
     "metadata": {},
     "output_type": "execute_result"
    }
   ],
   "source": [
    "res_total_feature_analyse.head()"
   ]
  },
  {
   "cell_type": "code",
   "execution_count": 189,
   "metadata": {},
   "outputs": [
    {
     "data": {
      "text/plain": [
       "Rcuisine_American             5.0\n",
       "Rcuisine_Armenian             1.0\n",
       "Rcuisine_Bakery               1.0\n",
       "Rcuisine_Bar                 13.0\n",
       "Rcuisine_Bar_Pub_Brewery      6.0\n",
       "Rcuisine_Breakfast-Brunch     1.0\n",
       "Rcuisine_Burgers              5.0\n",
       "Rcuisine_Cafe-Coffee_Shop     1.0\n",
       "Rcuisine_Cafeteria            9.0\n",
       "Rcuisine_Chinese              3.0\n",
       "Rcuisine_Contemporary         2.0\n",
       "Rcuisine_Family               2.0\n",
       "Rcuisine_Fast_Food            8.0\n",
       "Rcuisine_Game                 1.0\n",
       "Rcuisine_International        4.0\n",
       "Rcuisine_Italian              4.0\n",
       "Rcuisine_Japanese             5.0\n",
       "Rcuisine_Mediterranean        1.0\n",
       "Rcuisine_Mexican             28.0\n",
       "Rcuisine_Pizzeria             5.0\n",
       "Rcuisine_Regional             1.0\n",
       "dtype: float64"
      ]
     },
     "execution_count": 189,
     "metadata": {},
     "output_type": "execute_result"
    }
   ],
   "source": [
    "res_total_feature_analyse.iloc[:,2:23].sum()"
   ]
  },
  {
   "cell_type": "code",
   "execution_count": 190,
   "metadata": {
    "collapsed": true
   },
   "outputs": [],
   "source": [
    "res_total_feature_analyse['Rcuisine_Bar_Pub'] = np.zeros(res_total_feature_analyse.shape[0])\n",
    "inderes_total_feature_analyse = ((res_total_feature_analyse.Rcuisine_Bar == 1) | (res_total_feature_analyse.Rcuisine_Bar_Pub_Brewery == 1))\n",
    "res_total_feature_analyse.loc[inderes_total_feature_analyse,'Rcuisine_Bar_Pub'] = 1\n",
    "\n",
    "res_total_feature_analyse['Rcuisine_Asian'] = np.zeros(res_total_feature_analyse.shape[0])\n",
    "inderes_total_feature_analyse = ((res_total_feature_analyse.Rcuisine_Chinese == 1) | (res_total_feature_analyse.Rcuisine_Japanese == 1) | (res_total_feature_analyse.Rcuisine_Vietnamese == 1))\n",
    "res_total_feature_analyse.loc[inderes_total_feature_analyse,'Rcuisine_Asian'] = 1\n",
    "\n",
    "res_total_feature_analyse['Rcuisine_Western'] = np.zeros(res_total_feature_analyse.shape[0])\n",
    "inderes_total_feature_analyse = ((res_total_feature_analyse.Rcuisine_Armenian == 1) | (res_total_feature_analyse.Rcuisine_Italian == 1) | (res_total_feature_analyse.Rcuisine_Mediterranean == 1) \n",
    "         | (res_total_feature_analyse.Rcuisine_Pizzeria == 1) | (res_total_feature_analyse.Rcuisine_Seafood == 1))\n",
    "res_total_feature_analyse.loc[inderes_total_feature_analyse,'Rcuisine_Western'] = 1\n",
    "\n",
    "res_total_feature_analyse['Rcuisine_American_Burgers'] = np.zeros(res_total_feature_analyse.shape[0])\n",
    "inderes_total_feature_analyse = ((res_total_feature_analyse.Rcuisine_American == 1) | (res_total_feature_analyse.Rcuisine_Burgers == 1))\n",
    "res_total_feature_analyse.loc[inderes_total_feature_analyse,'Rcuisine_American_Burgers'] = 1\n",
    "\n",
    "res_total_feature_analyse['Rcuisine_Others'] = np.zeros(res_total_feature_analyse.shape[0])\n",
    "inderes_total_feature_analyse = (((res_total_feature_analyse.Rcuisine_Bakery == 1) | (res_total_feature_analyse[\"Rcuisine_Breakfast-Brunch\"] == 1) | (res_total_feature_analyse[\"Rcuisine_Cafe-Coffee_Shop\"] == 1) \n",
    "        | (res_total_feature_analyse.Rcuisine_Contemporary == 1) | (res_total_feature_analyse.Rcuisine_Family == 1) | (res_total_feature_analyse.Rcuisine_Game == 1) \n",
    "        | (res_total_feature_analyse.Rcuisine_International == 1) | (res_total_feature_analyse.Rcuisine_Regional == 1)))\n",
    "res_total_feature_analyse.loc[inderes_total_feature_analyse,'Rcuisine_Others'] = 1"
   ]
  },
  {
   "cell_type": "code",
   "execution_count": 191,
   "metadata": {},
   "outputs": [
    {
     "data": {
      "text/html": [
       "<div>\n",
       "<style scoped>\n",
       "    .dataframe tbody tr th:only-of-type {\n",
       "        vertical-align: middle;\n",
       "    }\n",
       "\n",
       "    .dataframe tbody tr th {\n",
       "        vertical-align: top;\n",
       "    }\n",
       "\n",
       "    .dataframe thead th {\n",
       "        text-align: right;\n",
       "    }\n",
       "</style>\n",
       "<table border=\"1\" class=\"dataframe\">\n",
       "  <thead>\n",
       "    <tr style=\"text-align: right;\">\n",
       "      <th></th>\n",
       "      <th>placeID</th>\n",
       "      <th>Rpayment</th>\n",
       "      <th>Rcuisine_American</th>\n",
       "      <th>Rcuisine_Armenian</th>\n",
       "      <th>Rcuisine_Bakery</th>\n",
       "      <th>Rcuisine_Bar</th>\n",
       "      <th>Rcuisine_Bar_Pub_Brewery</th>\n",
       "      <th>Rcuisine_Breakfast-Brunch</th>\n",
       "      <th>Rcuisine_Burgers</th>\n",
       "      <th>Rcuisine_Cafe-Coffee_Shop</th>\n",
       "      <th>...</th>\n",
       "      <th>area</th>\n",
       "      <th>other_services</th>\n",
       "      <th>overall_rating</th>\n",
       "      <th>food_rating</th>\n",
       "      <th>service_rating</th>\n",
       "      <th>Rcuisine_Bar_Pub</th>\n",
       "      <th>Rcuisine_Asian</th>\n",
       "      <th>Rcuisine_Western</th>\n",
       "      <th>Rcuisine_American_Burgers</th>\n",
       "      <th>Rcuisine_Others</th>\n",
       "    </tr>\n",
       "  </thead>\n",
       "  <tbody>\n",
       "    <tr>\n",
       "      <th>0</th>\n",
       "      <td>135109</td>\n",
       "      <td>2</td>\n",
       "      <td>0.0</td>\n",
       "      <td>0.0</td>\n",
       "      <td>0.0</td>\n",
       "      <td>0.0</td>\n",
       "      <td>0.0</td>\n",
       "      <td>0.0</td>\n",
       "      <td>0.0</td>\n",
       "      <td>0.0</td>\n",
       "      <td>...</td>\n",
       "      <td>1</td>\n",
       "      <td>1</td>\n",
       "      <td>1.000000</td>\n",
       "      <td>1.250000</td>\n",
       "      <td>0.750000</td>\n",
       "      <td>0.0</td>\n",
       "      <td>0.0</td>\n",
       "      <td>1.0</td>\n",
       "      <td>0.0</td>\n",
       "      <td>0.0</td>\n",
       "    </tr>\n",
       "    <tr>\n",
       "      <th>1</th>\n",
       "      <td>135106</td>\n",
       "      <td>2</td>\n",
       "      <td>0.0</td>\n",
       "      <td>0.0</td>\n",
       "      <td>0.0</td>\n",
       "      <td>0.0</td>\n",
       "      <td>0.0</td>\n",
       "      <td>0.0</td>\n",
       "      <td>0.0</td>\n",
       "      <td>0.0</td>\n",
       "      <td>...</td>\n",
       "      <td>0</td>\n",
       "      <td>0</td>\n",
       "      <td>1.200000</td>\n",
       "      <td>1.200000</td>\n",
       "      <td>1.200000</td>\n",
       "      <td>0.0</td>\n",
       "      <td>0.0</td>\n",
       "      <td>0.0</td>\n",
       "      <td>0.0</td>\n",
       "      <td>0.0</td>\n",
       "    </tr>\n",
       "    <tr>\n",
       "      <th>2</th>\n",
       "      <td>135104</td>\n",
       "      <td>2</td>\n",
       "      <td>0.0</td>\n",
       "      <td>0.0</td>\n",
       "      <td>0.0</td>\n",
       "      <td>0.0</td>\n",
       "      <td>0.0</td>\n",
       "      <td>0.0</td>\n",
       "      <td>0.0</td>\n",
       "      <td>0.0</td>\n",
       "      <td>...</td>\n",
       "      <td>1</td>\n",
       "      <td>1</td>\n",
       "      <td>0.857143</td>\n",
       "      <td>1.428571</td>\n",
       "      <td>0.857143</td>\n",
       "      <td>0.0</td>\n",
       "      <td>0.0</td>\n",
       "      <td>0.0</td>\n",
       "      <td>0.0</td>\n",
       "      <td>0.0</td>\n",
       "    </tr>\n",
       "    <tr>\n",
       "      <th>3</th>\n",
       "      <td>135088</td>\n",
       "      <td>2</td>\n",
       "      <td>0.0</td>\n",
       "      <td>0.0</td>\n",
       "      <td>0.0</td>\n",
       "      <td>0.0</td>\n",
       "      <td>0.0</td>\n",
       "      <td>0.0</td>\n",
       "      <td>0.0</td>\n",
       "      <td>0.0</td>\n",
       "      <td>...</td>\n",
       "      <td>1</td>\n",
       "      <td>0</td>\n",
       "      <td>1.000000</td>\n",
       "      <td>1.166667</td>\n",
       "      <td>1.000000</td>\n",
       "      <td>0.0</td>\n",
       "      <td>0.0</td>\n",
       "      <td>0.0</td>\n",
       "      <td>0.0</td>\n",
       "      <td>0.0</td>\n",
       "    </tr>\n",
       "    <tr>\n",
       "      <th>4</th>\n",
       "      <td>135086</td>\n",
       "      <td>2</td>\n",
       "      <td>0.0</td>\n",
       "      <td>0.0</td>\n",
       "      <td>0.0</td>\n",
       "      <td>0.0</td>\n",
       "      <td>0.0</td>\n",
       "      <td>0.0</td>\n",
       "      <td>1.0</td>\n",
       "      <td>0.0</td>\n",
       "      <td>...</td>\n",
       "      <td>1</td>\n",
       "      <td>0</td>\n",
       "      <td>0.800000</td>\n",
       "      <td>0.600000</td>\n",
       "      <td>0.800000</td>\n",
       "      <td>0.0</td>\n",
       "      <td>0.0</td>\n",
       "      <td>0.0</td>\n",
       "      <td>1.0</td>\n",
       "      <td>0.0</td>\n",
       "    </tr>\n",
       "  </tbody>\n",
       "</table>\n",
       "<p>5 rows × 46 columns</p>\n",
       "</div>"
      ],
      "text/plain": [
       "   placeID  Rpayment  Rcuisine_American  Rcuisine_Armenian  Rcuisine_Bakery  \\\n",
       "0   135109         2                0.0                0.0              0.0   \n",
       "1   135106         2                0.0                0.0              0.0   \n",
       "2   135104         2                0.0                0.0              0.0   \n",
       "3   135088         2                0.0                0.0              0.0   \n",
       "4   135086         2                0.0                0.0              0.0   \n",
       "\n",
       "   Rcuisine_Bar  Rcuisine_Bar_Pub_Brewery  Rcuisine_Breakfast-Brunch  \\\n",
       "0           0.0                       0.0                        0.0   \n",
       "1           0.0                       0.0                        0.0   \n",
       "2           0.0                       0.0                        0.0   \n",
       "3           0.0                       0.0                        0.0   \n",
       "4           0.0                       0.0                        0.0   \n",
       "\n",
       "   Rcuisine_Burgers  Rcuisine_Cafe-Coffee_Shop       ...         area  \\\n",
       "0               0.0                        0.0       ...            1   \n",
       "1               0.0                        0.0       ...            0   \n",
       "2               0.0                        0.0       ...            1   \n",
       "3               0.0                        0.0       ...            1   \n",
       "4               1.0                        0.0       ...            1   \n",
       "\n",
       "   other_services  overall_rating  food_rating  service_rating  \\\n",
       "0               1        1.000000     1.250000        0.750000   \n",
       "1               0        1.200000     1.200000        1.200000   \n",
       "2               1        0.857143     1.428571        0.857143   \n",
       "3               0        1.000000     1.166667        1.000000   \n",
       "4               0        0.800000     0.600000        0.800000   \n",
       "\n",
       "   Rcuisine_Bar_Pub  Rcuisine_Asian  Rcuisine_Western  \\\n",
       "0               0.0             0.0               1.0   \n",
       "1               0.0             0.0               0.0   \n",
       "2               0.0             0.0               0.0   \n",
       "3               0.0             0.0               0.0   \n",
       "4               0.0             0.0               0.0   \n",
       "\n",
       "   Rcuisine_American_Burgers  Rcuisine_Others  \n",
       "0                        0.0              0.0  \n",
       "1                        0.0              0.0  \n",
       "2                        0.0              0.0  \n",
       "3                        0.0              0.0  \n",
       "4                        1.0              0.0  \n",
       "\n",
       "[5 rows x 46 columns]"
      ]
     },
     "execution_count": 191,
     "metadata": {},
     "output_type": "execute_result"
    }
   ],
   "source": [
    "res_total_feature_analyse.head()"
   ]
  },
  {
   "cell_type": "code",
   "execution_count": 199,
   "metadata": {
    "collapsed": true
   },
   "outputs": [],
   "source": [
    "columns = ['Rcuisine_Mexican','Rcuisine_American_Burgers', 'Rcuisine_Asian','Rcuisine_Bar_Pub', 'Rcuisine_Cafeteria',\n",
    "           'Rcuisine_Fast_Food','Rcuisine_Others','Rcuisine_Western']\n",
    "overall_rating_cusine = []\n",
    "food_rating_cusine = []\n",
    "service_rating_cusine = []\n",
    "\n",
    "for x in columns:\n",
    "    overall_mean_value = res_total_feature_analyse['overall_rating'][res_total_feature_analyse[x]==1].mean()\n",
    "    overall_rating_cusine.append(overall_mean_value)\n",
    "    food_mean_value = res_total_feature_analyse['food_rating'][res_total_feature_analyse[x]==1].mean()\n",
    "    food_rating_cusine.append(food_mean_value)\n",
    "    service_mean_value = res_total_feature_analyse['service_rating'][res_total_feature_analyse[x]==1].mean()\n",
    "    service_rating_cusine.append(service_mean_value)"
   ]
  },
  {
   "cell_type": "code",
   "execution_count": 206,
   "metadata": {},
   "outputs": [
    {
     "data": {
      "image/png": "[encoded data removed]",
      "text/plain": [
       "<Figure size 432x288 with 1 Axes>"
      ]
     },
     "metadata": {},
     "output_type": "display_data"
    }
   ],
   "source": [
    "plt.plot(overall_rating_cusine, label='overall')\n",
    "plt.plot(food_rating_cusine, label='food')\n",
    "plt.plot(service_rating_cusine, label = 'service')\n",
    "plt.xticks(np.arange(0,9),columns)\n",
    "plt.xticks(rotation=40)\n",
    "plt.legend()\n",
    "plt.xlabel('cuisine')\n",
    "plt.ylabel('mean_rating')\n",
    "plt.show()"
   ]
  },
  {
   "cell_type": "code",
   "execution_count": null,
   "metadata": {
    "collapsed": true
   },
   "outputs": [],
   "source": []
  },
  {
   "cell_type": "code",
   "execution_count": 214,
   "metadata": {},
   "outputs": [
    {
     "data": {
      "text/plain": [
       "Index(['placeID', 'Rpayment', 'Rcuisine_American', 'Rcuisine_Armenian',\n",
       "       'Rcuisine_Bakery', 'Rcuisine_Bar', 'Rcuisine_Bar_Pub_Brewery',\n",
       "       'Rcuisine_Breakfast-Brunch', 'Rcuisine_Burgers',\n",
       "       'Rcuisine_Cafe-Coffee_Shop', 'Rcuisine_Cafeteria', 'Rcuisine_Chinese',\n",
       "       'Rcuisine_Contemporary', 'Rcuisine_Family', 'Rcuisine_Fast_Food',\n",
       "       'Rcuisine_Game', 'Rcuisine_International', 'Rcuisine_Italian',\n",
       "       'Rcuisine_Japanese', 'Rcuisine_Mediterranean', 'Rcuisine_Mexican',\n",
       "       'Rcuisine_Pizzeria', 'Rcuisine_Regional', 'Rcuisine_Seafood',\n",
       "       'Rcuisine_Vietnamese', 'parking_lot', 'latitude_x', 'longitude_x',\n",
       "       'alcohol', 'smoking_area', 'dress_code', 'accessibility', 'price',\n",
       "       'url', 'Rambience', 'franchise', 'area', 'other_services', 'userID',\n",
       "       'rating', 'food_rating', 'service_rating', 'latitude_y', 'longitude_y',\n",
       "       'smoker', 'drink_level', 'dress_preference', 'ambience', 'transport',\n",
       "       'marital_status', 'hijos', 'birth_year', 'interest', 'personality',\n",
       "       'religion', 'activity', 'color', 'weight', 'budget', 'height',\n",
       "       'Rcuisine', 'Upayment'],\n",
       "      dtype='object')"
      ]
     },
     "execution_count": 214,
     "metadata": {},
     "output_type": "execute_result"
    }
   ],
   "source": [
    "res_total_user_feature.columns"
   ]
  },
  {
   "cell_type": "code",
   "execution_count": 215,
   "metadata": {
    "collapsed": true
   },
   "outputs": [],
   "source": [
    "res_total_user_feature['Rcuisine_Bar_Pub'] = np.zeros(res_total_user_feature.shape[0])\n",
    "inderes_total_user_feature = ((res_total_user_feature.Rcuisine_Bar == 1) | (res_total_user_feature.Rcuisine_Bar_Pub_Brewery == 1))\n",
    "res_total_user_feature.loc[inderes_total_user_feature,'Rcuisine_Bar_Pub'] = 1\n",
    "\n",
    "res_total_user_feature['Rcuisine_Asian'] = np.zeros(res_total_user_feature.shape[0])\n",
    "inderes_total_user_feature = ((res_total_user_feature.Rcuisine_Chinese == 1) | (res_total_user_feature.Rcuisine_Japanese == 1) | (res_total_user_feature.Rcuisine_Vietnamese == 1))\n",
    "res_total_user_feature.loc[inderes_total_user_feature,'Rcuisine_Asian'] = 1\n",
    "\n",
    "res_total_user_feature['Rcuisine_Western'] = np.zeros(res_total_user_feature.shape[0])\n",
    "inderes_total_user_feature = ((res_total_user_feature.Rcuisine_Armenian == 1) | (res_total_user_feature.Rcuisine_Italian == 1) | (res_total_user_feature.Rcuisine_Mediterranean == 1) \n",
    "         | (res_total_user_feature.Rcuisine_Pizzeria == 1) | (res_total_user_feature.Rcuisine_Seafood == 1))\n",
    "res_total_user_feature.loc[inderes_total_user_feature,'Rcuisine_Western'] = 1\n",
    "\n",
    "res_total_user_feature['Rcuisine_American_Burgers'] = np.zeros(res_total_user_feature.shape[0])\n",
    "inderes_total_user_feature = ((res_total_user_feature.Rcuisine_American == 1) | (res_total_user_feature.Rcuisine_Burgers == 1))\n",
    "res_total_user_feature.loc[inderes_total_user_feature,'Rcuisine_American_Burgers'] = 1\n",
    "\n",
    "res_total_user_feature['Rcuisine_Others'] = np.zeros(res_total_user_feature.shape[0])\n",
    "inderes_total_user_feature = (((res_total_user_feature.Rcuisine_Bakery == 1) | (res_total_user_feature[\"Rcuisine_Breakfast-Brunch\"] == 1) | (res_total_user_feature[\"Rcuisine_Cafe-Coffee_Shop\"] == 1) \n",
    "        | (res_total_user_feature.Rcuisine_Contemporary == 1) | (res_total_user_feature.Rcuisine_Family == 1) | (res_total_user_feature.Rcuisine_Game == 1) \n",
    "        | (res_total_user_feature.Rcuisine_International == 1) | (res_total_user_feature.Rcuisine_Regional == 1)))\n",
    "res_total_user_feature.loc[inderes_total_user_feature,'Rcuisine_Others'] = 1"
   ]
  },
  {
   "cell_type": "code",
   "execution_count": 216,
   "metadata": {},
   "outputs": [
    {
     "data": {
      "text/plain": [
       "Index(['placeID', 'Rpayment', 'Rcuisine_American', 'Rcuisine_Armenian',\n",
       "       'Rcuisine_Bakery', 'Rcuisine_Bar', 'Rcuisine_Bar_Pub_Brewery',\n",
       "       'Rcuisine_Breakfast-Brunch', 'Rcuisine_Burgers',\n",
       "       'Rcuisine_Cafe-Coffee_Shop', 'Rcuisine_Cafeteria', 'Rcuisine_Chinese',\n",
       "       'Rcuisine_Contemporary', 'Rcuisine_Family', 'Rcuisine_Fast_Food',\n",
       "       'Rcuisine_Game', 'Rcuisine_International', 'Rcuisine_Italian',\n",
       "       'Rcuisine_Japanese', 'Rcuisine_Mediterranean', 'Rcuisine_Mexican',\n",
       "       'Rcuisine_Pizzeria', 'Rcuisine_Regional', 'Rcuisine_Seafood',\n",
       "       'Rcuisine_Vietnamese', 'parking_lot', 'latitude_x', 'longitude_x',\n",
       "       'alcohol', 'smoking_area', 'dress_code', 'accessibility', 'price',\n",
       "       'url', 'Rambience', 'franchise', 'area', 'other_services', 'userID',\n",
       "       'rating', 'food_rating', 'service_rating', 'latitude_y', 'longitude_y',\n",
       "       'smoker', 'drink_level', 'dress_preference', 'ambience', 'transport',\n",
       "       'marital_status', 'hijos', 'birth_year', 'interest', 'personality',\n",
       "       'religion', 'activity', 'color', 'weight', 'budget', 'height',\n",
       "       'Rcuisine', 'Upayment', 'Rcuisine_Bar_Pub', 'Rcuisine_Asian',\n",
       "       'Rcuisine_Western', 'Rcuisine_American_Burgers', 'Rcuisine_Others'],\n",
       "      dtype='object')"
      ]
     },
     "execution_count": 216,
     "metadata": {},
     "output_type": "execute_result"
    }
   ],
   "source": [
    "res_total_user_feature.columns"
   ]
  },
  {
   "cell_type": "code",
   "execution_count": null,
   "metadata": {
    "collapsed": true
   },
   "outputs": [],
   "source": [
    "res_total_feature_analyse.iloc[:,2:23].sum()"
   ]
  },
  {
   "cell_type": "code",
   "execution_count": 243,
   "metadata": {
    "collapsed": true
   },
   "outputs": [],
   "source": [
    "res_total_user_feature_bkup = res_total_user_feature.copy()"
   ]
  },
  {
   "cell_type": "code",
   "execution_count": 244,
   "metadata": {
    "collapsed": true
   },
   "outputs": [],
   "source": [
    "res_total_user_feature_bkup = res_total_user_feature_bkup.drop(res_total_user_feature_bkup.columns[2:23], axis=1)"
   ]
  },
  {
   "cell_type": "code",
   "execution_count": 245,
   "metadata": {
    "collapsed": true
   },
   "outputs": [],
   "source": [
    "res_total_user_feature_bkup['Rcuisine_Mexican'] = res_total_user_feature['Rcuisine_Mexican']"
   ]
  },
  {
   "cell_type": "code",
   "execution_count": 246,
   "metadata": {
    "collapsed": true
   },
   "outputs": [],
   "source": [
    "res_total_user_feature_bkup['Rcuisine_Cafeteria'] = res_total_user_feature['Rcuisine_Cafeteria']"
   ]
  },
  {
   "cell_type": "code",
   "execution_count": 247,
   "metadata": {
    "collapsed": true
   },
   "outputs": [],
   "source": [
    "res_total_user_feature_bkup['Rcuisine_Fast_Food'] = res_total_user_feature['Rcuisine_Fast_Food']"
   ]
  },
  {
   "cell_type": "code",
   "execution_count": 248,
   "metadata": {
    "collapsed": true
   },
   "outputs": [],
   "source": [
    "res_total_user_feature_bkup.smoker = res_total_user_feature_bkup.smoker.map({'false': 0, 'true': 1, '?': 0})\n",
    "res_total_user_feature_bkup.drink_level = res_total_user_feature_bkup.drink_level.map({'abstemious': 1, 'casual drinker': 2, 'social drinker': 3})\n",
    "res_total_user_feature_bkup.transport = res_total_user_feature_bkup.transport.map({'public':0, 'car owner':1, 'on foot':0, '?':0})\n",
    "res_total_user_feature_bkup.budget = res_total_user_feature_bkup.budget.map({'medium':2, 'low':1, 'high':3, '?':2})"
   ]
  },
  {
   "cell_type": "code",
   "execution_count": 249,
   "metadata": {},
   "outputs": [
    {
     "data": {
      "text/html": [
       "<div>\n",
       "<style scoped>\n",
       "    .dataframe tbody tr th:only-of-type {\n",
       "        vertical-align: middle;\n",
       "    }\n",
       "\n",
       "    .dataframe tbody tr th {\n",
       "        vertical-align: top;\n",
       "    }\n",
       "\n",
       "    .dataframe thead th {\n",
       "        text-align: right;\n",
       "    }\n",
       "</style>\n",
       "<table border=\"1\" class=\"dataframe\">\n",
       "  <thead>\n",
       "    <tr style=\"text-align: right;\">\n",
       "      <th></th>\n",
       "      <th>placeID</th>\n",
       "      <th>Rpayment</th>\n",
       "      <th>Rcuisine_Seafood</th>\n",
       "      <th>Rcuisine_Vietnamese</th>\n",
       "      <th>parking_lot</th>\n",
       "      <th>latitude_x</th>\n",
       "      <th>longitude_x</th>\n",
       "      <th>alcohol</th>\n",
       "      <th>smoking_area</th>\n",
       "      <th>dress_code</th>\n",
       "      <th>...</th>\n",
       "      <th>Rcuisine</th>\n",
       "      <th>Upayment</th>\n",
       "      <th>Rcuisine_Bar_Pub</th>\n",
       "      <th>Rcuisine_Asian</th>\n",
       "      <th>Rcuisine_Western</th>\n",
       "      <th>Rcuisine_American_Burgers</th>\n",
       "      <th>Rcuisine_Others</th>\n",
       "      <th>Rcuisine_Mexican</th>\n",
       "      <th>Rcuisine_Cafeteria</th>\n",
       "      <th>Rcuisine_Fast_Food</th>\n",
       "    </tr>\n",
       "  </thead>\n",
       "  <tbody>\n",
       "    <tr>\n",
       "      <th>0</th>\n",
       "      <td>135109</td>\n",
       "      <td>2</td>\n",
       "      <td>0.0</td>\n",
       "      <td>0.0</td>\n",
       "      <td>0</td>\n",
       "      <td>18.921785</td>\n",
       "      <td>-99.235350</td>\n",
       "      <td>1</td>\n",
       "      <td>0</td>\n",
       "      <td>0</td>\n",
       "      <td>...</td>\n",
       "      <td>[Mexican]</td>\n",
       "      <td>[cash]</td>\n",
       "      <td>0.0</td>\n",
       "      <td>0.0</td>\n",
       "      <td>1.0</td>\n",
       "      <td>0.0</td>\n",
       "      <td>0.0</td>\n",
       "      <td>0.0</td>\n",
       "      <td>0.0</td>\n",
       "      <td>0.0</td>\n",
       "    </tr>\n",
       "    <tr>\n",
       "      <th>1</th>\n",
       "      <td>135109</td>\n",
       "      <td>2</td>\n",
       "      <td>0.0</td>\n",
       "      <td>0.0</td>\n",
       "      <td>0</td>\n",
       "      <td>18.921785</td>\n",
       "      <td>-99.235350</td>\n",
       "      <td>1</td>\n",
       "      <td>0</td>\n",
       "      <td>0</td>\n",
       "      <td>...</td>\n",
       "      <td>[Mexican]</td>\n",
       "      <td>[cash, bank_debit_cards]</td>\n",
       "      <td>0.0</td>\n",
       "      <td>0.0</td>\n",
       "      <td>1.0</td>\n",
       "      <td>0.0</td>\n",
       "      <td>0.0</td>\n",
       "      <td>0.0</td>\n",
       "      <td>0.0</td>\n",
       "      <td>0.0</td>\n",
       "    </tr>\n",
       "    <tr>\n",
       "      <th>2</th>\n",
       "      <td>135109</td>\n",
       "      <td>2</td>\n",
       "      <td>0.0</td>\n",
       "      <td>0.0</td>\n",
       "      <td>0</td>\n",
       "      <td>18.921785</td>\n",
       "      <td>-99.235350</td>\n",
       "      <td>1</td>\n",
       "      <td>0</td>\n",
       "      <td>0</td>\n",
       "      <td>...</td>\n",
       "      <td>[Mexican]</td>\n",
       "      <td>[VISA, cash]</td>\n",
       "      <td>0.0</td>\n",
       "      <td>0.0</td>\n",
       "      <td>1.0</td>\n",
       "      <td>0.0</td>\n",
       "      <td>0.0</td>\n",
       "      <td>0.0</td>\n",
       "      <td>0.0</td>\n",
       "      <td>0.0</td>\n",
       "    </tr>\n",
       "    <tr>\n",
       "      <th>3</th>\n",
       "      <td>135109</td>\n",
       "      <td>2</td>\n",
       "      <td>0.0</td>\n",
       "      <td>0.0</td>\n",
       "      <td>0</td>\n",
       "      <td>18.921785</td>\n",
       "      <td>-99.235350</td>\n",
       "      <td>1</td>\n",
       "      <td>0</td>\n",
       "      <td>0</td>\n",
       "      <td>...</td>\n",
       "      <td>[Contemporary]</td>\n",
       "      <td>[bank_debit_cards, cash, American_Express, VISA]</td>\n",
       "      <td>0.0</td>\n",
       "      <td>0.0</td>\n",
       "      <td>1.0</td>\n",
       "      <td>0.0</td>\n",
       "      <td>0.0</td>\n",
       "      <td>0.0</td>\n",
       "      <td>0.0</td>\n",
       "      <td>0.0</td>\n",
       "    </tr>\n",
       "    <tr>\n",
       "      <th>4</th>\n",
       "      <td>135106</td>\n",
       "      <td>2</td>\n",
       "      <td>0.0</td>\n",
       "      <td>0.0</td>\n",
       "      <td>0</td>\n",
       "      <td>22.149709</td>\n",
       "      <td>-100.976093</td>\n",
       "      <td>1</td>\n",
       "      <td>1</td>\n",
       "      <td>0</td>\n",
       "      <td>...</td>\n",
       "      <td>[Breakfast-Brunch]</td>\n",
       "      <td>[cash]</td>\n",
       "      <td>0.0</td>\n",
       "      <td>0.0</td>\n",
       "      <td>0.0</td>\n",
       "      <td>0.0</td>\n",
       "      <td>0.0</td>\n",
       "      <td>1.0</td>\n",
       "      <td>0.0</td>\n",
       "      <td>0.0</td>\n",
       "    </tr>\n",
       "  </tbody>\n",
       "</table>\n",
       "<p>5 rows × 49 columns</p>\n",
       "</div>"
      ],
      "text/plain": [
       "   placeID  Rpayment  Rcuisine_Seafood  Rcuisine_Vietnamese  parking_lot  \\\n",
       "0   135109         2               0.0                  0.0            0   \n",
       "1   135109         2               0.0                  0.0            0   \n",
       "2   135109         2               0.0                  0.0            0   \n",
       "3   135109         2               0.0                  0.0            0   \n",
       "4   135106         2               0.0                  0.0            0   \n",
       "\n",
       "   latitude_x  longitude_x  alcohol  smoking_area  dress_code  \\\n",
       "0   18.921785   -99.235350        1             0           0   \n",
       "1   18.921785   -99.235350        1             0           0   \n",
       "2   18.921785   -99.235350        1             0           0   \n",
       "3   18.921785   -99.235350        1             0           0   \n",
       "4   22.149709  -100.976093        1             1           0   \n",
       "\n",
       "          ...                    Rcuisine  \\\n",
       "0         ...                   [Mexican]   \n",
       "1         ...                   [Mexican]   \n",
       "2         ...                   [Mexican]   \n",
       "3         ...              [Contemporary]   \n",
       "4         ...          [Breakfast-Brunch]   \n",
       "\n",
       "                                           Upayment  Rcuisine_Bar_Pub  \\\n",
       "0                                            [cash]               0.0   \n",
       "1                          [cash, bank_debit_cards]               0.0   \n",
       "2                                      [VISA, cash]               0.0   \n",
       "3  [bank_debit_cards, cash, American_Express, VISA]               0.0   \n",
       "4                                            [cash]               0.0   \n",
       "\n",
       "   Rcuisine_Asian  Rcuisine_Western  Rcuisine_American_Burgers  \\\n",
       "0             0.0               1.0                        0.0   \n",
       "1             0.0               1.0                        0.0   \n",
       "2             0.0               1.0                        0.0   \n",
       "3             0.0               1.0                        0.0   \n",
       "4             0.0               0.0                        0.0   \n",
       "\n",
       "   Rcuisine_Others Rcuisine_Mexican  Rcuisine_Cafeteria  Rcuisine_Fast_Food  \n",
       "0              0.0              0.0                 0.0                 0.0  \n",
       "1              0.0              0.0                 0.0                 0.0  \n",
       "2              0.0              0.0                 0.0                 0.0  \n",
       "3              0.0              0.0                 0.0                 0.0  \n",
       "4              0.0              1.0                 0.0                 0.0  \n",
       "\n",
       "[5 rows x 49 columns]"
      ]
     },
     "execution_count": 249,
     "metadata": {},
     "output_type": "execute_result"
    }
   ],
   "source": [
    "res_total_user_feature_bkup.head()"
   ]
  },
  {
   "cell_type": "code",
   "execution_count": 250,
   "metadata": {
    "collapsed": true
   },
   "outputs": [],
   "source": [
    "res_total_user_feature_bkup = res_total_user_feature_bkup.drop(['Rcuisine_Seafood','Rcuisine_Vietnamese', 'Rcuisine','Upayment','latitude_x','latitude_y', 'longitude_x','longitude_y', 'color', 'weight','marital_status', 'hijos',\n",
    "       'birth_year', 'interest', 'personality', 'religion', 'activity',\n",
    "       'height'], axis=1)"
   ]
  },
  {
   "cell_type": "code",
   "execution_count": 251,
   "metadata": {},
   "outputs": [
    {
     "data": {
      "text/plain": [
       "Index(['placeID', 'Rpayment', 'parking_lot', 'alcohol', 'smoking_area',\n",
       "       'dress_code', 'accessibility', 'price', 'url', 'Rambience', 'franchise',\n",
       "       'area', 'other_services', 'userID', 'rating', 'food_rating',\n",
       "       'service_rating', 'smoker', 'drink_level', 'dress_preference',\n",
       "       'ambience', 'transport', 'budget', 'Rcuisine_Bar_Pub', 'Rcuisine_Asian',\n",
       "       'Rcuisine_Western', 'Rcuisine_American_Burgers', 'Rcuisine_Others',\n",
       "       'Rcuisine_Mexican', 'Rcuisine_Cafeteria', 'Rcuisine_Fast_Food'],\n",
       "      dtype='object')"
      ]
     },
     "execution_count": 251,
     "metadata": {},
     "output_type": "execute_result"
    }
   ],
   "source": [
    "res_total_user_feature_bkup.columns"
   ]
  },
  {
   "cell_type": "code",
   "execution_count": 252,
   "metadata": {
    "collapsed": true
   },
   "outputs": [],
   "source": [
    "res_total_user_feature_bkup = res_total_user_feature_bkup.drop(['ambience'], axis=1)"
   ]
  },
  {
   "cell_type": "code",
   "execution_count": 253,
   "metadata": {},
   "outputs": [
    {
     "data": {
      "text/plain": [
       "Index(['placeID', 'Rpayment', 'parking_lot', 'alcohol', 'smoking_area',\n",
       "       'dress_code', 'accessibility', 'price', 'url', 'Rambience', 'franchise',\n",
       "       'area', 'other_services', 'userID', 'rating', 'food_rating',\n",
       "       'service_rating', 'smoker', 'drink_level', 'dress_preference',\n",
       "       'transport', 'budget', 'Rcuisine_Bar_Pub', 'Rcuisine_Asian',\n",
       "       'Rcuisine_Western', 'Rcuisine_American_Burgers', 'Rcuisine_Others',\n",
       "       'Rcuisine_Mexican', 'Rcuisine_Cafeteria', 'Rcuisine_Fast_Food'],\n",
       "      dtype='object')"
      ]
     },
     "execution_count": 253,
     "metadata": {},
     "output_type": "execute_result"
    }
   ],
   "source": [
    "res_total_user_feature_bkup.columns"
   ]
  },
  {
   "cell_type": "code",
   "execution_count": 254,
   "metadata": {
    "collapsed": true
   },
   "outputs": [],
   "source": [
    "res_total_user_feature_bkup['dress_preference'] = res_total_user_feature_bkup['dress_preference'].map({'informal':0, 'no preference':0, '?':0, 'formal': 1})"
   ]
  },
  {
   "cell_type": "code",
   "execution_count": 256,
   "metadata": {},
   "outputs": [
    {
     "data": {
      "text/plain": [
       "placeID                      0\n",
       "Rpayment                     0\n",
       "parking_lot                  0\n",
       "alcohol                      0\n",
       "smoking_area                 0\n",
       "dress_code                   0\n",
       "accessibility                0\n",
       "price                        0\n",
       "url                          0\n",
       "Rambience                    0\n",
       "franchise                    0\n",
       "area                         0\n",
       "other_services               0\n",
       "userID                       0\n",
       "rating                       0\n",
       "food_rating                  0\n",
       "service_rating               0\n",
       "smoker                       0\n",
       "drink_level                  0\n",
       "dress_preference             0\n",
       "transport                    0\n",
       "budget                       0\n",
       "Rcuisine_Bar_Pub             0\n",
       "Rcuisine_Asian               0\n",
       "Rcuisine_Western             0\n",
       "Rcuisine_American_Burgers    0\n",
       "Rcuisine_Others              0\n",
       "Rcuisine_Mexican             0\n",
       "Rcuisine_Cafeteria           0\n",
       "Rcuisine_Fast_Food           0\n",
       "dtype: int64"
      ]
     },
     "execution_count": 256,
     "metadata": {},
     "output_type": "execute_result"
    }
   ],
   "source": [
    "res_total_user_feature_bkup.isnull().sum()"
   ]
  },
  {
   "cell_type": "code",
   "execution_count": 255,
   "metadata": {
    "collapsed": true
   },
   "outputs": [],
   "source": [
    "res_total_user_feature_bkup.transport = res_total_user_feature_bkup.transport.fillna(0)"
   ]
  },
  {
   "cell_type": "code",
   "execution_count": 257,
   "metadata": {
    "collapsed": true
   },
   "outputs": [],
   "source": [
    "res_total_user_feature_bkup = res_total_user_feature_bkup.drop(['placeID','userID','food_rating',\n",
    "       'service_rating'], axis=1)"
   ]
  },
  {
   "cell_type": "code",
   "execution_count": 258,
   "metadata": {
    "collapsed": true
   },
   "outputs": [],
   "source": [
    "res_total_user_feature_bkup.to_csv('rbkup_1054.csv')"
   ]
  },
  {
   "cell_type": "code",
   "execution_count": null,
   "metadata": {
    "collapsed": true
   },
   "outputs": [],
   "source": [
    "from sklearn import datasets, linear_model\n",
    "from sklearn.metrics import mean_squared_error, r2_score\n",
    "\n",
    "\n",
    "# Use only one feature\n",
    "res_total_user_feature_bkup_X = diabetes.data[:, np.newaxis, 2]\n",
    "\n",
    "# Split the data into training/testing sets\n",
    "diabetes_X_train = diabetes_X[:-20]\n",
    "diabetes_X_test = diabetes_X[-20:]\n",
    "\n",
    "# Split the targets into training/testing sets\n",
    "diabetes_y_train = diabetes.target[:-20]\n",
    "diabetes_y_test = diabetes.target[-20:]\n",
    "\n",
    "# Create linear regression object\n",
    "regr = linear_model.LinearRegression()\n",
    "\n",
    "# Train the model using the training sets\n",
    "regr.fit(diabetes_X_train, diabetes_y_train)\n",
    "\n",
    "# Make predictions using the testing set\n",
    "diabetes_y_pred = regr.predict(diabetes_X_test)\n",
    "\n",
    "# The coefficients\n",
    "print('Coefficients: \\n', regr.coef_)\n",
    "# The mean squared error\n",
    "print(\"Mean squared error: %.2f\"\n",
    "      % mean_squared_error(diabetes_y_test, diabetes_y_pred))\n",
    "# Explained variance score: 1 is perfect prediction\n",
    "print('Variance score: %.2f' % r2_score(diabetes_y_test, diabetes_y_pred))\n",
    "\n",
    "# Plot outputs\n",
    "plt.scatter(diabetes_X_test, diabetes_y_test,  color='black')\n",
    "plt.plot(diabetes_X_test, diabetes_y_pred, color='blue', linewidth=3)\n",
    "\n",
    "plt.xticks(())\n",
    "plt.yticks(())\n",
    "\n",
    "plt.show()"
   ]
  },
  {
   "cell_type": "code",
   "execution_count": 261,
   "metadata": {
    "collapsed": true
   },
   "outputs": [],
   "source": [
    "split = np.random.rand(len(res_total_user_feature_bkup)) < 0.81\n",
    "train_df = res_total_user_feature_bkup[split]\n",
    "test_df = res_total_user_feature_bkup[~split]\n",
    "\n",
    "X_train = train_df.loc[:, train_df.columns != 'rating']\n",
    "y_train = train_df[\"rating\"]\n",
    "X_test = test_df.loc[:, test_df.columns != 'rating']\n",
    "y_test = test_df[\"rating\"]"
   ]
  },
  {
   "cell_type": "code",
   "execution_count": 262,
   "metadata": {},
   "outputs": [
    {
     "data": {
      "text/plain": [
       "935"
      ]
     },
     "execution_count": 262,
     "metadata": {},
     "output_type": "execute_result"
    }
   ],
   "source": [
    "len(X_train)"
   ]
  },
  {
   "cell_type": "code",
   "execution_count": 274,
   "metadata": {},
   "outputs": [
    {
     "name": "stdout",
     "output_type": "stream",
     "text": [
      "Coefficients: \n",
      " [ 3.33175914e-02 -2.77672956e-02 -7.20042177e-02  8.90168038e-02\n",
      "  5.25743762e-01 -4.87384423e-04  6.42422809e-02  9.33637501e-02\n",
      "  3.38807702e-03  2.30471202e-02  1.35226303e-01  2.66602062e-01\n",
      " -1.43734902e-01  4.74283290e-02  1.67259931e-01  1.18890085e-01\n",
      "  7.73728480e-02  3.19340662e-02  2.88215802e-02 -4.75235219e-02\n",
      "  3.44520834e-02  2.64448573e-01  7.76861647e-02 -1.56474046e-01\n",
      "  3.03641994e-02]\n",
      "Mean squared error: 0.60\n",
      "Variance score: 0.05\n"
     ]
    },
    {
     "data": {
      "image/png": "[encoded data removed]",
      "text/plain": [
       "<Figure size 432x288 with 1 Axes>"
      ]
     },
     "metadata": {},
     "output_type": "display_data"
    }
   ],
   "source": [
    "from sklearn import datasets, linear_model\n",
    "from sklearn.metrics import mean_squared_error, r2_score\n",
    "%matplotlib inline\n",
    "from sklearn.metrics import roc_auc_score, auc, roc_curve\n",
    "# Create linear regression object\n",
    "regr = linear_model.LinearRegression()\n",
    "\n",
    "# Train the model using the training sets\n",
    "regr.fit(X_train, y_train)\n",
    "\n",
    "# Make predictions using the testing set\n",
    "rating_pred = regr.predict(X_test)\n",
    "\n",
    "# The coefficients\n",
    "print('Coefficients: \\n', regr.coef_)\n",
    "# The mean squared error\n",
    "print(\"Mean squared error: %.2f\"\n",
    "      % mean_squared_error(y_test, rating_pred))\n",
    "\n",
    "# Explained variance score: 1 is perfect prediction\n",
    "print('Variance score: %.2f' % r2_score(y_test, rating_pred))\n",
    "\n",
    "# Plot outputs\n",
    "# plt.scatter(X_test, y_test,  color='black')\n",
    "plt.plot(y_test, rating_pred, color='blue')\n",
    "\n",
    "plt.xticks(())\n",
    "plt.yticks(())\n",
    "\n",
    "plt.show()\n",
    "\n",
    "# logisticRegr = linear_model.LinearRegression()\n",
    "# logisticRegr.fit(X_train,y_train)\n",
    "# logit_score = logisticRegr.predict_proba(X_test)\n",
    "\n",
    "\n",
    "\n",
    "# def plotAUC(truth, pred, lab):\n",
    "#     fpr, tpr, thresholds = roc_curve(truth, pred)\n",
    "#     roc_auc = auc(fpr, tpr)\n",
    "#     c = (np.random.rand(), np.random.rand(), np.random.rand())\n",
    "#     plt.plot(fpr, tpr, color=c, label= lab+' (AUC = %0.2f)' % roc_auc)\n",
    "#     plt.plot([0, 1], [0, 1], 'k--')\n",
    "#     plt.xlim([0.0, 1.0])\n",
    "#     plt.ylim([0.0, 1.0])\n",
    "#     plt.xlabel('FPR')\n",
    "#     plt.ylabel('TPR')\n",
    "#     plt.title('ROC')\n",
    "#     plt.legend(loc=\"lower right\")\n",
    "\n",
    "# plotAUC(y_test, logit_score, 'LR')  \n",
    "# plt.show()"
   ]
  },
  {
   "cell_type": "code",
   "execution_count": 278,
   "metadata": {},
   "outputs": [
    {
     "name": "stdout",
     "output_type": "stream",
     "text": [
      "0.7738798366074824\n",
      "0.7457038305235493\n"
     ]
    }
   ],
   "source": [
    "from math import sqrt\n",
    "rms = sqrt(mean_squared_error(y_test, rating_pred))\n",
    "print(rms)\n",
    "rms_train = sqrt(mean_squared_error(y_train, regr.predict(X_train)))\n",
    "print(rms_train)"
   ]
  },
  {
   "cell_type": "code",
   "execution_count": 273,
   "metadata": {},
   "outputs": [
    {
     "data": {
      "text/plain": [
       "array([1.11885066, 0.99404949, 1.47242473, 1.3051648 , 1.51985306,\n",
       "       1.3051648 , 1.0081338 , 1.09867184, 1.14610017, 1.06872732,\n",
       "       1.18761741, 1.28851529, 1.37715076, 1.03766133, 1.08508965,\n",
       "       1.20492126, 1.11503417, 0.98878308, 1.11243727, 1.08249275,\n",
       "       1.18244911, 1.40648843, 1.57280685, 1.39534457, 1.27551297,\n",
       "       1.04914074, 1.09832472, 1.00937916, 1.47780174, 1.30557596,\n",
       "       1.40188253, 1.12333314, 0.92264573, 1.21470684, 1.13173806,\n",
       "       1.30447596, 1.13815755, 1.30447596, 1.28854879, 1.19369214,\n",
       "       1.16857329, 1.21600162, 1.28840489, 0.94746554, 1.21600162,\n",
       "       1.24003504, 1.3348917 , 1.15175934, 1.19421809, 1.05048319,\n",
       "       1.22322109, 1.12691452, 1.22322109, 1.32703034, 1.20222916,\n",
       "       1.32703034, 1.27866049, 1.03496923, 1.06491375, 1.27310926,\n",
       "       1.09942984, 1.01409933, 1.01409933, 1.01409933, 1.18135926,\n",
       "       1.24316474, 1.09942984, 1.11463028, 1.44466141, 1.27740148,\n",
       "       1.32482981, 1.64092434, 1.39723308, 1.27740148, 1.1526003 ,\n",
       "       1.47079014, 1.30353021, 1.18464012, 1.18464012, 1.1439974 ,\n",
       "       1.04914074, 0.96860718, 1.0737138 , 1.34789056, 1.14250449,\n",
       "       1.14250449, 1.35500559, 1.30851878, 1.11131433, 1.35594711,\n",
       "       1.40337544, 1.18868718, 1.26014894, 1.32600259, 1.17557524,\n",
       "       1.14657223, 1.05668515, 1.09820239, 1.29627027, 1.39767654,\n",
       "       1.20047209, 1.33876949, 1.46357066, 1.29039964, 1.36777249,\n",
       "       1.02777465, 1.30851878, 1.27146592, 1.17971257, 1.27966893,\n",
       "       1.47177368, 1.37691702, 1.25708542, 1.65672035, 1.11811922,\n",
       "       1.0881747 , 1.13560303, 1.21297587, 1.16554755, 1.45224002,\n",
       "       1.23755176, 1.28498009, 1.14663486, 1.37536617, 1.32712553,\n",
       "       1.04819499, 1.11197366, 0.86457   , 1.11243727, 1.51373314,\n",
       "       1.03749023, 1.38234545, 1.23864579, 1.04654105, 1.25070501,\n",
       "       1.46445175, 1.46507668, 1.02613771, 0.99619319, 1.33089119,\n",
       "       1.78349576, 1.63976086, 0.96432865, 1.01175698, 0.8869558 ,\n",
       "       1.2858946 , 0.94495525, 1.03376883, 1.18636345, 1.67613741,\n",
       "       1.47987448, 1.50245799, 1.47987448, 1.43150463, 1.32944946,\n",
       "       1.15627844, 1.27151575, 0.97512081, 0.97512081, 0.95618708,\n",
       "       1.09495241, 1.12212117, 1.47533003, 1.10281213, 1.19297052,\n",
       "       1.1681257 , 1.26443227, 1.09811386, 0.95973556, 1.25179667,\n",
       "       1.17442382, 0.98326059, 0.98968008, 1.06063344, 1.08453674,\n",
       "       1.5680396 , 1.52061127, 1.35335134, 1.44831348, 1.33216424,\n",
       "       1.61321456, 1.01595663, 1.18321656, 1.18963605, 1.29244363,\n",
       "       1.1526172 , 1.1816202 , 1.20004553, 0.98968008, 1.34565389,\n",
       "       1.34565389, 1.32923505, 1.11454679, 1.08298849, 1.20778967,\n",
       "       1.1093645 , 1.30656895, 0.97664958, 1.08021393, 1.05584886,\n",
       "       1.19116947, 1.11056695, 1.27782689, 0.92415715, 1.04895833,\n",
       "       1.23866677, 1.45241351, 1.22720736, 1.13140919, 1.10737576,\n",
       "       1.2868775 , 2.03332158, 1.15312786, 0.9145363 , 1.0582712 ,\n",
       "       1.0582712 , 1.0754417 , 1.11790045, 0.98058504, 1.02801337,\n",
       "       1.16532878, 0.98058504, 1.24270163, 0.98058504, 0.99806885,\n",
       "       1.14048396])"
      ]
     },
     "execution_count": 273,
     "metadata": {},
     "output_type": "execute_result"
    }
   ],
   "source": [
    "rating_pred"
   ]
  },
  {
   "cell_type": "code",
   "execution_count": null,
   "metadata": {
    "collapsed": true
   },
   "outputs": [],
   "source": []
  }
 ],
 "metadata": {
  "kernelspec": {
   "display_name": "Python 3",
   "language": "python",
   "name": "python3"
  },
  "language_info": {
   "codemirror_mode": {
    "name": "ipython",
    "version": 3
   },
   "file_extension": ".py",
   "mimetype": "text/x-python",
   "name": "python",
   "nbconvert_exporter": "python",
   "pygments_lexer": "ipython3",
   "version": "3.7.3"
  }
 },
 "nbformat": 4,
 "nbformat_minor": 1
}
