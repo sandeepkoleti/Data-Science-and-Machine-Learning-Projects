{
 "cells": [
  {
   "cell_type": "code",
   "execution_count": 3,
   "metadata": {
    "collapsed": true
   },
   "outputs": [
    {
     "name": "stdout",
     "output_type": "stream",
     "text": [
      "(3723, 19)\n"
     ]
    }
   ],
   "source": [
    "import pandas as pd\n",
    "\n",
    "dc_listings = pd.read_csv('dc_airbnb.csv')\n",
    "print(dc_listings.shape)"
   ]
  },
  {
   "cell_type": "code",
   "execution_count": 4,
   "metadata": {},
   "outputs": [
    {
     "name": "stdout",
     "output_type": "stream",
     "text": [
      "1\n"
     ]
    }
   ],
   "source": [
    "# Calculating Eucledian distance between first living space and our accommodation\n",
    "import numpy as np\n",
    "our_acc_value = 3\n",
    "first_living_space_value = dc_listings.loc[0,'accommodates']\n",
    "first_distance = np.abs(first_living_space_value - our_acc_value)\n",
    "print(first_distance)"
   ]
  },
  {
   "cell_type": "code",
   "execution_count": 5,
   "metadata": {},
   "outputs": [
    {
     "data": {
      "text/plain": [
       "0      461\n1     2294\n2      503\n3      279\n4       35\n5       73\n6       17\n7       22\n8        7\n9       12\n10       2\n11       4\n12       6\n13       8\nName: distance, dtype: int64"
      ]
     },
     "execution_count": 5,
     "metadata": {},
     "output_type": "execute_result"
    }
   ],
   "source": [
    "# Creating new column distance by finding the absolute value of the difference between each living space accommdation and our value\n",
    "# Also, looking at the range of values we have using pd.value_counts()\n",
    "dc_listings['distance'] = np.abs(dc_listings.accommodates - our_acc_value)\n",
    "dc_listings.distance.value_counts().sort_index()"
   ]
  },
  {
   "cell_type": "code",
   "execution_count": 6,
   "metadata": {},
   "outputs": [
    {
     "name": "stdout",
     "output_type": "stream",
     "text": [
      "     host_response_rate host_acceptance_rate  host_listings_count  \\\n2645               100%                 100%                    1   \n2825               100%                 100%                    1   \n2145               100%                 100%                    1   \n2541                NaN                  NaN                    1   \n3349                90%                 100%                    1   \n\n      accommodates        room_type  bedrooms  bathrooms  beds     price  \\\n2645             3  Entire home/apt       1.0        1.0   1.0   $75.00    \n2825             3  Entire home/apt       3.0        2.0   2.0  $120.00    \n2145             3     Private room       1.0        2.0   2.0   $90.00    \n2541             3     Private room       1.0        1.0   1.0   $50.00    \n3349             3  Entire home/apt       1.0        1.0   1.0  $105.00    \n\n     security_deposit cleaning_fee  minimum_nights  maximum_nights  \\\n2645         $300.00       $50.00                7             180   \n2825              NaN          NaN               1            1125   \n2145              NaN          NaN               1            1125   \n2541              NaN      $25.00                1            1125   \n3349         $100.00       $50.00                1            1125   \n\n      number_of_reviews   latitude  longitude        city zipcode state  \\\n2645                 24  38.927614 -76.995799  Washington   20017    DC   \n2825                  0  38.929772 -77.026908  Washington   20010    DC   \n2145                 55  38.900895 -77.001037  Washington   20002    DC   \n2541                  1  38.939758 -77.014023  Washington   20011    DC   \n3349                  7  38.933036 -77.073194  Washington   20016    DC   \n\n      distance  \n2645         0  \n2825         0  \n2145         0  \n2541         0  \n3349         0  \n"
     ]
    }
   ],
   "source": [
    "# So there are 461 listings with a distance of 0 which means they accomodate same number of people as we do.\n",
    "# Randomizing 100% of the samples for our prediction\n",
    "\n",
    "dc_listings = dc_listings.sample(frac=1, random_state=0)\n",
    "dc_listings = dc_listings.sort_values('distance')\n",
    "print(dc_listings.head())"
   ]
  },
  {
   "cell_type": "code",
   "execution_count": 7,
   "metadata": {},
   "outputs": [
    {
     "name": "stdout",
     "output_type": "stream",
     "text": [
      "88.0\n"
     ]
    }
   ],
   "source": [
    "# Converting price column data type from object to number\n",
    "dc_listings['price'] = dc_listings.price.str.replace(\"\\$|,\",'').astype(float)\n",
    "\n",
    "mean_price = dc_listings.price.iloc[:5].mean()\n",
    "print(mean_price)"
   ]
  },
  {
   "cell_type": "code",
   "execution_count": 8,
   "metadata": {},
   "outputs": [
    {
     "name": "stdout",
     "output_type": "stream",
     "text": [
      "2645     75.0\n2825    120.0\n2145     90.0\n2541     50.0\n3349    105.0\nName: price, dtype: float64\n"
     ]
    }
   ],
   "source": [
    "print(dc_listings.price.head())"
   ]
  },
  {
   "cell_type": "code",
   "execution_count": 9,
   "metadata": {},
   "outputs": [
    {
     "name": "stdout",
     "output_type": "stream",
     "text": [
      "(2792, 20)\n(931, 20)\n"
     ]
    }
   ],
   "source": [
    "# This shows that based on just 'accommodates' feature, the price of our listing should be around the mean value of $135.2\n",
    "# Evaluating our model by creating new datasets - training set and test with 75%-25% split\n",
    "dc_listings.drop('distance', axis=1)\n",
    "train_df = dc_listings.iloc[:2792]\n",
    "test_df = dc_listings.iloc[2792:]\n",
    "print(train_df.shape)\n",
    "print(test_df.shape)"
   ]
  },
  {
   "cell_type": "code",
   "execution_count": 10,
   "metadata": {},
   "outputs": [
    {
     "name": "stderr",
     "output_type": "stream",
     "text": [
      "C:\\Program Files (x86)\\Microsoft Visual Studio\\Shared\\Anaconda3_64\\lib\\site-packages\\ipykernel_launcher.py:4: SettingWithCopyWarning: \nA value is trying to be set on a copy of a slice from a DataFrame.\nTry using .loc[row_indexer,col_indexer] = value instead\n\nSee the caveats in the documentation: http://pandas.pydata.org/pandas-docs/stable/indexing.html#indexing-view-versus-copy\n  after removing the cwd from sys.path.\n"
     ]
    },
    {
     "name": "stdout",
     "output_type": "stream",
     "text": [
      "2850     83.6\n2279     83.6\n2771    340.4\n910     340.4\n2434    340.4\nName: predicted_price, dtype: float64\n"
     ]
    },
    {
     "name": "stderr",
     "output_type": "stream",
     "text": [
      "C:\\Program Files (x86)\\Microsoft Visual Studio\\Shared\\Anaconda3_64\\lib\\site-packages\\ipykernel_launcher.py:10: SettingWithCopyWarning: \nA value is trying to be set on a copy of a slice from a DataFrame.\nTry using .loc[row_indexer,col_indexer] = value instead\n\nSee the caveats in the documentation: http://pandas.pydata.org/pandas-docs/stable/indexing.html#indexing-view-versus-copy\n  # Remove the CWD from sys.path while we load stuff.\n"
     ]
    }
   ],
   "source": [
    "# Creating method for calculating distance and predicting price\n",
    "def predict_price(new_listing_value, feature_column):\n",
    "    temp_df = train_df\n",
    "    temp_df['distance'] = np.abs(dc_listings[feature_column] - new_listing_value)\n",
    "    temp_df = temp_df.sort_values('distance')\n",
    "    knn_5 = temp_df.price.iloc[:5]\n",
    "    predicted_price = knn_5.mean()\n",
    "    return(predicted_price)\n",
    "\n",
    "test_df['predicted_price'] = test_df.accommodates.apply(predict_price, feature_column = 'accommodates')\n",
    "print(test_df['predicted_price'].head())"
   ]
  },
  {
   "cell_type": "code",
   "execution_count": 11,
   "metadata": {},
   "outputs": [
    {
     "name": "stdout",
     "output_type": "stream",
     "text": [
      "212.98927967051543\n"
     ]
    },
    {
     "name": "stderr",
     "output_type": "stream",
     "text": [
      "C:\\Program Files (x86)\\Microsoft Visual Studio\\Shared\\Anaconda3_64\\lib\\site-packages\\ipykernel_launcher.py:2: SettingWithCopyWarning: \nA value is trying to be set on a copy of a slice from a DataFrame.\nTry using .loc[row_indexer,col_indexer] = value instead\n\nSee the caveats in the documentation: http://pandas.pydata.org/pandas-docs/stable/indexing.html#indexing-view-versus-copy\n  \n"
     ]
    }
   ],
   "source": [
    "# Calculating root mean square error\n",
    "test_df['squared_error'] = (test_df['predicted_price'] - test_df['price'])**2\n",
    "mse = test_df['squared_error'].mean()\n",
    "rmse = mse **(1/2)\n",
    "print(rmse)"
   ]
  },
  {
   "cell_type": "code",
   "execution_count": 12,
   "metadata": {},
   "outputs": [
    {
     "name": "stderr",
     "output_type": "stream",
     "text": [
      "C:\\Program Files (x86)\\Microsoft Visual Studio\\Shared\\Anaconda3_64\\lib\\site-packages\\ipykernel_launcher.py:4: SettingWithCopyWarning: \nA value is trying to be set on a copy of a slice from a DataFrame.\nTry using .loc[row_indexer,col_indexer] = value instead\n\nSee the caveats in the documentation: http://pandas.pydata.org/pandas-docs/stable/indexing.html#indexing-view-versus-copy\n  after removing the cwd from sys.path.\n"
     ]
    },
    {
     "name": "stderr",
     "output_type": "stream",
     "text": [
      "C:\\Program Files (x86)\\Microsoft Visual Studio\\Shared\\Anaconda3_64\\lib\\site-packages\\ipykernel_launcher.py:2: SettingWithCopyWarning: \nA value is trying to be set on a copy of a slice from a DataFrame.\nTry using .loc[row_indexer,col_indexer] = value instead\n\nSee the caveats in the documentation: http://pandas.pydata.org/pandas-docs/stable/indexing.html#indexing-view-versus-copy\n  \nC:\\Program Files (x86)\\Microsoft Visual Studio\\Shared\\Anaconda3_64\\lib\\site-packages\\ipykernel_launcher.py:3: SettingWithCopyWarning: \nA value is trying to be set on a copy of a slice from a DataFrame.\nTry using .loc[row_indexer,col_indexer] = value instead\n\nSee the caveats in the documentation: http://pandas.pydata.org/pandas-docs/stable/indexing.html#indexing-view-versus-copy\n  This is separate from the ipykernel package so we can avoid doing imports until\n"
     ]
    },
    {
     "name": "stdout",
     "output_type": "stream",
     "text": [
      "Root Mean Squared Error for the accommodates column: 212.98927967051543\n"
     ]
    },
    {
     "name": "stdout",
     "output_type": "stream",
     "text": [
      "Root Mean Squared Error for the bedrooms column: 216.49048609414763\n"
     ]
    },
    {
     "name": "stdout",
     "output_type": "stream",
     "text": [
      "Root Mean Squared Error for the bathrooms column: 216.89419042215684\n"
     ]
    },
    {
     "name": "stdout",
     "output_type": "stream",
     "text": [
      "Root Mean Squared Error for the number_of_reviews column: 240.21528314334847\n"
     ]
    }
   ],
   "source": [
    "for feature in ['accommodates', 'bedrooms','bathrooms', 'number_of_reviews' ]:\n",
    "    test_df['predicted_price'] = test_df.accommodates.apply(predict_price, feature_column = feature)\n",
    "    test_df['squared_error'] = (test_df['predicted_price'] - test_df['price'])**2\n",
    "    mse = test_df['squared_error'].mean()\n",
    "    rmse = mse ** (1/2)\n",
    "    print(\"Root Mean Squared Error for the {} column: {}\".format(feature, rmse))"
   ]
  },
  {
   "cell_type": "code",
   "execution_count": null,
   "metadata": {},
   "outputs": [],
   "source": [
    ""
   ]
  }
 ],
 "metadata": {
  "kernelspec": {
   "display_name": "Python 2",
   "language": "python",
   "name": "python2"
  },
  "language_info": {
   "codemirror_mode": {
    "name": "ipython",
    "version": 2.0
   },
   "file_extension": ".py",
   "mimetype": "text/x-python",
   "name": "python",
   "nbconvert_exporter": "python",
   "pygments_lexer": "ipython2",
   "version": "2.7.6"
  }
 },
 "nbformat": 4,
 "nbformat_minor": 0
}
